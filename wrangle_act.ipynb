{
 "cells": [
  {
   "cell_type": "markdown",
   "metadata": {},
   "source": [
    "## Project:\n",
    "\n",
    "### WeRateDogs Wrangle and Analyze Data"
   ]
  },
  {
   "cell_type": "markdown",
   "metadata": {},
   "source": [
    "## Key Points\n",
    "\n",
    "### Key points to keep in mind when data wrangling:\n",
    "\n",
    "- You only want original ratings (no retweets) that have images. Though there are 5000+ tweets in the dataset, not all are dog ratings and some are retweets.\n",
    "\n",
    "- Assessing and cleaning the entire dataset completely would require a lot of time, and is not necessary to practice and demonstrate your skills in data wrangling. Therefore, the requirements of this project are only to assess and clean at least 8 quality issues and at least 2 tidiness issues in this dataset.\n",
    "\n",
    "- Cleaning includes merging individual pieces of data according to the rules of tidy data.\n",
    "\n",
    "- The fact that the rating numerators are greater than the denominators does not need to be cleaned. This unique rating system is a big part of the popularity of WeRateDogs.\n",
    "\n",
    "- You do not need to gather the tweets beyond August 1st, 2017. You can, but note that you won't be able to gather the image predictions for these tweets since you don't have access to the algorithm used.\n"
   ]
  },
  {
   "cell_type": "markdown",
   "metadata": {},
   "source": [
    "## Gather"
   ]
  },
  {
   "cell_type": "code",
   "execution_count": 1,
   "metadata": {},
   "outputs": [],
   "source": [
    "import numpy as np\n",
    "import pandas as pd\n",
    "import requests\n",
    "import matplotlib.pyplot as plt\n",
    "import json"
   ]
  },
  {
   "cell_type": "markdown",
   "metadata": {},
   "source": [
    "### Load Tweets from twitter-archive-enhanced.csv"
   ]
  },
  {
   "cell_type": "code",
   "execution_count": 2,
   "metadata": {},
   "outputs": [],
   "source": [
    "tweets = pd.read_csv('twitter-archive-enhanced.csv')"
   ]
  },
  {
   "cell_type": "markdown",
   "metadata": {},
   "source": [
    "### Load imgs data frame Image Predictions File"
   ]
  },
  {
   "cell_type": "code",
   "execution_count": 3,
   "metadata": {},
   "outputs": [],
   "source": [
    "url = 'https://d17h27t6h515a5.cloudfront.net/topher/2017/August/599fd2ad_image-predictions/image-predictions.tsv'\n",
    "response = requests.get(url)\n",
    "\n",
    "if response.status_code == 200 :\n",
    "    with open(url.split('/')[-1], mode='wb') as file:\n",
    "        file.write(response.content)\n",
    "    \n",
    "    imgs_predicts = pd.read_csv('image-predictions.tsv',sep='\\t')\n",
    "else:\n",
    "    print('Error in getting images predictions file')"
   ]
  },
  {
   "cell_type": "markdown",
   "metadata": {},
   "source": [
    "### Load Additional Data via the Twitter API \n",
    "\n",
    "downloaded the file manually and load json"
   ]
  },
  {
   "cell_type": "code",
   "execution_count": 4,
   "metadata": {},
   "outputs": [],
   "source": [
    "api_info = pd.read_json('tweet-json.txt' , lines=True)"
   ]
  },
  {
   "cell_type": "markdown",
   "metadata": {},
   "source": [
    "## Assess"
   ]
  },
  {
   "cell_type": "markdown",
   "metadata": {},
   "source": [
    "### Assess tweets df\n",
    "- get info , stats about tweets df\n",
    "\n",
    "### findings:\n",
    "- interesting columns are: 'tweet_id', 'timestamp','text', 'rating_numerator', 'rating_denominator', 'name', 'doggo', 'floofer', 'pupper', 'puppo'\n",
    "\n",
    "- unneeded columns\n",
    "    - (retweet) related columns not needed : 'retweeted_status_id', 'retweeted_status_user_id', 'retweeted_status_timestamp'\n",
    "    \n",
    "    - (in-reply) related columns, source and expanded_urls are not needed \n",
    "    \n",
    "- Data Types:\n",
    "    - tweet_id needed to be string\n",
    "    - timestamp needed to be datetime\n",
    "    - doggo,floofer,pupper and puppo should be one column (dog stage) of type category [tidiness]\n",
    "    \n",
    "- text column has both text and tweet url [tidiness]\n",
    "\n",
    "- there are 745 row with name has None value. [Missing values]\n",
    "\n",
    "- there are 79 row with name length < 3 , names have these values ['a', 'Bo', 'an', 'my', 'O', 'Mo', 'Jo', 'by', 'Al', 'Ed', 'JD' ]\n",
    "\n",
    "- this list of bad names should be extracted from text or counted as missing name : ['a','an','Al','JD','O','my','by','the']\n",
    "\n",
    "- there are 1976 row of tweets where all dog 'stage' are None. [Missing values]\n",
    "\n",
    "- there are 14 row have multiple dog stage\n",
    "\n",
    "- there are 23 row with rating denominator != 10 , 20 row > 10 and 3 rows < 10 [1 row with 0 ,1 row with 2 and 1 row with 7] ,all rating < 10 should be corrected manually\n",
    "\n",
    "- After investigating the three entries with denominator< 10 , there are some data needed to be checked manually\n",
    "    - rating at tweet in index 2335 should be extracted from text\n",
    "\n",
    "- rating_numerator and rating_denominator should be one column reflect rating_numerator/rating_denominator of type float [tidiness]\n"
   ]
  },
  {
   "cell_type": "code",
   "execution_count": 5,
   "metadata": {},
   "outputs": [
    {
     "data": {
      "text/html": [
       "<div>\n",
       "<style scoped>\n",
       "    .dataframe tbody tr th:only-of-type {\n",
       "        vertical-align: middle;\n",
       "    }\n",
       "\n",
       "    .dataframe tbody tr th {\n",
       "        vertical-align: top;\n",
       "    }\n",
       "\n",
       "    .dataframe thead th {\n",
       "        text-align: right;\n",
       "    }\n",
       "</style>\n",
       "<table border=\"1\" class=\"dataframe\">\n",
       "  <thead>\n",
       "    <tr style=\"text-align: right;\">\n",
       "      <th></th>\n",
       "      <th>tweet_id</th>\n",
       "      <th>in_reply_to_status_id</th>\n",
       "      <th>in_reply_to_user_id</th>\n",
       "      <th>timestamp</th>\n",
       "      <th>source</th>\n",
       "      <th>text</th>\n",
       "      <th>retweeted_status_id</th>\n",
       "      <th>retweeted_status_user_id</th>\n",
       "      <th>retweeted_status_timestamp</th>\n",
       "      <th>expanded_urls</th>\n",
       "      <th>rating_numerator</th>\n",
       "      <th>rating_denominator</th>\n",
       "      <th>name</th>\n",
       "      <th>doggo</th>\n",
       "      <th>floofer</th>\n",
       "      <th>pupper</th>\n",
       "      <th>puppo</th>\n",
       "    </tr>\n",
       "  </thead>\n",
       "  <tbody>\n",
       "    <tr>\n",
       "      <th>290</th>\n",
       "      <td>838150277551247360</td>\n",
       "      <td>8.381455e+17</td>\n",
       "      <td>21955058.0</td>\n",
       "      <td>2017-03-04 22:12:52 +0000</td>\n",
       "      <td>&lt;a href=\"http://twitter.com/download/iphone\" r...</td>\n",
       "      <td>@markhoppus 182/10</td>\n",
       "      <td>NaN</td>\n",
       "      <td>NaN</td>\n",
       "      <td>NaN</td>\n",
       "      <td>NaN</td>\n",
       "      <td>182</td>\n",
       "      <td>10</td>\n",
       "      <td>None</td>\n",
       "      <td>None</td>\n",
       "      <td>None</td>\n",
       "      <td>None</td>\n",
       "      <td>None</td>\n",
       "    </tr>\n",
       "    <tr>\n",
       "      <th>1753</th>\n",
       "      <td>678800283649069056</td>\n",
       "      <td>NaN</td>\n",
       "      <td>NaN</td>\n",
       "      <td>2015-12-21 04:52:53 +0000</td>\n",
       "      <td>&lt;a href=\"http://twitter.com/download/iphone\" r...</td>\n",
       "      <td>Here's a pupper with some mean tan lines. Snaz...</td>\n",
       "      <td>NaN</td>\n",
       "      <td>NaN</td>\n",
       "      <td>NaN</td>\n",
       "      <td>https://twitter.com/dog_rates/status/678800283...</td>\n",
       "      <td>12</td>\n",
       "      <td>10</td>\n",
       "      <td>None</td>\n",
       "      <td>None</td>\n",
       "      <td>None</td>\n",
       "      <td>pupper</td>\n",
       "      <td>None</td>\n",
       "    </tr>\n",
       "    <tr>\n",
       "      <th>574</th>\n",
       "      <td>801127390143516673</td>\n",
       "      <td>NaN</td>\n",
       "      <td>NaN</td>\n",
       "      <td>2016-11-22 18:17:08 +0000</td>\n",
       "      <td>&lt;a href=\"http://twitter.com/download/iphone\" r...</td>\n",
       "      <td>RT @dog_rates: This is Anakin. He strives to r...</td>\n",
       "      <td>7.757333e+17</td>\n",
       "      <td>4.196984e+09</td>\n",
       "      <td>2016-09-13 16:30:07 +0000</td>\n",
       "      <td>https://twitter.com/dog_rates/status/775733305...</td>\n",
       "      <td>11</td>\n",
       "      <td>10</td>\n",
       "      <td>Anakin</td>\n",
       "      <td>doggo</td>\n",
       "      <td>None</td>\n",
       "      <td>None</td>\n",
       "      <td>None</td>\n",
       "    </tr>\n",
       "    <tr>\n",
       "      <th>215</th>\n",
       "      <td>851224888060895234</td>\n",
       "      <td>NaN</td>\n",
       "      <td>NaN</td>\n",
       "      <td>2017-04-10 00:06:42 +0000</td>\n",
       "      <td>&lt;a href=\"http://twitter.com/download/iphone\" r...</td>\n",
       "      <td>Meet Snoop. His number one passion is sticking...</td>\n",
       "      <td>NaN</td>\n",
       "      <td>NaN</td>\n",
       "      <td>NaN</td>\n",
       "      <td>https://twitter.com/dog_rates/status/851224888...</td>\n",
       "      <td>13</td>\n",
       "      <td>10</td>\n",
       "      <td>Snoop</td>\n",
       "      <td>None</td>\n",
       "      <td>None</td>\n",
       "      <td>None</td>\n",
       "      <td>None</td>\n",
       "    </tr>\n",
       "    <tr>\n",
       "      <th>144</th>\n",
       "      <td>863907417377173506</td>\n",
       "      <td>NaN</td>\n",
       "      <td>NaN</td>\n",
       "      <td>2017-05-15 00:02:33 +0000</td>\n",
       "      <td>&lt;a href=\"http://twitter.com/download/iphone\" r...</td>\n",
       "      <td>This is Albus. He's quite impressive at hide a...</td>\n",
       "      <td>NaN</td>\n",
       "      <td>NaN</td>\n",
       "      <td>NaN</td>\n",
       "      <td>https://twitter.com/dog_rates/status/863907417...</td>\n",
       "      <td>13</td>\n",
       "      <td>10</td>\n",
       "      <td>Albus</td>\n",
       "      <td>None</td>\n",
       "      <td>None</td>\n",
       "      <td>None</td>\n",
       "      <td>None</td>\n",
       "    </tr>\n",
       "  </tbody>\n",
       "</table>\n",
       "</div>"
      ],
      "text/plain": [
       "                tweet_id  in_reply_to_status_id  in_reply_to_user_id  \\\n",
       "290   838150277551247360           8.381455e+17           21955058.0   \n",
       "1753  678800283649069056                    NaN                  NaN   \n",
       "574   801127390143516673                    NaN                  NaN   \n",
       "215   851224888060895234                    NaN                  NaN   \n",
       "144   863907417377173506                    NaN                  NaN   \n",
       "\n",
       "                      timestamp  \\\n",
       "290   2017-03-04 22:12:52 +0000   \n",
       "1753  2015-12-21 04:52:53 +0000   \n",
       "574   2016-11-22 18:17:08 +0000   \n",
       "215   2017-04-10 00:06:42 +0000   \n",
       "144   2017-05-15 00:02:33 +0000   \n",
       "\n",
       "                                                 source  \\\n",
       "290   <a href=\"http://twitter.com/download/iphone\" r...   \n",
       "1753  <a href=\"http://twitter.com/download/iphone\" r...   \n",
       "574   <a href=\"http://twitter.com/download/iphone\" r...   \n",
       "215   <a href=\"http://twitter.com/download/iphone\" r...   \n",
       "144   <a href=\"http://twitter.com/download/iphone\" r...   \n",
       "\n",
       "                                                   text  retweeted_status_id  \\\n",
       "290                                  @markhoppus 182/10                  NaN   \n",
       "1753  Here's a pupper with some mean tan lines. Snaz...                  NaN   \n",
       "574   RT @dog_rates: This is Anakin. He strives to r...         7.757333e+17   \n",
       "215   Meet Snoop. His number one passion is sticking...                  NaN   \n",
       "144   This is Albus. He's quite impressive at hide a...                  NaN   \n",
       "\n",
       "      retweeted_status_user_id retweeted_status_timestamp  \\\n",
       "290                        NaN                        NaN   \n",
       "1753                       NaN                        NaN   \n",
       "574               4.196984e+09  2016-09-13 16:30:07 +0000   \n",
       "215                        NaN                        NaN   \n",
       "144                        NaN                        NaN   \n",
       "\n",
       "                                          expanded_urls  rating_numerator  \\\n",
       "290                                                 NaN               182   \n",
       "1753  https://twitter.com/dog_rates/status/678800283...                12   \n",
       "574   https://twitter.com/dog_rates/status/775733305...                11   \n",
       "215   https://twitter.com/dog_rates/status/851224888...                13   \n",
       "144   https://twitter.com/dog_rates/status/863907417...                13   \n",
       "\n",
       "      rating_denominator    name  doggo floofer  pupper puppo  \n",
       "290                   10    None   None    None    None  None  \n",
       "1753                  10    None   None    None  pupper  None  \n",
       "574                   10  Anakin  doggo    None    None  None  \n",
       "215                   10   Snoop   None    None    None  None  \n",
       "144                   10   Albus   None    None    None  None  "
      ]
     },
     "execution_count": 5,
     "metadata": {},
     "output_type": "execute_result"
    }
   ],
   "source": [
    "tweets.sample(5)"
   ]
  },
  {
   "cell_type": "code",
   "execution_count": 6,
   "metadata": {
    "scrolled": false
   },
   "outputs": [
    {
     "name": "stdout",
     "output_type": "stream",
     "text": [
      "<class 'pandas.core.frame.DataFrame'>\n",
      "RangeIndex: 2356 entries, 0 to 2355\n",
      "Data columns (total 17 columns):\n",
      " #   Column                      Non-Null Count  Dtype  \n",
      "---  ------                      --------------  -----  \n",
      " 0   tweet_id                    2356 non-null   int64  \n",
      " 1   in_reply_to_status_id       78 non-null     float64\n",
      " 2   in_reply_to_user_id         78 non-null     float64\n",
      " 3   timestamp                   2356 non-null   object \n",
      " 4   source                      2356 non-null   object \n",
      " 5   text                        2356 non-null   object \n",
      " 6   retweeted_status_id         181 non-null    float64\n",
      " 7   retweeted_status_user_id    181 non-null    float64\n",
      " 8   retweeted_status_timestamp  181 non-null    object \n",
      " 9   expanded_urls               2297 non-null   object \n",
      " 10  rating_numerator            2356 non-null   int64  \n",
      " 11  rating_denominator          2356 non-null   int64  \n",
      " 12  name                        2356 non-null   object \n",
      " 13  doggo                       2356 non-null   object \n",
      " 14  floofer                     2356 non-null   object \n",
      " 15  pupper                      2356 non-null   object \n",
      " 16  puppo                       2356 non-null   object \n",
      "dtypes: float64(4), int64(3), object(10)\n",
      "memory usage: 313.0+ KB\n"
     ]
    }
   ],
   "source": [
    "tweets.info()"
   ]
  },
  {
   "cell_type": "code",
   "execution_count": 7,
   "metadata": {
    "scrolled": false
   },
   "outputs": [
    {
     "data": {
      "text/plain": [
       "Index(['tweet_id', 'in_reply_to_status_id', 'in_reply_to_user_id', 'timestamp',\n",
       "       'source', 'text', 'retweeted_status_id', 'retweeted_status_user_id',\n",
       "       'retweeted_status_timestamp', 'expanded_urls', 'rating_numerator',\n",
       "       'rating_denominator', 'name', 'doggo', 'floofer', 'pupper', 'puppo'],\n",
       "      dtype='object')"
      ]
     },
     "execution_count": 7,
     "metadata": {},
     "output_type": "execute_result"
    }
   ],
   "source": [
    "tweets.columns"
   ]
  },
  {
   "cell_type": "code",
   "execution_count": 8,
   "metadata": {},
   "outputs": [
    {
     "data": {
      "text/plain": [
       "0"
      ]
     },
     "execution_count": 8,
     "metadata": {},
     "output_type": "execute_result"
    }
   ],
   "source": [
    "tweets.duplicated().sum()"
   ]
  },
  {
   "cell_type": "code",
   "execution_count": 9,
   "metadata": {},
   "outputs": [
    {
     "data": {
      "text/plain": [
       "tweet_id                         0\n",
       "in_reply_to_status_id         2278\n",
       "in_reply_to_user_id           2278\n",
       "timestamp                        0\n",
       "source                           0\n",
       "text                             0\n",
       "retweeted_status_id           2175\n",
       "retweeted_status_user_id      2175\n",
       "retweeted_status_timestamp    2175\n",
       "expanded_urls                   59\n",
       "rating_numerator                 0\n",
       "rating_denominator               0\n",
       "name                             0\n",
       "doggo                            0\n",
       "floofer                          0\n",
       "pupper                           0\n",
       "puppo                            0\n",
       "dtype: int64"
      ]
     },
     "execution_count": 9,
     "metadata": {},
     "output_type": "execute_result"
    }
   ],
   "source": [
    "tweets.isnull().sum()"
   ]
  },
  {
   "cell_type": "code",
   "execution_count": 10,
   "metadata": {
    "scrolled": false
   },
   "outputs": [
    {
     "data": {
      "text/html": [
       "<div>\n",
       "<style scoped>\n",
       "    .dataframe tbody tr th:only-of-type {\n",
       "        vertical-align: middle;\n",
       "    }\n",
       "\n",
       "    .dataframe tbody tr th {\n",
       "        vertical-align: top;\n",
       "    }\n",
       "\n",
       "    .dataframe thead th {\n",
       "        text-align: right;\n",
       "    }\n",
       "</style>\n",
       "<table border=\"1\" class=\"dataframe\">\n",
       "  <thead>\n",
       "    <tr style=\"text-align: right;\">\n",
       "      <th></th>\n",
       "      <th>tweet_id</th>\n",
       "      <th>in_reply_to_status_id</th>\n",
       "      <th>in_reply_to_user_id</th>\n",
       "      <th>retweeted_status_id</th>\n",
       "      <th>retweeted_status_user_id</th>\n",
       "      <th>rating_numerator</th>\n",
       "      <th>rating_denominator</th>\n",
       "    </tr>\n",
       "  </thead>\n",
       "  <tbody>\n",
       "    <tr>\n",
       "      <th>count</th>\n",
       "      <td>2.356000e+03</td>\n",
       "      <td>7.800000e+01</td>\n",
       "      <td>7.800000e+01</td>\n",
       "      <td>1.810000e+02</td>\n",
       "      <td>1.810000e+02</td>\n",
       "      <td>2356.000000</td>\n",
       "      <td>2356.000000</td>\n",
       "    </tr>\n",
       "    <tr>\n",
       "      <th>mean</th>\n",
       "      <td>7.427716e+17</td>\n",
       "      <td>7.455079e+17</td>\n",
       "      <td>2.014171e+16</td>\n",
       "      <td>7.720400e+17</td>\n",
       "      <td>1.241698e+16</td>\n",
       "      <td>13.126486</td>\n",
       "      <td>10.455433</td>\n",
       "    </tr>\n",
       "    <tr>\n",
       "      <th>std</th>\n",
       "      <td>6.856705e+16</td>\n",
       "      <td>7.582492e+16</td>\n",
       "      <td>1.252797e+17</td>\n",
       "      <td>6.236928e+16</td>\n",
       "      <td>9.599254e+16</td>\n",
       "      <td>45.876648</td>\n",
       "      <td>6.745237</td>\n",
       "    </tr>\n",
       "    <tr>\n",
       "      <th>min</th>\n",
       "      <td>6.660209e+17</td>\n",
       "      <td>6.658147e+17</td>\n",
       "      <td>1.185634e+07</td>\n",
       "      <td>6.661041e+17</td>\n",
       "      <td>7.832140e+05</td>\n",
       "      <td>0.000000</td>\n",
       "      <td>0.000000</td>\n",
       "    </tr>\n",
       "    <tr>\n",
       "      <th>25%</th>\n",
       "      <td>6.783989e+17</td>\n",
       "      <td>6.757419e+17</td>\n",
       "      <td>3.086374e+08</td>\n",
       "      <td>7.186315e+17</td>\n",
       "      <td>4.196984e+09</td>\n",
       "      <td>10.000000</td>\n",
       "      <td>10.000000</td>\n",
       "    </tr>\n",
       "    <tr>\n",
       "      <th>50%</th>\n",
       "      <td>7.196279e+17</td>\n",
       "      <td>7.038708e+17</td>\n",
       "      <td>4.196984e+09</td>\n",
       "      <td>7.804657e+17</td>\n",
       "      <td>4.196984e+09</td>\n",
       "      <td>11.000000</td>\n",
       "      <td>10.000000</td>\n",
       "    </tr>\n",
       "    <tr>\n",
       "      <th>75%</th>\n",
       "      <td>7.993373e+17</td>\n",
       "      <td>8.257804e+17</td>\n",
       "      <td>4.196984e+09</td>\n",
       "      <td>8.203146e+17</td>\n",
       "      <td>4.196984e+09</td>\n",
       "      <td>12.000000</td>\n",
       "      <td>10.000000</td>\n",
       "    </tr>\n",
       "    <tr>\n",
       "      <th>max</th>\n",
       "      <td>8.924206e+17</td>\n",
       "      <td>8.862664e+17</td>\n",
       "      <td>8.405479e+17</td>\n",
       "      <td>8.874740e+17</td>\n",
       "      <td>7.874618e+17</td>\n",
       "      <td>1776.000000</td>\n",
       "      <td>170.000000</td>\n",
       "    </tr>\n",
       "  </tbody>\n",
       "</table>\n",
       "</div>"
      ],
      "text/plain": [
       "           tweet_id  in_reply_to_status_id  in_reply_to_user_id  \\\n",
       "count  2.356000e+03           7.800000e+01         7.800000e+01   \n",
       "mean   7.427716e+17           7.455079e+17         2.014171e+16   \n",
       "std    6.856705e+16           7.582492e+16         1.252797e+17   \n",
       "min    6.660209e+17           6.658147e+17         1.185634e+07   \n",
       "25%    6.783989e+17           6.757419e+17         3.086374e+08   \n",
       "50%    7.196279e+17           7.038708e+17         4.196984e+09   \n",
       "75%    7.993373e+17           8.257804e+17         4.196984e+09   \n",
       "max    8.924206e+17           8.862664e+17         8.405479e+17   \n",
       "\n",
       "       retweeted_status_id  retweeted_status_user_id  rating_numerator  \\\n",
       "count         1.810000e+02              1.810000e+02       2356.000000   \n",
       "mean          7.720400e+17              1.241698e+16         13.126486   \n",
       "std           6.236928e+16              9.599254e+16         45.876648   \n",
       "min           6.661041e+17              7.832140e+05          0.000000   \n",
       "25%           7.186315e+17              4.196984e+09         10.000000   \n",
       "50%           7.804657e+17              4.196984e+09         11.000000   \n",
       "75%           8.203146e+17              4.196984e+09         12.000000   \n",
       "max           8.874740e+17              7.874618e+17       1776.000000   \n",
       "\n",
       "       rating_denominator  \n",
       "count         2356.000000  \n",
       "mean            10.455433  \n",
       "std              6.745237  \n",
       "min              0.000000  \n",
       "25%             10.000000  \n",
       "50%             10.000000  \n",
       "75%             10.000000  \n",
       "max            170.000000  "
      ]
     },
     "execution_count": 10,
     "metadata": {},
     "output_type": "execute_result"
    }
   ],
   "source": [
    "tweets.describe()"
   ]
  },
  {
   "cell_type": "code",
   "execution_count": 11,
   "metadata": {
    "scrolled": true
   },
   "outputs": [
    {
     "name": "stdout",
     "output_type": "stream",
     "text": [
      "there are 745 tweets with name has None value.\n",
      "there are 79 tweets with len(name) < 3 \n"
     ]
    },
    {
     "data": {
      "text/plain": [
       "a     55\n",
       "Bo     9\n",
       "an     7\n",
       "my     1\n",
       "Mo     1\n",
       "Jo     1\n",
       "by     1\n",
       "Al     1\n",
       "Ed     1\n",
       "JD     1\n",
       "O      1\n",
       "Name: name, dtype: int64"
      ]
     },
     "execution_count": 11,
     "metadata": {},
     "output_type": "execute_result"
    }
   ],
   "source": [
    "#findings for columns : 'name'\n",
    "\n",
    "print('there are {} tweets with name has None value.'.format(len(tweets[tweets['name'] == 'None'])))\n",
    "print('there are {} tweets with len(name) < 3 '.format(tweets[tweets['name'].str.len() < 3]['name'].count()))\n",
    "\n",
    "tweets[tweets['name'].str.len() < 3]['name'].value_counts()"
   ]
  },
  {
   "cell_type": "markdown",
   "metadata": {},
   "source": [
    "#### names retrived from text column\n",
    "\n",
    "tweet at index 775:  O'Malley\\\n",
    "tweet at index 820:  Al Cabone\\\n",
    "tweet at index 852:  Zoey\\\n",
    "tweet at index 1853:  Wylie\\\n",
    "tweet at index 1955:  Kip\\\n",
    "tweet at index 2034:  Jacob (Yacōb)\\\n",
    "tweet at index 2041:  JD (stands for \"just dog\")\\\n",
    "tweet at index 2066:  Rufus\\\n",
    "tweet at index 2116:  Spork\\\n",
    "tweet at index 2125:  Cherokee\\\n",
    "tweet at index 2128:  Hemry\\\n",
    "tweet at index 2146:  Alphred\\\n",
    "tweet at index 2161:  Alfredo\\\n",
    "tweet at index 2191:  Leroi\\\n",
    "tweet at index 2204:  Berta\\\n",
    "tweet at index 2218:  Chuk\\\n",
    "tweet at index 2235:  Alfonso\\\n",
    "tweet at index 2249:  Cheryl\\\n",
    "tweet at index 2255:  Jessiga\\\n",
    "tweet at index 2264:  Klint\\\n",
    "tweet at index 2273:  Kohl\\\n",
    "tweet at index 2287:  Daryl\\\n",
    "tweet at index 2304:  Pepe\\\n",
    "tweet at index 2311:  Octaviath\\\n",
    "tweet at index 2314:  Johm"
   ]
  },
  {
   "cell_type": "code",
   "execution_count": 12,
   "metadata": {},
   "outputs": [
    {
     "name": "stdout",
     "output_type": "stream",
     "text": [
      "there are 75 tweets with bad names.\n",
      "\n",
      "tweet at index 56:\n",
      " Here is a pupper approaching maximum borkdrive. Zooming at never before seen speeds. 14/10 paw-inspiring af \n",
      "(IG: puffie_the_chow) https://t.co/ghXBIIeQZF\n",
      "\n",
      "tweet at index 649:\n",
      " Here is a perfect example of someone who has their priorities in order. 13/10 for both owner and Forrest https://t.co/LRyMrU7Wfq\n",
      "\n",
      "tweet at index 759:\n",
      " RT @dog_rates: This is an East African Chalupa Seal. We only rate dogs. Please only send in dogs. Thank you... 10/10 https://t.co/iHe6liLwWR\n",
      "\n",
      "tweet at index 775:\n",
      " This is O'Malley. That is how he sleeps. Doesn't care what you think about it. 10/10 comfy af https://t.co/Pq150LeRaC\n",
      "\n",
      "tweet at index 801:\n",
      " Guys this is getting so out of hand. We only rate dogs. This is a Galapagos Speed Panda. Pls only send dogs... 10/10 https://t.co/8lpAGaZRFn\n",
      "\n",
      "tweet at index 820:\n",
      " Meet Al Cabone. He's a gangsta puppa. Rather h*ckin ruthless. Shows no mercy sometimes. 11/10 pet w extreme caution https://t.co/OUwWbEKOUV\n",
      "\n",
      "tweet at index 852:\n",
      " This is my dog. Her name is Zoey. She knows I've been rating other dogs. She's not happy. 13/10 no bias at all https://t.co/ep1NkYoiwB\n",
      "\n",
      "tweet at index 1002:\n",
      " This is a mighty rare blue-tailed hammer sherk. Human almost lost a limb trying to take these. Be careful guys. 8/10 https://t.co/TGenMeXreW\n",
      "\n",
      "tweet at index 1004:\n",
      " Viewer discretion is advised. This is a terrible attack in progress. Not even in water (tragic af). 4/10 bad sherk https://t.co/L3U0j14N5R\n",
      "\n",
      "tweet at index 1017:\n",
      " This is a carrot. We only rate dogs. Please only send in dogs. You all really should know this by now ...11/10 https://t.co/9e48aPrBm2\n",
      "\n",
      "tweet at index 1025:\n",
      " This is an Iraqi Speed Kangaroo. It is not a dog. Please only send in dogs. I'm very angry with all of you ...9/10 https://t.co/5qpBTTpgUt\n",
      "\n",
      "tweet at index 1049:\n",
      " This is a very rare Great Alaskan Bush Pupper. Hard to stumble upon without spooking. 12/10 would pet passionately https://t.co/xOBKCdpzaa\n",
      "\n",
      "tweet at index 1193:\n",
      " People please. This is a Deadly Mediterranean Plop T-Rex. We only rate dogs. Only send in dogs. Thanks you... 11/10 https://t.co/2ATDsgHD4n\n",
      "\n",
      "tweet at index 1207:\n",
      " This is a taco. We only rate dogs. Please only send in dogs. Dogs are what we rate. Not tacos. Thank you... 10/10 https://t.co/cxl6xGY8B9\n",
      "\n",
      "tweet at index 1340:\n",
      " Here is a heartbreaking scene of an incredible pupper being laid to rest. 10/10 RIP pupper https://t.co/81mvJ0rGRu\n",
      "\n",
      "tweet at index 1351:\n",
      " Here is a whole flock of puppers.  60/50 I'll take the lot https://t.co/9dpcw6MdWa\n",
      "\n",
      "tweet at index 1361:\n",
      " This is a Butternut Cumberfloof. It's not windy they just look like that. 11/10 back at it again with the red socks https://t.co/hMjzhdUHaW\n",
      "\n",
      "tweet at index 1362:\n",
      " This is an East African Chalupa Seal. We only rate dogs. Please only send in dogs. Thank you... 10/10 https://t.co/iHe6liLwWR\n",
      "\n",
      "tweet at index 1368:\n",
      " This is a Wild Tuscan Poofwiggle. Careful not to startle. Rare tongue slip. One eye magical. 12/10 would def pet https://t.co/4EnShAQjv6\n",
      "\n",
      "tweet at index 1382:\n",
      " \"Pupper is a present to world. Here is a bow for pupper.\" 12/10 precious as hell https://t.co/ItSsE92gCW\n",
      "\n",
      "tweet at index 1499:\n",
      " This is a rare Arctic Wubberfloof. Unamused by the happenings. No longer has the appetites. 12/10 would totally hug https://t.co/krvbacIX0N\n",
      "\n",
      "tweet at index 1527:\n",
      " Stop sending in lobsters. This is the final warning. We only rate dogs. Thank you... 9/10 https://t.co/B9ZXXKJYNx\n",
      "\n",
      "tweet at index 1603:\n",
      " This is the newly formed pupper a capella group. They're just starting out but I see tons of potential. 8/10 for all https://t.co/wbAcvFoNtn\n",
      "\n",
      "tweet at index 1724:\n",
      " This is by far the most coordinated series of pictures I was sent. Downright impressive in every way. 12/10 for all https://t.co/etzLo3sdZE\n",
      "\n",
      "tweet at index 1737:\n",
      " Guys this really needs to stop. We've been over this way too many times. This is a giraffe. We only rate dogs.. 7/10 https://t.co/yavgkHYPOC\n",
      "\n",
      "tweet at index 1785:\n",
      " This is a dog swinging. I really enjoyed it so I hope you all do as well. 11/10 https://t.co/Ozo9KHTRND\n",
      "\n",
      "tweet at index 1797:\n",
      " This is the happiest pupper I've ever seen. 10/10 would trade lives with https://t.co/ep8ATEJwRb\n",
      "\n",
      "tweet at index 1815:\n",
      " This is the saddest/sweetest/best picture I've been sent. 12/10 😢🐶 https://t.co/vQ2Lw1BLBF\n",
      "\n",
      "tweet at index 1853:\n",
      " This is a Sizzlin Menorah spaniel from Brooklyn named Wylie. Lovable eyes. Chiller as hell. 10/10 and I'm out.. poof https://t.co/7E0AiJXPmI\n",
      "\n",
      "tweet at index 1854:\n",
      " Seriously guys?! Only send in dogs. I only rate dogs. This is a baby black bear... 11/10 https://t.co/H7kpabTfLj\n",
      "\n",
      "tweet at index 1877:\n",
      " C'mon guys. We've been over this. We only rate dogs. This is a cow. Please only submit dogs. Thank you...... 9/10 https://t.co/WjcELNEqN2\n",
      "\n",
      "tweet at index 1878:\n",
      " This is a fluffy albino Bacardi Columbia mix. Excellent at the tweets. 11/10 would hug gently https://t.co/diboDRUuEI\n",
      "\n",
      "tweet at index 1923:\n",
      " This is a Sagitariot Baklava mix. Loves her new hat. 11/10 radiant pup https://t.co/Bko5kFJYUU\n",
      "\n",
      "tweet at index 1941:\n",
      " This is a heavily opinionated dog. Loves walls. Nobody knows how the hair works. Always ready for a kiss. 4/10 https://t.co/dFiaKZ9cDl\n",
      "\n",
      "tweet at index 1955:\n",
      " This is a Lofted Aphrodisiac Terrier named Kip. Big fan of bed n breakfasts. Fits perfectly. 10/10 would pet firmly https://t.co/gKlLpNzIl3\n",
      "\n",
      "tweet at index 1994:\n",
      " This is a baby Rand Paul. Curls for days. 11/10 would cuddle the hell out of https://t.co/xHXNaPAYRe\n",
      "\n",
      "tweet at index 2034:\n",
      " This is a Tuscaloosa Alcatraz named Jacob (Yacōb). Loves to sit in swing. Stellar tongue. 11/10 look at his feet https://t.co/2IslQ8ZSc7\n",
      "\n",
      "tweet at index 2037:\n",
      " This is the best thing I've ever seen so spread it like wildfire &amp; maybe we'll find the genius who created it. 13/10 https://t.co/q6RsuOVYwU\n",
      "\n",
      "tweet at index 2041:\n",
      " This is JD (stands for \"just dog\"). He's like Airbud but with trading card games instead of sports. 10/10 much skill https://t.co/zzueJV9jCF\n",
      "\n",
      "tweet at index 2066:\n",
      " This is a Helvetica Listerine named Rufus. This time Rufus will be ready for the UPS guy. He'll never expect it 9/10 https://t.co/34OhVhMkVr\n",
      "\n",
      "tweet at index 2116:\n",
      " This is a Deciduous Trimester mix named Spork. Only 1 ear works. No seat belt. Incredibly reckless. 9/10 still cute https://t.co/CtuJoLHiDo\n",
      "\n",
      "tweet at index 2125:\n",
      " This is a Rich Mahogany Seltzer named Cherokee. Just got destroyed by a snowball. Isn't very happy about it. 9/10 https://t.co/98ZBi6o4dj\n",
      "\n",
      "tweet at index 2128:\n",
      " This is a Speckled Cauliflower Yosemite named Hemry. He's terrified of intruder dog. Not one bit comfortable. 9/10 https://t.co/yV3Qgjh8iN\n",
      "\n",
      "tweet at index 2146:\n",
      " This is a spotted Lipitor Rumpelstiltskin named Alphred. He can't wait for the Turkey. 10/10 would pet really well https://t.co/6GUGO7azNX\n",
      "\n",
      "tweet at index 2153:\n",
      " This is a brave dog. Excellent free climber. Trying to get closer to God. Not very loyal though. Doesn't bark. 5/10 https://t.co/ODnILTr4QM\n",
      "\n",
      "tweet at index 2161:\n",
      " This is a Coriander Baton Rouge named Alfredo. Loves to cuddle with smaller well-dressed dog. 10/10 would hug lots https://t.co/eCRdwouKCl\n",
      "\n",
      "tweet at index 2191:\n",
      " This is a Slovakian Helter Skelter Feta named Leroi. Likes to skip on roofs. Good traction. Much balance. 10/10 wow! https://t.co/Dmy2mY2Qj5\n",
      "\n",
      "tweet at index 2198:\n",
      " This is a wild Toblerone from Papua New Guinea. Mouth always open. Addicted to hay. Acts blind. 7/10 handsome dog https://t.co/IGmVbz07tZ\n",
      "\n",
      "tweet at index 2204:\n",
      " This is an Irish Rigatoni terrier named Berta. Completely made of rope. No eyes. Quite large. Loves to dance. 10/10 https://t.co/EM5fDykrJg\n",
      "\n",
      "tweet at index 2211:\n",
      " Here is a horned dog. Much grace. Can jump over moons (dam!). Paws not soft. Bad at barking. 7/10 can still pet tho https://t.co/2Su7gmsnZm\n",
      "\n",
      "tweet at index 2212:\n",
      " Never forget this vine. You will not stop watching for at least 15 minutes. This is the second coveted.. 13/10 https://t.co/roqIxCvEB3\n",
      "\n",
      "tweet at index 2218:\n",
      " This is a Birmingham Quagmire named Chuk. Loves to relax and watch the game while sippin on that iced mocha. 10/10 https://t.co/HvNg9JWxFt\n",
      "\n",
      "tweet at index 2222:\n",
      " Here is a mother dog caring for her pups. Snazzy red mohawk. Doesn't wag tail. Pups look confused. Overall 4/10 https://t.co/YOHe6lf09m\n",
      "\n",
      "tweet at index 2235:\n",
      " This is a Trans Siberian Kellogg named Alfonso. Huge ass eyeballs. Actually Dobby from Harry Potter. 7/10 https://t.co/XpseHBlAAb\n",
      "\n",
      "tweet at index 2249:\n",
      " This is a Shotokon Macadamia mix named Cheryl. Sophisticated af. Looks like a disappointed librarian. Shh (lol) 9/10 https://t.co/J4GnJ5Swba\n",
      "\n",
      "tweet at index 2255:\n",
      " This is a rare Hungarian Pinot named Jessiga. She is either mid-stroke or got stuck in the washing machine. 8/10 https://t.co/ZU0i0KJyqD\n",
      "\n",
      "tweet at index 2264:\n",
      " This is a southwest Coriander named Klint. Hat looks expensive. Still on house arrest :(\n",
      "9/10 https://t.co/IQTOMqDUIe\n",
      "\n",
      "tweet at index 2273:\n",
      " This is a northern Wahoo named Kohl. He runs this town. Chases tumbleweeds. Draws gun wicked fast. 11/10 legendary https://t.co/J4vn2rOYFk\n",
      "\n",
      "tweet at index 2287:\n",
      " This is a Dasani Kingfisher from Maine. His name is Daryl. Daryl doesn't like being swallowed by a panda. 8/10 https://t.co/jpaeu6LNmW\n",
      "\n",
      "tweet at index 2304:\n",
      " This is a curly Ticonderoga named Pepe. No feet. Loves to jet ski. 11/10 would hug until forever https://t.co/cyDfaK8NBc\n",
      "\n",
      "tweet at index 2311:\n",
      " This is a purebred Bacardi named Octaviath. Can shoot spaghetti out of mouth. 10/10 https://t.co/uEvsGLOFHa\n",
      "\n",
      "tweet at index 2314:\n",
      " This is a golden Buckminsterfullerene named Johm. Drives trucks. Lumberjack (?). Enjoys wall. 8/10 would hug softly https://t.co/uQbZJM2DQB\n",
      "\n",
      "tweet at index 2327:\n",
      " This is a southern Vesuvius bumblegruff. Can drive a truck (wow). Made friends with 5 other nifty dogs (neat). 7/10 https://t.co/LopTBkKa8h\n",
      "\n",
      "tweet at index 2333:\n",
      " This is an extremely rare horned Parthenon. Not amused. Wears shoes. Overall very nice. 9/10 would pet aggressively https://t.co/QpRjllzWAL\n",
      "\n",
      "tweet at index 2334:\n",
      " This is a funny dog. Weird toes. Won't come down. Loves branch. Refuses to eat his food. Hard to cuddle with. 3/10 https://t.co/IIXis0zta0\n",
      "\n",
      "tweet at index 2335:\n",
      " This is an Albanian 3 1/2 legged  Episcopalian. Loves well-polished hardwood flooring. Penis on the collar. 9/10 https://t.co/d9NcXFKwLv\n",
      "\n",
      "tweet at index 2345:\n",
      " This is the happiest dog you will ever see. Very committed owner. Nice couch. 10/10 https://t.co/RhUEAloehK\n",
      "\n",
      "tweet at index 2346:\n",
      " Here is the Rand Paul of retrievers folks! He's probably good at poker. Can drink beer (lol rad). 8/10 good dog https://t.co/pYAJkAe76p\n",
      "\n",
      "tweet at index 2347:\n",
      " My oh my. This is a rare blond Canadian terrier on wheels. Only $8.98. Rather docile. 9/10 very rare https://t.co/yWBqbrzy8O\n",
      "\n",
      "tweet at index 2348:\n",
      " Here is a Siberian heavily armored polar bear mix. Strong owner. 10/10 I would do unspeakable things to pet this dog https://t.co/rdivxLiqEt\n",
      "\n",
      "tweet at index 2349:\n",
      " This is an odd dog. Hard on the outside but loving on the inside. Petting still fun. Doesn't play catch well. 2/10 https://t.co/v5A4vzSDdc\n",
      "\n",
      "tweet at index 2350:\n",
      " This is a truly beautiful English Wilson Staff retriever. Has a nice phone. Privileged. 10/10 would trade lives with https://t.co/fvIbQfHjIe\n",
      "\n",
      "tweet at index 2352:\n",
      " This is a purebred Piers Morgan. Loves to Netflix and chill. Always looks like he forgot to unplug the iron. 6/10 https://t.co/DWnyCjf2mx\n",
      "\n",
      "tweet at index 2353:\n",
      " Here is a very happy pup. Big fan of well-maintained decks. Just look at that tongue. 9/10 would cuddle af https://t.co/y671yMhoiR\n",
      "\n",
      "tweet at index 2354:\n",
      " This is a western brown Mitsubishi terrier. Upset about leaf. Actually 2 dogs here. 7/10 would walk the shit out of https://t.co/r7mOb2m0UI\n"
     ]
    }
   ],
   "source": [
    "#findings for columns : 'name','text'\n",
    "bad_names_list = ['a','an','Al','JD','O','my','by','the']\n",
    "bad_names = tweets[tweets['name'].apply(lambda x:x in bad_names_list)]\n",
    "print('there are {} tweets with bad names.'.format(len(bad_names)))\n",
    "\n",
    "for i in bad_names.index:\n",
    "    print('\\ntweet at index {}:\\n'.format(i),tweets.loc[i,'text'])"
   ]
  },
  {
   "cell_type": "code",
   "execution_count": 13,
   "metadata": {
    "scrolled": true
   },
   "outputs": [
    {
     "name": "stdout",
     "output_type": "stream",
     "text": [
      "None     2259\n",
      "doggo      97\n",
      "Name: doggo, dtype: int64\n",
      "\n",
      "None       2346\n",
      "floofer      10\n",
      "Name: floofer, dtype: int64\n",
      "\n",
      "None      2099\n",
      "pupper     257\n",
      "Name: pupper, dtype: int64\n",
      "\n",
      "None     2326\n",
      "puppo      30\n",
      "Name: puppo, dtype: int64\n",
      "\n"
     ]
    }
   ],
   "source": [
    "#findings for columns : 'doggo' , 'floofer' , 'pupper' , 'puppo'\n",
    "\n",
    "print(tweets['doggo'].value_counts(),end='\\n\\n')\n",
    "print(tweets['floofer'].value_counts(),end='\\n\\n')\n",
    "print(tweets['pupper'].value_counts(),end='\\n\\n')\n",
    "print(tweets['puppo'].value_counts(),end='\\n\\n')"
   ]
  },
  {
   "cell_type": "code",
   "execution_count": 14,
   "metadata": {},
   "outputs": [
    {
     "name": "stdout",
     "output_type": "stream",
     "text": [
      "there are 1976 tweets that has (None) value all dog stage.\n"
     ]
    },
    {
     "data": {
      "text/html": [
       "<div>\n",
       "<style scoped>\n",
       "    .dataframe tbody tr th:only-of-type {\n",
       "        vertical-align: middle;\n",
       "    }\n",
       "\n",
       "    .dataframe tbody tr th {\n",
       "        vertical-align: top;\n",
       "    }\n",
       "\n",
       "    .dataframe thead th {\n",
       "        text-align: right;\n",
       "    }\n",
       "</style>\n",
       "<table border=\"1\" class=\"dataframe\">\n",
       "  <thead>\n",
       "    <tr style=\"text-align: right;\">\n",
       "      <th></th>\n",
       "      <th>tweet_id</th>\n",
       "      <th>in_reply_to_status_id</th>\n",
       "      <th>in_reply_to_user_id</th>\n",
       "      <th>timestamp</th>\n",
       "      <th>source</th>\n",
       "      <th>text</th>\n",
       "      <th>retweeted_status_id</th>\n",
       "      <th>retweeted_status_user_id</th>\n",
       "      <th>retweeted_status_timestamp</th>\n",
       "      <th>expanded_urls</th>\n",
       "      <th>rating_numerator</th>\n",
       "      <th>rating_denominator</th>\n",
       "      <th>name</th>\n",
       "      <th>doggo</th>\n",
       "      <th>floofer</th>\n",
       "      <th>pupper</th>\n",
       "      <th>puppo</th>\n",
       "    </tr>\n",
       "  </thead>\n",
       "  <tbody>\n",
       "    <tr>\n",
       "      <th>1959</th>\n",
       "      <td>673576835670777856</td>\n",
       "      <td>NaN</td>\n",
       "      <td>NaN</td>\n",
       "      <td>2015-12-06 18:56:46 +0000</td>\n",
       "      <td>&lt;a href=\"http://twitter.com/download/iphone\" r...</td>\n",
       "      <td>Sun burnt dog here. Quite large. Wants to prom...</td>\n",
       "      <td>NaN</td>\n",
       "      <td>NaN</td>\n",
       "      <td>NaN</td>\n",
       "      <td>https://twitter.com/dog_rates/status/673576835...</td>\n",
       "      <td>7</td>\n",
       "      <td>10</td>\n",
       "      <td>None</td>\n",
       "      <td>None</td>\n",
       "      <td>None</td>\n",
       "      <td>None</td>\n",
       "      <td>None</td>\n",
       "    </tr>\n",
       "    <tr>\n",
       "      <th>340</th>\n",
       "      <td>832215909146226688</td>\n",
       "      <td>NaN</td>\n",
       "      <td>NaN</td>\n",
       "      <td>2017-02-16 13:11:49 +0000</td>\n",
       "      <td>&lt;a href=\"http://twitter.com/download/iphone\" r...</td>\n",
       "      <td>RT @dog_rates: This is Logan, the Chow who liv...</td>\n",
       "      <td>7.867091e+17</td>\n",
       "      <td>4.196984e+09</td>\n",
       "      <td>2016-10-13 23:23:56 +0000</td>\n",
       "      <td>https://twitter.com/dog_rates/status/786709082...</td>\n",
       "      <td>75</td>\n",
       "      <td>10</td>\n",
       "      <td>Logan</td>\n",
       "      <td>None</td>\n",
       "      <td>None</td>\n",
       "      <td>None</td>\n",
       "      <td>None</td>\n",
       "    </tr>\n",
       "    <tr>\n",
       "      <th>875</th>\n",
       "      <td>761227390836215808</td>\n",
       "      <td>NaN</td>\n",
       "      <td>NaN</td>\n",
       "      <td>2016-08-04 15:48:47 +0000</td>\n",
       "      <td>&lt;a href=\"http://twitter.com/download/iphone\" r...</td>\n",
       "      <td>This is Albert. He just found out that bees ar...</td>\n",
       "      <td>NaN</td>\n",
       "      <td>NaN</td>\n",
       "      <td>NaN</td>\n",
       "      <td>https://twitter.com/dog_rates/status/761227390...</td>\n",
       "      <td>10</td>\n",
       "      <td>10</td>\n",
       "      <td>Albert</td>\n",
       "      <td>None</td>\n",
       "      <td>None</td>\n",
       "      <td>None</td>\n",
       "      <td>None</td>\n",
       "    </tr>\n",
       "    <tr>\n",
       "      <th>1134</th>\n",
       "      <td>728653952833728512</td>\n",
       "      <td>NaN</td>\n",
       "      <td>NaN</td>\n",
       "      <td>2016-05-06 18:33:34 +0000</td>\n",
       "      <td>&lt;a href=\"http://twitter.com/download/iphone\" r...</td>\n",
       "      <td>This is Coleman. Somebody needs to tell him th...</td>\n",
       "      <td>NaN</td>\n",
       "      <td>NaN</td>\n",
       "      <td>NaN</td>\n",
       "      <td>https://twitter.com/dog_rates/status/728653952...</td>\n",
       "      <td>8</td>\n",
       "      <td>10</td>\n",
       "      <td>Coleman</td>\n",
       "      <td>None</td>\n",
       "      <td>None</td>\n",
       "      <td>None</td>\n",
       "      <td>None</td>\n",
       "    </tr>\n",
       "    <tr>\n",
       "      <th>101</th>\n",
       "      <td>872668790621863937</td>\n",
       "      <td>NaN</td>\n",
       "      <td>NaN</td>\n",
       "      <td>2017-06-08 04:17:07 +0000</td>\n",
       "      <td>&lt;a href=\"http://twitter.com/download/iphone\" r...</td>\n",
       "      <td>RT @loganamnosis: Penelope here is doing me qu...</td>\n",
       "      <td>8.726576e+17</td>\n",
       "      <td>1.547674e+08</td>\n",
       "      <td>2017-06-08 03:32:35 +0000</td>\n",
       "      <td>https://twitter.com/loganamnosis/status/872657...</td>\n",
       "      <td>14</td>\n",
       "      <td>10</td>\n",
       "      <td>None</td>\n",
       "      <td>None</td>\n",
       "      <td>None</td>\n",
       "      <td>None</td>\n",
       "      <td>None</td>\n",
       "    </tr>\n",
       "  </tbody>\n",
       "</table>\n",
       "</div>"
      ],
      "text/plain": [
       "                tweet_id  in_reply_to_status_id  in_reply_to_user_id  \\\n",
       "1959  673576835670777856                    NaN                  NaN   \n",
       "340   832215909146226688                    NaN                  NaN   \n",
       "875   761227390836215808                    NaN                  NaN   \n",
       "1134  728653952833728512                    NaN                  NaN   \n",
       "101   872668790621863937                    NaN                  NaN   \n",
       "\n",
       "                      timestamp  \\\n",
       "1959  2015-12-06 18:56:46 +0000   \n",
       "340   2017-02-16 13:11:49 +0000   \n",
       "875   2016-08-04 15:48:47 +0000   \n",
       "1134  2016-05-06 18:33:34 +0000   \n",
       "101   2017-06-08 04:17:07 +0000   \n",
       "\n",
       "                                                 source  \\\n",
       "1959  <a href=\"http://twitter.com/download/iphone\" r...   \n",
       "340   <a href=\"http://twitter.com/download/iphone\" r...   \n",
       "875   <a href=\"http://twitter.com/download/iphone\" r...   \n",
       "1134  <a href=\"http://twitter.com/download/iphone\" r...   \n",
       "101   <a href=\"http://twitter.com/download/iphone\" r...   \n",
       "\n",
       "                                                   text  retweeted_status_id  \\\n",
       "1959  Sun burnt dog here. Quite large. Wants to prom...                  NaN   \n",
       "340   RT @dog_rates: This is Logan, the Chow who liv...         7.867091e+17   \n",
       "875   This is Albert. He just found out that bees ar...                  NaN   \n",
       "1134  This is Coleman. Somebody needs to tell him th...                  NaN   \n",
       "101   RT @loganamnosis: Penelope here is doing me qu...         8.726576e+17   \n",
       "\n",
       "      retweeted_status_user_id retweeted_status_timestamp  \\\n",
       "1959                       NaN                        NaN   \n",
       "340               4.196984e+09  2016-10-13 23:23:56 +0000   \n",
       "875                        NaN                        NaN   \n",
       "1134                       NaN                        NaN   \n",
       "101               1.547674e+08  2017-06-08 03:32:35 +0000   \n",
       "\n",
       "                                          expanded_urls  rating_numerator  \\\n",
       "1959  https://twitter.com/dog_rates/status/673576835...                 7   \n",
       "340   https://twitter.com/dog_rates/status/786709082...                75   \n",
       "875   https://twitter.com/dog_rates/status/761227390...                10   \n",
       "1134  https://twitter.com/dog_rates/status/728653952...                 8   \n",
       "101   https://twitter.com/loganamnosis/status/872657...                14   \n",
       "\n",
       "      rating_denominator     name doggo floofer pupper puppo  \n",
       "1959                  10     None  None    None   None  None  \n",
       "340                   10    Logan  None    None   None  None  \n",
       "875                   10   Albert  None    None   None  None  \n",
       "1134                  10  Coleman  None    None   None  None  \n",
       "101                   10     None  None    None   None  None  "
      ]
     },
     "execution_count": 14,
     "metadata": {},
     "output_type": "execute_result"
    }
   ],
   "source": [
    "not_doggo = tweets['doggo']=='None'\n",
    "not_floofer = tweets['floofer']=='None'\n",
    "not_pupper = tweets['pupper']=='None'\n",
    "not_puppo = tweets['puppo']=='None'\n",
    "\n",
    "#len(tweets[not_doggo & not_floofer & not_pupper & not_puppo])\n",
    "print('there are {} tweets that has (None) value all dog stage.'.format(len(tweets[not_doggo & not_floofer & not_pupper & not_puppo])))\n",
    "\n",
    "tweets[not_doggo & not_floofer & not_pupper & not_puppo].sample(5)"
   ]
  },
  {
   "cell_type": "code",
   "execution_count": 15,
   "metadata": {},
   "outputs": [
    {
     "name": "stdout",
     "output_type": "stream",
     "text": [
      "there are 14 row with multiple dog_stage.\n"
     ]
    }
   ],
   "source": [
    "def multiple_dog_stage(row):\n",
    "    return (row['doggo'] != 'None' and row['floofer'] != 'None') or \\\n",
    "(row['doggo'] != 'None' and row['pupper'] != 'None') or \\\n",
    "(row['doggo'] != 'None' and row['puppo'] != 'None') or \\\n",
    "(row['floofer'] != 'None' and row['pupper'] != 'None') or \\\n",
    "(row['floofer'] != 'None' and row['puppo'] != 'None') or \\\n",
    "(row['pupper'] != 'None' and row['puppo'] != 'None')\n",
    "\n",
    "print('there are {} row with multiple dog_stage.'.format(tweets.apply(multiple_dog_stage ,axis =1).sum()))"
   ]
  },
  {
   "cell_type": "code",
   "execution_count": 16,
   "metadata": {},
   "outputs": [
    {
     "data": {
      "text/plain": [
       "10     2333\n",
       "11        3\n",
       "50        3\n",
       "80        2\n",
       "20        2\n",
       "7         1\n",
       "2         1\n",
       "16        1\n",
       "40        1\n",
       "0         1\n",
       "15        1\n",
       "90        1\n",
       "110       1\n",
       "120       1\n",
       "130       1\n",
       "150       1\n",
       "170       1\n",
       "70        1\n",
       "Name: rating_denominator, dtype: int64"
      ]
     },
     "execution_count": 16,
     "metadata": {},
     "output_type": "execute_result"
    }
   ],
   "source": [
    "#findings for columns : 'rating_denominator'\n",
    "\n",
    "tweets['rating_denominator'].value_counts().sort_values(ascending = False)"
   ]
  },
  {
   "cell_type": "code",
   "execution_count": 17,
   "metadata": {
    "scrolled": false
   },
   "outputs": [
    {
     "data": {
      "text/plain": [
       "12      558\n",
       "11      464\n",
       "10      461\n",
       "13      351\n",
       "9       158\n",
       "8       102\n",
       "7        55\n",
       "14       54\n",
       "5        37\n",
       "6        32\n",
       "3        19\n",
       "4        17\n",
       "1         9\n",
       "2         9\n",
       "420       2\n",
       "0         2\n",
       "15        2\n",
       "75        2\n",
       "121       1\n",
       "80        1\n",
       "204       1\n",
       "24        1\n",
       "143       1\n",
       "99        1\n",
       "45        1\n",
       "27        1\n",
       "17        1\n",
       "1776      1\n",
       "960       1\n",
       "666       1\n",
       "182       1\n",
       "26        1\n",
       "144       1\n",
       "88        1\n",
       "84        1\n",
       "165       1\n",
       "60        1\n",
       "50        1\n",
       "44        1\n",
       "20        1\n",
       "Name: rating_numerator, dtype: int64"
      ]
     },
     "execution_count": 17,
     "metadata": {},
     "output_type": "execute_result"
    }
   ],
   "source": [
    "#findings for columns : 'rating_numerator'\n",
    "\n",
    "tweets['rating_numerator'].value_counts().sort_values(ascending = False)"
   ]
  },
  {
   "cell_type": "markdown",
   "metadata": {},
   "source": [
    "#### rating retrived from text for tweets where rating_denominator < 10\n",
    "tweet at index 313: 13/10 \\\n",
    "tweet at index 516: no rating \\\n",
    "tweet at index 2335 : 9/10 "
   ]
  },
  {
   "cell_type": "code",
   "execution_count": 18,
   "metadata": {
    "scrolled": true
   },
   "outputs": [
    {
     "name": "stdout",
     "output_type": "stream",
     "text": [
      "there are 23 row with deniminator != 10\n",
      "there are 20 row with deniminator > 10\n",
      "there are 3 row with deniminator < 10\n",
      "\n",
      "tweet at index 313:\n",
      " @jonnysun @Lin_Manuel ok jomny I know you're excited but 960/00 isn't a valid rating, 13/10 is tho\n",
      "\n",
      "tweet at index 516:\n",
      " Meet Sam. She smiles 24/7 &amp; secretly aspires to be a reindeer. \n",
      "Keep Sam smiling by clicking and sharing this link:\n",
      "https://t.co/98tB8y7y7t https://t.co/LouL5vdvxx\n",
      "\n",
      "tweet at index 2335:\n",
      " This is an Albanian 3 1/2 legged  Episcopalian. Loves well-polished hardwood flooring. Penis on the collar. 9/10 https://t.co/d9NcXFKwLv\n"
     ]
    }
   ],
   "source": [
    "#findings for columns : 'rating_numerator','rating_denominator'\n",
    "\n",
    "print('there are {} row with deniminator != 10'.format(len(tweets[tweets['rating_denominator']!=10])))\n",
    "print('there are {} row with deniminator > 10'.format(len(tweets[tweets['rating_denominator']>10])))\n",
    "print('there are {} row with deniminator < 10'.format(len(tweets[tweets['rating_denominator'] < 10])))\n",
    "\n",
    "#tweets.loc[tweets['rating_denominator'] < 10]\n",
    "\n",
    "for i in tweets[tweets['rating_denominator'] < 10].index:\n",
    "    print('\\ntweet at index {}:\\n'.format(i),tweets.loc[i,'text'])\n"
   ]
  },
  {
   "cell_type": "code",
   "execution_count": 19,
   "metadata": {},
   "outputs": [
    {
     "data": {
      "text/html": [
       "<div>\n",
       "<style scoped>\n",
       "    .dataframe tbody tr th:only-of-type {\n",
       "        vertical-align: middle;\n",
       "    }\n",
       "\n",
       "    .dataframe tbody tr th {\n",
       "        vertical-align: top;\n",
       "    }\n",
       "\n",
       "    .dataframe thead th {\n",
       "        text-align: right;\n",
       "    }\n",
       "</style>\n",
       "<table border=\"1\" class=\"dataframe\">\n",
       "  <thead>\n",
       "    <tr style=\"text-align: right;\">\n",
       "      <th></th>\n",
       "      <th>tweet_id</th>\n",
       "      <th>in_reply_to_status_id</th>\n",
       "      <th>in_reply_to_user_id</th>\n",
       "      <th>timestamp</th>\n",
       "      <th>source</th>\n",
       "      <th>text</th>\n",
       "      <th>retweeted_status_id</th>\n",
       "      <th>retweeted_status_user_id</th>\n",
       "      <th>retweeted_status_timestamp</th>\n",
       "      <th>expanded_urls</th>\n",
       "      <th>rating_numerator</th>\n",
       "      <th>rating_denominator</th>\n",
       "      <th>name</th>\n",
       "      <th>doggo</th>\n",
       "      <th>floofer</th>\n",
       "      <th>pupper</th>\n",
       "      <th>puppo</th>\n",
       "    </tr>\n",
       "  </thead>\n",
       "  <tbody>\n",
       "  </tbody>\n",
       "</table>\n",
       "</div>"
      ],
      "text/plain": [
       "Empty DataFrame\n",
       "Columns: [tweet_id, in_reply_to_status_id, in_reply_to_user_id, timestamp, source, text, retweeted_status_id, retweeted_status_user_id, retweeted_status_timestamp, expanded_urls, rating_numerator, rating_denominator, name, doggo, floofer, pupper, puppo]\n",
       "Index: []"
      ]
     },
     "execution_count": 19,
     "metadata": {},
     "output_type": "execute_result"
    }
   ],
   "source": [
    "#findings in columns : timestamp\n",
    "# No tweets after '2017-08-02' to be dropped\n",
    "\n",
    "tweets[tweets['timestamp'] > '2017-08-02']"
   ]
  },
  {
   "cell_type": "markdown",
   "metadata": {},
   "source": [
    "### Assess imgs_predicts df\n",
    "- get info , stats about imgs_predicts df\n",
    "\n",
    "### findings:\n",
    "- Data Types:\n",
    "    - tweet_id needed to be string\n",
    "- images_predictions df has 324 row predicted not to be dogs in all three algorithms.\n",
    "- predictions and predictions_conf could be merged in just one column with the prediction algo with the heightest conf [tidiness]\n",
    "- there are 2075 entry in images_predictions while having 2356 entry in tweets archive [there will be missing data after join]"
   ]
  },
  {
   "cell_type": "code",
   "execution_count": 20,
   "metadata": {
    "scrolled": true
   },
   "outputs": [
    {
     "data": {
      "text/html": [
       "<div>\n",
       "<style scoped>\n",
       "    .dataframe tbody tr th:only-of-type {\n",
       "        vertical-align: middle;\n",
       "    }\n",
       "\n",
       "    .dataframe tbody tr th {\n",
       "        vertical-align: top;\n",
       "    }\n",
       "\n",
       "    .dataframe thead th {\n",
       "        text-align: right;\n",
       "    }\n",
       "</style>\n",
       "<table border=\"1\" class=\"dataframe\">\n",
       "  <thead>\n",
       "    <tr style=\"text-align: right;\">\n",
       "      <th></th>\n",
       "      <th>tweet_id</th>\n",
       "      <th>jpg_url</th>\n",
       "      <th>img_num</th>\n",
       "      <th>p1</th>\n",
       "      <th>p1_conf</th>\n",
       "      <th>p1_dog</th>\n",
       "      <th>p2</th>\n",
       "      <th>p2_conf</th>\n",
       "      <th>p2_dog</th>\n",
       "      <th>p3</th>\n",
       "      <th>p3_conf</th>\n",
       "      <th>p3_dog</th>\n",
       "    </tr>\n",
       "  </thead>\n",
       "  <tbody>\n",
       "    <tr>\n",
       "      <th>802</th>\n",
       "      <td>691459709405118465</td>\n",
       "      <td>https://pbs.twimg.com/media/CZiO7mWUEAAa4zo.jpg</td>\n",
       "      <td>1</td>\n",
       "      <td>Shetland_sheepdog</td>\n",
       "      <td>0.551206</td>\n",
       "      <td>True</td>\n",
       "      <td>collie</td>\n",
       "      <td>0.232544</td>\n",
       "      <td>True</td>\n",
       "      <td>Border_collie</td>\n",
       "      <td>0.095218</td>\n",
       "      <td>True</td>\n",
       "    </tr>\n",
       "    <tr>\n",
       "      <th>1340</th>\n",
       "      <td>758740312047005698</td>\n",
       "      <td>https://pbs.twimg.com/media/CoeWSJcUIAAv3Bq.jpg</td>\n",
       "      <td>1</td>\n",
       "      <td>Chesapeake_Bay_retriever</td>\n",
       "      <td>0.848514</td>\n",
       "      <td>True</td>\n",
       "      <td>Labrador_retriever</td>\n",
       "      <td>0.110054</td>\n",
       "      <td>True</td>\n",
       "      <td>curly-coated_retriever</td>\n",
       "      <td>0.025201</td>\n",
       "      <td>True</td>\n",
       "    </tr>\n",
       "    <tr>\n",
       "      <th>389</th>\n",
       "      <td>673359818736984064</td>\n",
       "      <td>https://pbs.twimg.com/media/CVhBLohWEAAXtYl.jpg</td>\n",
       "      <td>1</td>\n",
       "      <td>English_setter</td>\n",
       "      <td>0.696568</td>\n",
       "      <td>True</td>\n",
       "      <td>Brittany_spaniel</td>\n",
       "      <td>0.104046</td>\n",
       "      <td>True</td>\n",
       "      <td>Ibizan_hound</td>\n",
       "      <td>0.034832</td>\n",
       "      <td>True</td>\n",
       "    </tr>\n",
       "    <tr>\n",
       "      <th>1893</th>\n",
       "      <td>849412302885593088</td>\n",
       "      <td>https://pbs.twimg.com/media/C8m3-iQVoAAETnF.jpg</td>\n",
       "      <td>4</td>\n",
       "      <td>schipperke</td>\n",
       "      <td>0.907559</td>\n",
       "      <td>True</td>\n",
       "      <td>crossword_puzzle</td>\n",
       "      <td>0.017934</td>\n",
       "      <td>False</td>\n",
       "      <td>Chihuahua</td>\n",
       "      <td>0.016191</td>\n",
       "      <td>True</td>\n",
       "    </tr>\n",
       "    <tr>\n",
       "      <th>550</th>\n",
       "      <td>677547928504967168</td>\n",
       "      <td>https://pbs.twimg.com/media/CWciPonWEAUOqLD.jpg</td>\n",
       "      <td>1</td>\n",
       "      <td>American_Staffordshire_terrier</td>\n",
       "      <td>0.914978</td>\n",
       "      <td>True</td>\n",
       "      <td>Staffordshire_bullterrier</td>\n",
       "      <td>0.084395</td>\n",
       "      <td>True</td>\n",
       "      <td>boxer</td>\n",
       "      <td>0.000462</td>\n",
       "      <td>True</td>\n",
       "    </tr>\n",
       "  </tbody>\n",
       "</table>\n",
       "</div>"
      ],
      "text/plain": [
       "                tweet_id                                          jpg_url  \\\n",
       "802   691459709405118465  https://pbs.twimg.com/media/CZiO7mWUEAAa4zo.jpg   \n",
       "1340  758740312047005698  https://pbs.twimg.com/media/CoeWSJcUIAAv3Bq.jpg   \n",
       "389   673359818736984064  https://pbs.twimg.com/media/CVhBLohWEAAXtYl.jpg   \n",
       "1893  849412302885593088  https://pbs.twimg.com/media/C8m3-iQVoAAETnF.jpg   \n",
       "550   677547928504967168  https://pbs.twimg.com/media/CWciPonWEAUOqLD.jpg   \n",
       "\n",
       "      img_num                              p1   p1_conf  p1_dog  \\\n",
       "802         1               Shetland_sheepdog  0.551206    True   \n",
       "1340        1        Chesapeake_Bay_retriever  0.848514    True   \n",
       "389         1                  English_setter  0.696568    True   \n",
       "1893        4                      schipperke  0.907559    True   \n",
       "550         1  American_Staffordshire_terrier  0.914978    True   \n",
       "\n",
       "                             p2   p2_conf  p2_dog                      p3  \\\n",
       "802                      collie  0.232544    True           Border_collie   \n",
       "1340         Labrador_retriever  0.110054    True  curly-coated_retriever   \n",
       "389            Brittany_spaniel  0.104046    True            Ibizan_hound   \n",
       "1893           crossword_puzzle  0.017934   False               Chihuahua   \n",
       "550   Staffordshire_bullterrier  0.084395    True                   boxer   \n",
       "\n",
       "       p3_conf  p3_dog  \n",
       "802   0.095218    True  \n",
       "1340  0.025201    True  \n",
       "389   0.034832    True  \n",
       "1893  0.016191    True  \n",
       "550   0.000462    True  "
      ]
     },
     "execution_count": 20,
     "metadata": {},
     "output_type": "execute_result"
    }
   ],
   "source": [
    "imgs_predicts.sample(5)"
   ]
  },
  {
   "cell_type": "code",
   "execution_count": 21,
   "metadata": {},
   "outputs": [
    {
     "name": "stdout",
     "output_type": "stream",
     "text": [
      "<class 'pandas.core.frame.DataFrame'>\n",
      "RangeIndex: 2075 entries, 0 to 2074\n",
      "Data columns (total 12 columns):\n",
      " #   Column    Non-Null Count  Dtype  \n",
      "---  ------    --------------  -----  \n",
      " 0   tweet_id  2075 non-null   int64  \n",
      " 1   jpg_url   2075 non-null   object \n",
      " 2   img_num   2075 non-null   int64  \n",
      " 3   p1        2075 non-null   object \n",
      " 4   p1_conf   2075 non-null   float64\n",
      " 5   p1_dog    2075 non-null   bool   \n",
      " 6   p2        2075 non-null   object \n",
      " 7   p2_conf   2075 non-null   float64\n",
      " 8   p2_dog    2075 non-null   bool   \n",
      " 9   p3        2075 non-null   object \n",
      " 10  p3_conf   2075 non-null   float64\n",
      " 11  p3_dog    2075 non-null   bool   \n",
      "dtypes: bool(3), float64(3), int64(2), object(4)\n",
      "memory usage: 152.1+ KB\n"
     ]
    }
   ],
   "source": [
    "imgs_predicts.info()"
   ]
  },
  {
   "cell_type": "code",
   "execution_count": 22,
   "metadata": {
    "scrolled": true
   },
   "outputs": [
    {
     "data": {
      "text/plain": [
       "Index(['tweet_id', 'jpg_url', 'img_num', 'p1', 'p1_conf', 'p1_dog', 'p2',\n",
       "       'p2_conf', 'p2_dog', 'p3', 'p3_conf', 'p3_dog'],\n",
       "      dtype='object')"
      ]
     },
     "execution_count": 22,
     "metadata": {},
     "output_type": "execute_result"
    }
   ],
   "source": [
    "imgs_predicts.columns"
   ]
  },
  {
   "cell_type": "code",
   "execution_count": 23,
   "metadata": {},
   "outputs": [
    {
     "data": {
      "text/plain": [
       "0"
      ]
     },
     "execution_count": 23,
     "metadata": {},
     "output_type": "execute_result"
    }
   ],
   "source": [
    "imgs_predicts.duplicated().sum()"
   ]
  },
  {
   "cell_type": "code",
   "execution_count": 24,
   "metadata": {},
   "outputs": [
    {
     "data": {
      "text/plain": [
       "0"
      ]
     },
     "execution_count": 24,
     "metadata": {},
     "output_type": "execute_result"
    }
   ],
   "source": [
    "imgs_predicts.isnull().sum().sum()"
   ]
  },
  {
   "cell_type": "code",
   "execution_count": 25,
   "metadata": {
    "scrolled": true
   },
   "outputs": [
    {
     "data": {
      "text/html": [
       "<div>\n",
       "<style scoped>\n",
       "    .dataframe tbody tr th:only-of-type {\n",
       "        vertical-align: middle;\n",
       "    }\n",
       "\n",
       "    .dataframe tbody tr th {\n",
       "        vertical-align: top;\n",
       "    }\n",
       "\n",
       "    .dataframe thead th {\n",
       "        text-align: right;\n",
       "    }\n",
       "</style>\n",
       "<table border=\"1\" class=\"dataframe\">\n",
       "  <thead>\n",
       "    <tr style=\"text-align: right;\">\n",
       "      <th></th>\n",
       "      <th>tweet_id</th>\n",
       "      <th>img_num</th>\n",
       "      <th>p1_conf</th>\n",
       "      <th>p2_conf</th>\n",
       "      <th>p3_conf</th>\n",
       "    </tr>\n",
       "  </thead>\n",
       "  <tbody>\n",
       "    <tr>\n",
       "      <th>count</th>\n",
       "      <td>2.075000e+03</td>\n",
       "      <td>2075.000000</td>\n",
       "      <td>2075.000000</td>\n",
       "      <td>2.075000e+03</td>\n",
       "      <td>2.075000e+03</td>\n",
       "    </tr>\n",
       "    <tr>\n",
       "      <th>mean</th>\n",
       "      <td>7.384514e+17</td>\n",
       "      <td>1.203855</td>\n",
       "      <td>0.594548</td>\n",
       "      <td>1.345886e-01</td>\n",
       "      <td>6.032417e-02</td>\n",
       "    </tr>\n",
       "    <tr>\n",
       "      <th>std</th>\n",
       "      <td>6.785203e+16</td>\n",
       "      <td>0.561875</td>\n",
       "      <td>0.271174</td>\n",
       "      <td>1.006657e-01</td>\n",
       "      <td>5.090593e-02</td>\n",
       "    </tr>\n",
       "    <tr>\n",
       "      <th>min</th>\n",
       "      <td>6.660209e+17</td>\n",
       "      <td>1.000000</td>\n",
       "      <td>0.044333</td>\n",
       "      <td>1.011300e-08</td>\n",
       "      <td>1.740170e-10</td>\n",
       "    </tr>\n",
       "    <tr>\n",
       "      <th>25%</th>\n",
       "      <td>6.764835e+17</td>\n",
       "      <td>1.000000</td>\n",
       "      <td>0.364412</td>\n",
       "      <td>5.388625e-02</td>\n",
       "      <td>1.622240e-02</td>\n",
       "    </tr>\n",
       "    <tr>\n",
       "      <th>50%</th>\n",
       "      <td>7.119988e+17</td>\n",
       "      <td>1.000000</td>\n",
       "      <td>0.588230</td>\n",
       "      <td>1.181810e-01</td>\n",
       "      <td>4.944380e-02</td>\n",
       "    </tr>\n",
       "    <tr>\n",
       "      <th>75%</th>\n",
       "      <td>7.932034e+17</td>\n",
       "      <td>1.000000</td>\n",
       "      <td>0.843855</td>\n",
       "      <td>1.955655e-01</td>\n",
       "      <td>9.180755e-02</td>\n",
       "    </tr>\n",
       "    <tr>\n",
       "      <th>max</th>\n",
       "      <td>8.924206e+17</td>\n",
       "      <td>4.000000</td>\n",
       "      <td>1.000000</td>\n",
       "      <td>4.880140e-01</td>\n",
       "      <td>2.734190e-01</td>\n",
       "    </tr>\n",
       "  </tbody>\n",
       "</table>\n",
       "</div>"
      ],
      "text/plain": [
       "           tweet_id      img_num      p1_conf       p2_conf       p3_conf\n",
       "count  2.075000e+03  2075.000000  2075.000000  2.075000e+03  2.075000e+03\n",
       "mean   7.384514e+17     1.203855     0.594548  1.345886e-01  6.032417e-02\n",
       "std    6.785203e+16     0.561875     0.271174  1.006657e-01  5.090593e-02\n",
       "min    6.660209e+17     1.000000     0.044333  1.011300e-08  1.740170e-10\n",
       "25%    6.764835e+17     1.000000     0.364412  5.388625e-02  1.622240e-02\n",
       "50%    7.119988e+17     1.000000     0.588230  1.181810e-01  4.944380e-02\n",
       "75%    7.932034e+17     1.000000     0.843855  1.955655e-01  9.180755e-02\n",
       "max    8.924206e+17     4.000000     1.000000  4.880140e-01  2.734190e-01"
      ]
     },
     "execution_count": 25,
     "metadata": {},
     "output_type": "execute_result"
    }
   ],
   "source": [
    "imgs_predicts.describe()"
   ]
  },
  {
   "cell_type": "code",
   "execution_count": 26,
   "metadata": {
    "scrolled": true
   },
   "outputs": [
    {
     "name": "stdout",
     "output_type": "stream",
     "text": [
      "images_predictions df has 324 row predicted not to be dogs in all three algorithms.\n"
     ]
    }
   ],
   "source": [
    "p1_not_dog = imgs_predicts['p1_dog'] == False\n",
    "p2_not_dog = imgs_predicts['p2_dog'] == False\n",
    "p3_not_dog = imgs_predicts['p3_dog'] == False\n",
    "\n",
    "#imgs_predicts[p1_not_dog & p2_not_dog & p3_not_dog].sample(5)\n",
    "\n",
    "print('images_predictions df has {} row predicted not to be dogs in all three algorithms.'.format(len(imgs_predicts[p1_not_dog & p2_not_dog & p3_not_dog])))"
   ]
  },
  {
   "cell_type": "markdown",
   "metadata": {},
   "source": [
    "### Assess api_info df\n",
    "- get info , stats about api_info df\n",
    "\n",
    "### findings:\n",
    "- Data Types:\n",
    "    - tweet_id needed to be string\n",
    "- the interesting columns are 'id', 'full_text', 'retweet_count', 'favorite_count'\n",
    "- there is 1 row with 0 retweet_count\n",
    "- there are 179 row with 0 favorite_count\n",
    "- there are 2354 entry in api_info while having 2356 entry in tweets archive [there will be missing data after join]"
   ]
  },
  {
   "cell_type": "code",
   "execution_count": 27,
   "metadata": {},
   "outputs": [
    {
     "data": {
      "text/html": [
       "<div>\n",
       "<style scoped>\n",
       "    .dataframe tbody tr th:only-of-type {\n",
       "        vertical-align: middle;\n",
       "    }\n",
       "\n",
       "    .dataframe tbody tr th {\n",
       "        vertical-align: top;\n",
       "    }\n",
       "\n",
       "    .dataframe thead th {\n",
       "        text-align: right;\n",
       "    }\n",
       "</style>\n",
       "<table border=\"1\" class=\"dataframe\">\n",
       "  <thead>\n",
       "    <tr style=\"text-align: right;\">\n",
       "      <th></th>\n",
       "      <th>id</th>\n",
       "      <th>full_text</th>\n",
       "      <th>retweet_count</th>\n",
       "      <th>favorite_count</th>\n",
       "    </tr>\n",
       "  </thead>\n",
       "  <tbody>\n",
       "    <tr>\n",
       "      <th>420</th>\n",
       "      <td>821886076407029760</td>\n",
       "      <td>This is Jimison. He was just called a good boy...</td>\n",
       "      <td>2692</td>\n",
       "      <td>12582</td>\n",
       "    </tr>\n",
       "    <tr>\n",
       "      <th>1460</th>\n",
       "      <td>694905863685980160</td>\n",
       "      <td>This is Archie. He's a Bisquick Taj Mapaw. Too...</td>\n",
       "      <td>1053</td>\n",
       "      <td>3046</td>\n",
       "    </tr>\n",
       "    <tr>\n",
       "      <th>1677</th>\n",
       "      <td>682032003584274432</td>\n",
       "      <td>This is Ulysses. He likes holding hands and hi...</td>\n",
       "      <td>2294</td>\n",
       "      <td>7223</td>\n",
       "    </tr>\n",
       "    <tr>\n",
       "      <th>83</th>\n",
       "      <td>876484053909872640</td>\n",
       "      <td>This is Benedict. He wants to thank you for th...</td>\n",
       "      <td>2511</td>\n",
       "      <td>19163</td>\n",
       "    </tr>\n",
       "    <tr>\n",
       "      <th>1277</th>\n",
       "      <td>708845821941387268</td>\n",
       "      <td>Here's a pupper with magic eyes. Not wearing a...</td>\n",
       "      <td>1015</td>\n",
       "      <td>3226</td>\n",
       "    </tr>\n",
       "  </tbody>\n",
       "</table>\n",
       "</div>"
      ],
      "text/plain": [
       "                      id                                          full_text  \\\n",
       "420   821886076407029760  This is Jimison. He was just called a good boy...   \n",
       "1460  694905863685980160  This is Archie. He's a Bisquick Taj Mapaw. Too...   \n",
       "1677  682032003584274432  This is Ulysses. He likes holding hands and hi...   \n",
       "83    876484053909872640  This is Benedict. He wants to thank you for th...   \n",
       "1277  708845821941387268  Here's a pupper with magic eyes. Not wearing a...   \n",
       "\n",
       "      retweet_count  favorite_count  \n",
       "420            2692           12582  \n",
       "1460           1053            3046  \n",
       "1677           2294            7223  \n",
       "83             2511           19163  \n",
       "1277           1015            3226  "
      ]
     },
     "execution_count": 27,
     "metadata": {},
     "output_type": "execute_result"
    }
   ],
   "source": [
    "api_info = api_info[['id', 'full_text', 'retweet_count', 'favorite_count']]\n",
    "api_info.sample(5)"
   ]
  },
  {
   "cell_type": "code",
   "execution_count": 28,
   "metadata": {
    "scrolled": true
   },
   "outputs": [
    {
     "name": "stdout",
     "output_type": "stream",
     "text": [
      "<class 'pandas.core.frame.DataFrame'>\n",
      "RangeIndex: 2354 entries, 0 to 2353\n",
      "Data columns (total 4 columns):\n",
      " #   Column          Non-Null Count  Dtype \n",
      "---  ------          --------------  ----- \n",
      " 0   id              2354 non-null   int64 \n",
      " 1   full_text       2354 non-null   object\n",
      " 2   retweet_count   2354 non-null   int64 \n",
      " 3   favorite_count  2354 non-null   int64 \n",
      "dtypes: int64(3), object(1)\n",
      "memory usage: 73.7+ KB\n"
     ]
    }
   ],
   "source": [
    "api_info.info()"
   ]
  },
  {
   "cell_type": "code",
   "execution_count": 29,
   "metadata": {},
   "outputs": [
    {
     "data": {
      "text/plain": [
       "0"
      ]
     },
     "execution_count": 29,
     "metadata": {},
     "output_type": "execute_result"
    }
   ],
   "source": [
    "api_info.duplicated().sum()"
   ]
  },
  {
   "cell_type": "code",
   "execution_count": 30,
   "metadata": {},
   "outputs": [
    {
     "data": {
      "text/plain": [
       "id                0\n",
       "full_text         0\n",
       "retweet_count     0\n",
       "favorite_count    0\n",
       "dtype: int64"
      ]
     },
     "execution_count": 30,
     "metadata": {},
     "output_type": "execute_result"
    }
   ],
   "source": [
    "api_info.isnull().sum()"
   ]
  },
  {
   "cell_type": "code",
   "execution_count": 31,
   "metadata": {
    "scrolled": true
   },
   "outputs": [
    {
     "data": {
      "text/html": [
       "<div>\n",
       "<style scoped>\n",
       "    .dataframe tbody tr th:only-of-type {\n",
       "        vertical-align: middle;\n",
       "    }\n",
       "\n",
       "    .dataframe tbody tr th {\n",
       "        vertical-align: top;\n",
       "    }\n",
       "\n",
       "    .dataframe thead th {\n",
       "        text-align: right;\n",
       "    }\n",
       "</style>\n",
       "<table border=\"1\" class=\"dataframe\">\n",
       "  <thead>\n",
       "    <tr style=\"text-align: right;\">\n",
       "      <th></th>\n",
       "      <th>id</th>\n",
       "      <th>retweet_count</th>\n",
       "      <th>favorite_count</th>\n",
       "    </tr>\n",
       "  </thead>\n",
       "  <tbody>\n",
       "    <tr>\n",
       "      <th>count</th>\n",
       "      <td>2.354000e+03</td>\n",
       "      <td>2354.000000</td>\n",
       "      <td>2354.000000</td>\n",
       "    </tr>\n",
       "    <tr>\n",
       "      <th>mean</th>\n",
       "      <td>7.426978e+17</td>\n",
       "      <td>3164.797366</td>\n",
       "      <td>8080.968564</td>\n",
       "    </tr>\n",
       "    <tr>\n",
       "      <th>std</th>\n",
       "      <td>6.852812e+16</td>\n",
       "      <td>5284.770364</td>\n",
       "      <td>11814.771334</td>\n",
       "    </tr>\n",
       "    <tr>\n",
       "      <th>min</th>\n",
       "      <td>6.660209e+17</td>\n",
       "      <td>0.000000</td>\n",
       "      <td>0.000000</td>\n",
       "    </tr>\n",
       "    <tr>\n",
       "      <th>25%</th>\n",
       "      <td>6.783975e+17</td>\n",
       "      <td>624.500000</td>\n",
       "      <td>1415.000000</td>\n",
       "    </tr>\n",
       "    <tr>\n",
       "      <th>50%</th>\n",
       "      <td>7.194596e+17</td>\n",
       "      <td>1473.500000</td>\n",
       "      <td>3603.500000</td>\n",
       "    </tr>\n",
       "    <tr>\n",
       "      <th>75%</th>\n",
       "      <td>7.993058e+17</td>\n",
       "      <td>3652.000000</td>\n",
       "      <td>10122.250000</td>\n",
       "    </tr>\n",
       "    <tr>\n",
       "      <th>max</th>\n",
       "      <td>8.924206e+17</td>\n",
       "      <td>79515.000000</td>\n",
       "      <td>132810.000000</td>\n",
       "    </tr>\n",
       "  </tbody>\n",
       "</table>\n",
       "</div>"
      ],
      "text/plain": [
       "                 id  retweet_count  favorite_count\n",
       "count  2.354000e+03    2354.000000     2354.000000\n",
       "mean   7.426978e+17    3164.797366     8080.968564\n",
       "std    6.852812e+16    5284.770364    11814.771334\n",
       "min    6.660209e+17       0.000000        0.000000\n",
       "25%    6.783975e+17     624.500000     1415.000000\n",
       "50%    7.194596e+17    1473.500000     3603.500000\n",
       "75%    7.993058e+17    3652.000000    10122.250000\n",
       "max    8.924206e+17   79515.000000   132810.000000"
      ]
     },
     "execution_count": 31,
     "metadata": {},
     "output_type": "execute_result"
    }
   ],
   "source": [
    "api_info.describe()"
   ]
  },
  {
   "cell_type": "code",
   "execution_count": 32,
   "metadata": {},
   "outputs": [
    {
     "data": {
      "text/html": [
       "<div>\n",
       "<style scoped>\n",
       "    .dataframe tbody tr th:only-of-type {\n",
       "        vertical-align: middle;\n",
       "    }\n",
       "\n",
       "    .dataframe tbody tr th {\n",
       "        vertical-align: top;\n",
       "    }\n",
       "\n",
       "    .dataframe thead th {\n",
       "        text-align: right;\n",
       "    }\n",
       "</style>\n",
       "<table border=\"1\" class=\"dataframe\">\n",
       "  <thead>\n",
       "    <tr style=\"text-align: right;\">\n",
       "      <th></th>\n",
       "      <th>id</th>\n",
       "      <th>full_text</th>\n",
       "      <th>retweet_count</th>\n",
       "      <th>favorite_count</th>\n",
       "    </tr>\n",
       "  </thead>\n",
       "  <tbody>\n",
       "    <tr>\n",
       "      <th>31</th>\n",
       "      <td>886054160059072513</td>\n",
       "      <td>RT @Athletics: 12/10 #BATP https://t.co/WxwJmv...</td>\n",
       "      <td>108</td>\n",
       "      <td>0</td>\n",
       "    </tr>\n",
       "    <tr>\n",
       "      <th>35</th>\n",
       "      <td>885311592912609280</td>\n",
       "      <td>RT @dog_rates: This is Lilly. She just paralle...</td>\n",
       "      <td>19297</td>\n",
       "      <td>0</td>\n",
       "    </tr>\n",
       "    <tr>\n",
       "      <th>67</th>\n",
       "      <td>879130579576475649</td>\n",
       "      <td>RT @dog_rates: This is Emmy. She was adopted t...</td>\n",
       "      <td>7181</td>\n",
       "      <td>0</td>\n",
       "    </tr>\n",
       "    <tr>\n",
       "      <th>72</th>\n",
       "      <td>878404777348136964</td>\n",
       "      <td>RT @dog_rates: Meet Shadow. In an attempt to r...</td>\n",
       "      <td>1349</td>\n",
       "      <td>0</td>\n",
       "    </tr>\n",
       "    <tr>\n",
       "      <th>73</th>\n",
       "      <td>878316110768087041</td>\n",
       "      <td>RT @dog_rates: Meet Terrance. He's being yelle...</td>\n",
       "      <td>6965</td>\n",
       "      <td>0</td>\n",
       "    </tr>\n",
       "    <tr>\n",
       "      <th>...</th>\n",
       "      <td>...</td>\n",
       "      <td>...</td>\n",
       "      <td>...</td>\n",
       "      <td>...</td>\n",
       "    </tr>\n",
       "    <tr>\n",
       "      <th>1021</th>\n",
       "      <td>746521445350707200</td>\n",
       "      <td>RT @dog_rates: This is Shaggy. He knows exactl...</td>\n",
       "      <td>1110</td>\n",
       "      <td>0</td>\n",
       "    </tr>\n",
       "    <tr>\n",
       "      <th>1041</th>\n",
       "      <td>743835915802583040</td>\n",
       "      <td>RT @dog_rates: Extremely intelligent dog here....</td>\n",
       "      <td>2387</td>\n",
       "      <td>0</td>\n",
       "    </tr>\n",
       "    <tr>\n",
       "      <th>1240</th>\n",
       "      <td>711998809858043904</td>\n",
       "      <td>RT @twitter: @dog_rates Awesome Tweet! 12/10. ...</td>\n",
       "      <td>138</td>\n",
       "      <td>0</td>\n",
       "    </tr>\n",
       "    <tr>\n",
       "      <th>2257</th>\n",
       "      <td>667550904950915073</td>\n",
       "      <td>RT @dogratingrating: Exceptional talent. Origi...</td>\n",
       "      <td>37</td>\n",
       "      <td>0</td>\n",
       "    </tr>\n",
       "    <tr>\n",
       "      <th>2258</th>\n",
       "      <td>667550882905632768</td>\n",
       "      <td>RT @dogratingrating: Unoriginal idea. Blatant ...</td>\n",
       "      <td>34</td>\n",
       "      <td>0</td>\n",
       "    </tr>\n",
       "  </tbody>\n",
       "</table>\n",
       "<p>179 rows × 4 columns</p>\n",
       "</div>"
      ],
      "text/plain": [
       "                      id                                          full_text  \\\n",
       "31    886054160059072513  RT @Athletics: 12/10 #BATP https://t.co/WxwJmv...   \n",
       "35    885311592912609280  RT @dog_rates: This is Lilly. She just paralle...   \n",
       "67    879130579576475649  RT @dog_rates: This is Emmy. She was adopted t...   \n",
       "72    878404777348136964  RT @dog_rates: Meet Shadow. In an attempt to r...   \n",
       "73    878316110768087041  RT @dog_rates: Meet Terrance. He's being yelle...   \n",
       "...                  ...                                                ...   \n",
       "1021  746521445350707200  RT @dog_rates: This is Shaggy. He knows exactl...   \n",
       "1041  743835915802583040  RT @dog_rates: Extremely intelligent dog here....   \n",
       "1240  711998809858043904  RT @twitter: @dog_rates Awesome Tweet! 12/10. ...   \n",
       "2257  667550904950915073  RT @dogratingrating: Exceptional talent. Origi...   \n",
       "2258  667550882905632768  RT @dogratingrating: Unoriginal idea. Blatant ...   \n",
       "\n",
       "      retweet_count  favorite_count  \n",
       "31              108               0  \n",
       "35            19297               0  \n",
       "67             7181               0  \n",
       "72             1349               0  \n",
       "73             6965               0  \n",
       "...             ...             ...  \n",
       "1021           1110               0  \n",
       "1041           2387               0  \n",
       "1240            138               0  \n",
       "2257             37               0  \n",
       "2258             34               0  \n",
       "\n",
       "[179 rows x 4 columns]"
      ]
     },
     "execution_count": 32,
     "metadata": {},
     "output_type": "execute_result"
    }
   ],
   "source": [
    "#checking rows with min retweet_count , favorit_count\n",
    "\n",
    "#api_info[api_info['retweet_count']==0]\n",
    "api_info[api_info['favorite_count']==0 ]"
   ]
  },
  {
   "cell_type": "code",
   "execution_count": 33,
   "metadata": {},
   "outputs": [
    {
     "data": {
      "text/plain": [
       "0        179\n",
       "610        3\n",
       "345        3\n",
       "2918       3\n",
       "1691       3\n",
       "        ... \n",
       "33345      1\n",
       "814        1\n",
       "23108      1\n",
       "2630       1\n",
       "8143       1\n",
       "Name: favorite_count, Length: 2007, dtype: int64"
      ]
     },
     "execution_count": 33,
     "metadata": {},
     "output_type": "execute_result"
    }
   ],
   "source": [
    "api_info['favorite_count'].value_counts()"
   ]
  },
  {
   "cell_type": "markdown",
   "metadata": {},
   "source": [
    "### Quality\n",
    "\n",
    "#### `tweets` df\n",
    "- Retweet and Reply related columns needed to to dropped\n",
    "- Erroneous datatypes\n",
    "    - tweet_id needed to be string\n",
    "    - timestamp needed to be datetime\n",
    "- name column has entries with 'None' as value\n",
    "- name column has entries with bad names from list ['a','an','Al','JD','O','my','by','the'] and should be extracted from text or counted as missing name\n",
    "    - tweet at index 775: O'Malley\n",
    "    - tweet at index 820: Al Cabone\n",
    "    - tweet at index 852: Zoey\n",
    "    - tweet at index 1853: Wylie\n",
    "    - tweet at index 1955: Kip\n",
    "    - tweet at index 2034: Jacob (Yacōb)\n",
    "    - tweet at index 2041: JD (stands for \"just dog\")\n",
    "    - tweet at index 2066: Rufus\n",
    "    - tweet at index 2116: Spork\n",
    "    - tweet at index 2125: Cherokee\n",
    "    - tweet at index 2128: Hemry\n",
    "    - tweet at index 2146: Alphred\n",
    "    - tweet at index 2161: Alfredo\n",
    "    - tweet at index 2191: Leroi\n",
    "    - tweet at index 2204: Berta\n",
    "    - tweet at index 2218: Chuk\n",
    "    - tweet at index 2235: Alfonso\n",
    "    - tweet at index 2249: Cheryl\n",
    "    - tweet at index 2255: Jessiga\n",
    "    - tweet at index 2264: Klint\n",
    "    - tweet at index 2273: Kohl\n",
    "    - tweet at index 2287: Daryl\n",
    "    - tweet at index 2304: Pepe\n",
    "    - tweet at index 2311: Octaviath\n",
    "    - tweet at index 2314: Johm\n",
    "    \n",
    "- 'doggo' , 'floofer' , 'pupper' , 'puppo' columns have 'None' values and there are entries with None values combined in all dog stage.\n",
    "- rating_denominator column has values less than 10 [0,2,7] should be extracted from text\n",
    "    - tweet at index 313: 13/10\n",
    "    - tweet at index 516: no rating\n",
    "    - tweet at index 2335 : 9/10\n",
    "\n",
    "#### `imgs_predicts` df\n",
    "- Erroneous datatypes\n",
    "    - tweet_id needed to be string\n",
    "- df has entries predicted not to be dogs by all applied algorithms\n",
    "\n",
    "#### `api_info` df\n",
    "- api_info df has many columns needed to be dropped\n",
    "- Erroneous datatypes\n",
    "    - tweet_id needed to be string\n"
   ]
  },
  {
   "cell_type": "markdown",
   "metadata": {},
   "source": [
    "### Tidiness\n",
    "\n",
    "#### `tweets` df\n",
    "- text column should be splitted in two columns tweet_text ,tweet_url\n",
    "- doggo,floofer,pupper and puppo should be one column (dog stage) of type category.\n",
    "- rating_numerator, rating_denominator should be one column reflects rating_numerator/rating_denominator of type float.\n",
    "\n",
    "#### `imgs_predicts` df\n",
    "- prediction and prediction confifance should be one column reflects the heightest confidence\n",
    "\n",
    "#### `api_info` df\n",
    "- should be added to tweets df"
   ]
  },
  {
   "cell_type": "markdown",
   "metadata": {},
   "source": [
    "## Clean"
   ]
  },
  {
   "cell_type": "code",
   "execution_count": 34,
   "metadata": {},
   "outputs": [],
   "source": [
    "tweets_clean = tweets.copy()\n",
    "imgs_predicts_clean = imgs_predicts.copy()\n",
    "api_info_clean = api_info.copy()"
   ]
  },
  {
   "cell_type": "markdown",
   "metadata": {},
   "source": [
    "### Drop unneeded columns\n",
    "\n",
    "### Define\n",
    "\n",
    "#### `tweets_clean` df\n",
    "\n",
    "#### Quality Issue\n",
    "- interesting columns are: 'tweet_id', 'timestamp','text', 'rating_numerator', 'rating_denominator', 'name', 'doggo', 'floofer', 'pupper', 'puppo'\n",
    "\n",
    "#### `api_info_clean` df\n",
    "\n",
    "#### Quality Issue\n",
    "- interesting columns are 'id', 'retweet_count', 'favorite_count'\n",
    "\n",
    "#### Quality Issue\n",
    "- rename 'id' to 'tweet_id'\n",
    "    "
   ]
  },
  {
   "cell_type": "markdown",
   "metadata": {},
   "source": [
    "#### Code"
   ]
  },
  {
   "cell_type": "code",
   "execution_count": 35,
   "metadata": {},
   "outputs": [],
   "source": [
    "tweets_clean = tweets_clean[['tweet_id', 'timestamp','text', 'rating_numerator', 'rating_denominator', 'name', 'doggo', 'floofer', 'pupper', 'puppo']]\n",
    "api_info_clean = api_info_clean[['id', 'retweet_count', 'favorite_count']]\n",
    "api_info_clean.rename(columns={'id':'tweet_id'},inplace=True)"
   ]
  },
  {
   "cell_type": "markdown",
   "metadata": {},
   "source": [
    "#### Test"
   ]
  },
  {
   "cell_type": "code",
   "execution_count": 36,
   "metadata": {},
   "outputs": [
    {
     "name": "stdout",
     "output_type": "stream",
     "text": [
      "Index(['tweet_id', 'timestamp', 'text', 'rating_numerator',\n",
      "       'rating_denominator', 'name', 'doggo', 'floofer', 'pupper', 'puppo'],\n",
      "      dtype='object')\n",
      "\n",
      "Index(['tweet_id', 'retweet_count', 'favorite_count'], dtype='object')\n",
      "\n"
     ]
    }
   ],
   "source": [
    "print(tweets_clean.columns,end='\\n\\n')\n",
    "print(api_info_clean.columns,end='\\n\\n')"
   ]
  },
  {
   "cell_type": "markdown",
   "metadata": {},
   "source": [
    "### Erroneous datatypes\n",
    "\n",
    "### Define\n",
    "\n",
    "#### `tweets_clean` df\n",
    "\n",
    "#### Quality Issue\n",
    "- Erroneous datatypes\n",
    "    - tweet_id needed to be string\n",
    "    - timestamp needed to be datetime\n",
    "    \n",
    "#### `imgs_predicts_clean` df\n",
    "\n",
    "#### Quality Issue\n",
    "- Erroneous datatypes\n",
    "    - tweet_id needed to be string\n",
    "    \n",
    "#### `api_info_clean` df\n",
    "\n",
    "#### Quality Issue\n",
    "- Erroneous datatypes\n",
    "    - tweet_id needed to be string"
   ]
  },
  {
   "cell_type": "markdown",
   "metadata": {},
   "source": [
    "#### Code"
   ]
  },
  {
   "cell_type": "code",
   "execution_count": 37,
   "metadata": {},
   "outputs": [],
   "source": [
    "tweets_clean['tweet_id'] = tweets_clean['tweet_id'].astype(str)\n",
    "tweets_clean['timestamp'] = pd.to_datetime(tweets_clean['timestamp'])\n",
    "\n",
    "imgs_predicts_clean['tweet_id'] = imgs_predicts_clean['tweet_id'].astype(str)\n",
    "\n",
    "api_info_clean['tweet_id'] = api_info_clean['tweet_id'].astype(str)"
   ]
  },
  {
   "cell_type": "markdown",
   "metadata": {},
   "source": [
    "#### Test"
   ]
  },
  {
   "cell_type": "code",
   "execution_count": 38,
   "metadata": {},
   "outputs": [
    {
     "name": "stdout",
     "output_type": "stream",
     "text": [
      "Datatype For tweets_clean['tweet_id'] is object .\n",
      "Datatype For tweets_clean['timestamp'] is datetime64[ns, UTC] .\n",
      "Datatype For imgs_predicts_clean['tweet_id'] is object .\n",
      "Datatype For api_info_clean['tweet_id'] is object .\n"
     ]
    }
   ],
   "source": [
    "print('Datatype For tweets_clean[\\'tweet_id\\'] is {} .'.format(tweets_clean['tweet_id'].dtype))\n",
    "print('Datatype For tweets_clean[\\'timestamp\\'] is {} .'.format(tweets_clean['timestamp'].dtype) )\n",
    "print('Datatype For imgs_predicts_clean[\\'tweet_id\\'] is {} .'.format(imgs_predicts_clean['tweet_id'].dtype) )\n",
    "print('Datatype For api_info_clean[\\'tweet_id\\'] is {} .'.format(api_info_clean['tweet_id'].dtype) )"
   ]
  },
  {
   "cell_type": "markdown",
   "metadata": {},
   "source": [
    "### Tidiness"
   ]
  },
  {
   "cell_type": "markdown",
   "metadata": {},
   "source": [
    "### Difine\n",
    "\n",
    "#### Issue #1\n",
    "- text column should be splitted in two columns tweet_text ,tweet_url and drop the old text column"
   ]
  },
  {
   "cell_type": "markdown",
   "metadata": {},
   "source": [
    "#### Code"
   ]
  },
  {
   "cell_type": "code",
   "execution_count": 39,
   "metadata": {},
   "outputs": [],
   "source": [
    "tweets_clean['tweet_text']  = tweets_clean['text'].str.split('https',1, expand=True)[0]\n",
    "tweets_clean['tweet_url']  = 'https' + tweets_clean['text'].str.split('https',1, expand=True)[1]\n",
    "\n",
    "tweets_clean.drop('text',axis=1,inplace=True)"
   ]
  },
  {
   "cell_type": "markdown",
   "metadata": {},
   "source": [
    "#### Test"
   ]
  },
  {
   "cell_type": "code",
   "execution_count": 40,
   "metadata": {
    "scrolled": true
   },
   "outputs": [
    {
     "data": {
      "text/html": [
       "<div>\n",
       "<style scoped>\n",
       "    .dataframe tbody tr th:only-of-type {\n",
       "        vertical-align: middle;\n",
       "    }\n",
       "\n",
       "    .dataframe tbody tr th {\n",
       "        vertical-align: top;\n",
       "    }\n",
       "\n",
       "    .dataframe thead th {\n",
       "        text-align: right;\n",
       "    }\n",
       "</style>\n",
       "<table border=\"1\" class=\"dataframe\">\n",
       "  <thead>\n",
       "    <tr style=\"text-align: right;\">\n",
       "      <th></th>\n",
       "      <th>tweet_id</th>\n",
       "      <th>timestamp</th>\n",
       "      <th>rating_numerator</th>\n",
       "      <th>rating_denominator</th>\n",
       "      <th>name</th>\n",
       "      <th>doggo</th>\n",
       "      <th>floofer</th>\n",
       "      <th>pupper</th>\n",
       "      <th>puppo</th>\n",
       "      <th>tweet_text</th>\n",
       "      <th>tweet_url</th>\n",
       "    </tr>\n",
       "  </thead>\n",
       "  <tbody>\n",
       "    <tr>\n",
       "      <th>365</th>\n",
       "      <td>829011960981237760</td>\n",
       "      <td>2017-02-07 17:00:28+00:00</td>\n",
       "      <td>13</td>\n",
       "      <td>10</td>\n",
       "      <td>Dexter</td>\n",
       "      <td>None</td>\n",
       "      <td>None</td>\n",
       "      <td>None</td>\n",
       "      <td>None</td>\n",
       "      <td>This is Dexter. He was reunited with his mom y...</td>\n",
       "      <td>https://t.co/U50RlRw4is</td>\n",
       "    </tr>\n",
       "    <tr>\n",
       "      <th>8</th>\n",
       "      <td>890609185150312448</td>\n",
       "      <td>2017-07-27 16:25:51+00:00</td>\n",
       "      <td>13</td>\n",
       "      <td>10</td>\n",
       "      <td>Zoey</td>\n",
       "      <td>None</td>\n",
       "      <td>None</td>\n",
       "      <td>None</td>\n",
       "      <td>None</td>\n",
       "      <td>This is Zoey. She doesn't want to be one of th...</td>\n",
       "      <td>https://t.co/9TwLuAGH0b</td>\n",
       "    </tr>\n",
       "    <tr>\n",
       "      <th>1756</th>\n",
       "      <td>678767140346941444</td>\n",
       "      <td>2015-12-21 02:41:11+00:00</td>\n",
       "      <td>8</td>\n",
       "      <td>10</td>\n",
       "      <td>Mia</td>\n",
       "      <td>None</td>\n",
       "      <td>None</td>\n",
       "      <td>None</td>\n",
       "      <td>None</td>\n",
       "      <td>This is Mia. She makes awful decisions. 8/10</td>\n",
       "      <td>https://t.co/G6TQVgTcZz</td>\n",
       "    </tr>\n",
       "    <tr>\n",
       "      <th>1839</th>\n",
       "      <td>675891555769696257</td>\n",
       "      <td>2015-12-13 04:14:39+00:00</td>\n",
       "      <td>6</td>\n",
       "      <td>10</td>\n",
       "      <td>Donny</td>\n",
       "      <td>None</td>\n",
       "      <td>None</td>\n",
       "      <td>None</td>\n",
       "      <td>None</td>\n",
       "      <td>This is Donny. He's summoning the demon monste...</td>\n",
       "      <td>https://t.co/kiW6Knb7Gp</td>\n",
       "    </tr>\n",
       "    <tr>\n",
       "      <th>1881</th>\n",
       "      <td>675003128568291329</td>\n",
       "      <td>2015-12-10 17:24:21+00:00</td>\n",
       "      <td>12</td>\n",
       "      <td>10</td>\n",
       "      <td>Laela</td>\n",
       "      <td>None</td>\n",
       "      <td>None</td>\n",
       "      <td>None</td>\n",
       "      <td>None</td>\n",
       "      <td>Meet Laela. She's adorable. Magnificent eyes. ...</td>\n",
       "      <td>https://t.co/pCGDgLkLo6</td>\n",
       "    </tr>\n",
       "  </tbody>\n",
       "</table>\n",
       "</div>"
      ],
      "text/plain": [
       "                tweet_id                 timestamp  rating_numerator  \\\n",
       "365   829011960981237760 2017-02-07 17:00:28+00:00                13   \n",
       "8     890609185150312448 2017-07-27 16:25:51+00:00                13   \n",
       "1756  678767140346941444 2015-12-21 02:41:11+00:00                 8   \n",
       "1839  675891555769696257 2015-12-13 04:14:39+00:00                 6   \n",
       "1881  675003128568291329 2015-12-10 17:24:21+00:00                12   \n",
       "\n",
       "      rating_denominator    name doggo floofer pupper puppo  \\\n",
       "365                   10  Dexter  None    None   None  None   \n",
       "8                     10    Zoey  None    None   None  None   \n",
       "1756                  10     Mia  None    None   None  None   \n",
       "1839                  10   Donny  None    None   None  None   \n",
       "1881                  10   Laela  None    None   None  None   \n",
       "\n",
       "                                             tweet_text  \\\n",
       "365   This is Dexter. He was reunited with his mom y...   \n",
       "8     This is Zoey. She doesn't want to be one of th...   \n",
       "1756      This is Mia. She makes awful decisions. 8/10    \n",
       "1839  This is Donny. He's summoning the demon monste...   \n",
       "1881  Meet Laela. She's adorable. Magnificent eyes. ...   \n",
       "\n",
       "                    tweet_url  \n",
       "365   https://t.co/U50RlRw4is  \n",
       "8     https://t.co/9TwLuAGH0b  \n",
       "1756  https://t.co/G6TQVgTcZz  \n",
       "1839  https://t.co/kiW6Knb7Gp  \n",
       "1881  https://t.co/pCGDgLkLo6  "
      ]
     },
     "execution_count": 40,
     "metadata": {},
     "output_type": "execute_result"
    }
   ],
   "source": [
    "tweets_clean.sample(5)"
   ]
  },
  {
   "cell_type": "markdown",
   "metadata": {},
   "source": [
    "### Define\n",
    "\n",
    "#### Quality Issue\n",
    "- doggo,floofer,pupper and puppo have 'None' string as value should be replaced with np.nan\n",
    "\n",
    "#### Tidiness Issue #2\n",
    "- doggo,floofer,pupper and puppo should be one column (dog stage) of type category."
   ]
  },
  {
   "cell_type": "markdown",
   "metadata": {},
   "source": [
    "#### Code "
   ]
  },
  {
   "cell_type": "code",
   "execution_count": 41,
   "metadata": {
    "scrolled": true
   },
   "outputs": [],
   "source": [
    "tweets_clean['doggo'] = tweets_clean['doggo'].replace('None',np.nan)\n",
    "tweets_clean['floofer'] = tweets_clean['floofer'].replace('None',np.nan)\n",
    "tweets_clean['pupper'] = tweets_clean['pupper'].replace('None',np.nan)\n",
    "tweets_clean['puppo'] = tweets_clean['puppo'].replace('None',np.nan)"
   ]
  },
  {
   "cell_type": "markdown",
   "metadata": {},
   "source": [
    "#### Test"
   ]
  },
  {
   "cell_type": "code",
   "execution_count": 42,
   "metadata": {},
   "outputs": [
    {
     "name": "stdout",
     "output_type": "stream",
     "text": [
      "NaN      2259\n",
      "doggo      97\n",
      "Name: doggo, dtype: int64\n",
      "\n",
      "NaN        2346\n",
      "floofer      10\n",
      "Name: floofer, dtype: int64\n",
      "\n",
      "NaN       2099\n",
      "pupper     257\n",
      "Name: pupper, dtype: int64\n",
      "\n",
      "NaN      2326\n",
      "puppo      30\n",
      "Name: puppo, dtype: int64\n",
      "\n"
     ]
    }
   ],
   "source": [
    "print(tweets_clean['doggo'].value_counts(dropna=False),end='\\n\\n')\n",
    "print(tweets_clean['floofer'].value_counts(dropna=False),end='\\n\\n')\n",
    "print(tweets_clean['pupper'].value_counts(dropna=False),end='\\n\\n')\n",
    "print(tweets_clean['puppo'].value_counts(dropna=False),end='\\n\\n')"
   ]
  },
  {
   "cell_type": "code",
   "execution_count": 43,
   "metadata": {},
   "outputs": [],
   "source": [
    "def get_dog_stage(row):\n",
    "    if not pd.isnull(row['doggo']) :\n",
    "        return 'doggo'\n",
    "    if not pd.isnull(row['floofer']) :\n",
    "        return 'floofer'\n",
    "    if not pd.isnull(row['pupper']) :\n",
    "        return 'pupper'\n",
    "    if not pd.isnull(row['puppo']) :\n",
    "        return 'puppo'\n",
    "\n",
    "    return np.nan\n",
    "\n",
    "tweets_clean['dog_stage'] = tweets_clean.apply(get_dog_stage , axis=1).astype('category')\n"
   ]
  },
  {
   "cell_type": "markdown",
   "metadata": {},
   "source": [
    "#### Test"
   ]
  },
  {
   "cell_type": "code",
   "execution_count": 44,
   "metadata": {},
   "outputs": [
    {
     "name": "stdout",
     "output_type": "stream",
     "text": [
      "NaN        1976\n",
      "pupper      245\n",
      "doggo        97\n",
      "puppo        29\n",
      "floofer       9\n",
      "Name: dog_stage, dtype: int64\n",
      "\n"
     ]
    }
   ],
   "source": [
    "print(tweets_clean['dog_stage'].value_counts(dropna=False),end='\\n\\n')"
   ]
  },
  {
   "cell_type": "code",
   "execution_count": 45,
   "metadata": {},
   "outputs": [],
   "source": [
    "#remove dog_stage splitted columns\n",
    "\n",
    "tweets_clean.drop(columns=['doggo','floofer','pupper','puppo'],inplace=True)"
   ]
  },
  {
   "cell_type": "markdown",
   "metadata": {},
   "source": [
    "#### Test"
   ]
  },
  {
   "cell_type": "code",
   "execution_count": 46,
   "metadata": {},
   "outputs": [
    {
     "data": {
      "text/plain": [
       "Index(['tweet_id', 'timestamp', 'rating_numerator', 'rating_denominator',\n",
       "       'name', 'tweet_text', 'tweet_url', 'dog_stage'],\n",
       "      dtype='object')"
      ]
     },
     "execution_count": 46,
     "metadata": {},
     "output_type": "execute_result"
    }
   ],
   "source": [
    "tweets_clean.columns"
   ]
  },
  {
   "cell_type": "markdown",
   "metadata": {},
   "source": [
    "### Define\n",
    "\n",
    "#### Quality Issue\n",
    "- rating_denominator column has values less than 10 [0,2,7] should be extracted from text\n",
    "    - tweet at index 313: 13/10\n",
    "    - tweet at index 516: no rating\n",
    "    - tweet at index 2335 : 9/10\n",
    "\n",
    "#### Tidiness Issue #3\n",
    "- rating_numerator, rating_denominator should be one column reflects rating_numerator/rating_denominator of type float."
   ]
  },
  {
   "cell_type": "markdown",
   "metadata": {},
   "source": [
    "#### Code"
   ]
  },
  {
   "cell_type": "code",
   "execution_count": 47,
   "metadata": {
    "scrolled": true
   },
   "outputs": [],
   "source": [
    "tweets_clean.loc[313,['rating_numerator','rating_denominator']]=[13,10]\n",
    "tweets_clean.loc[516,['rating_numerator','rating_denominator']]=[np.nan,np.nan]\n",
    "tweets_clean.loc[2335,['rating_numerator','rating_denominator']]=[9,10]"
   ]
  },
  {
   "cell_type": "markdown",
   "metadata": {},
   "source": [
    "### Test"
   ]
  },
  {
   "cell_type": "code",
   "execution_count": 48,
   "metadata": {},
   "outputs": [
    {
     "name": "stdout",
     "output_type": "stream",
     "text": [
      "rating_numerator      13\n",
      "rating_denominator    10\n",
      "Name: 313, dtype: object\n",
      "\n",
      "rating_numerator      13\n",
      "rating_denominator    10\n",
      "Name: 313, dtype: object\n",
      "\n",
      "rating_numerator      13\n",
      "rating_denominator    10\n",
      "Name: 313, dtype: object\n",
      "\n"
     ]
    }
   ],
   "source": [
    "print( tweets_clean.loc[313,['rating_numerator','rating_denominator']], end='\\n\\n')\n",
    "print( tweets_clean.loc[313,['rating_numerator','rating_denominator']], end='\\n\\n')\n",
    "print( tweets_clean.loc[313,['rating_numerator','rating_denominator']], end='\\n\\n')"
   ]
  },
  {
   "cell_type": "code",
   "execution_count": 49,
   "metadata": {},
   "outputs": [],
   "source": [
    "tweets_clean['rating'] = tweets_clean['rating_numerator'] / tweets_clean['rating_denominator']"
   ]
  },
  {
   "cell_type": "markdown",
   "metadata": {},
   "source": [
    "#### Test"
   ]
  },
  {
   "cell_type": "code",
   "execution_count": 50,
   "metadata": {},
   "outputs": [
    {
     "data": {
      "text/html": [
       "<div>\n",
       "<style scoped>\n",
       "    .dataframe tbody tr th:only-of-type {\n",
       "        vertical-align: middle;\n",
       "    }\n",
       "\n",
       "    .dataframe tbody tr th {\n",
       "        vertical-align: top;\n",
       "    }\n",
       "\n",
       "    .dataframe thead th {\n",
       "        text-align: right;\n",
       "    }\n",
       "</style>\n",
       "<table border=\"1\" class=\"dataframe\">\n",
       "  <thead>\n",
       "    <tr style=\"text-align: right;\">\n",
       "      <th></th>\n",
       "      <th>rating</th>\n",
       "      <th>rating_numerator</th>\n",
       "      <th>rating_denominator</th>\n",
       "    </tr>\n",
       "  </thead>\n",
       "  <tbody>\n",
       "    <tr>\n",
       "      <th>1104</th>\n",
       "      <td>0.9</td>\n",
       "      <td>9.0</td>\n",
       "      <td>10.0</td>\n",
       "    </tr>\n",
       "    <tr>\n",
       "      <th>1970</th>\n",
       "      <td>0.8</td>\n",
       "      <td>8.0</td>\n",
       "      <td>10.0</td>\n",
       "    </tr>\n",
       "    <tr>\n",
       "      <th>2327</th>\n",
       "      <td>0.7</td>\n",
       "      <td>7.0</td>\n",
       "      <td>10.0</td>\n",
       "    </tr>\n",
       "    <tr>\n",
       "      <th>1164</th>\n",
       "      <td>0.8</td>\n",
       "      <td>8.0</td>\n",
       "      <td>10.0</td>\n",
       "    </tr>\n",
       "    <tr>\n",
       "      <th>2044</th>\n",
       "      <td>0.6</td>\n",
       "      <td>6.0</td>\n",
       "      <td>10.0</td>\n",
       "    </tr>\n",
       "    <tr>\n",
       "      <th>1709</th>\n",
       "      <td>0.9</td>\n",
       "      <td>9.0</td>\n",
       "      <td>10.0</td>\n",
       "    </tr>\n",
       "    <tr>\n",
       "      <th>2163</th>\n",
       "      <td>0.6</td>\n",
       "      <td>6.0</td>\n",
       "      <td>10.0</td>\n",
       "    </tr>\n",
       "    <tr>\n",
       "      <th>2320</th>\n",
       "      <td>0.7</td>\n",
       "      <td>7.0</td>\n",
       "      <td>10.0</td>\n",
       "    </tr>\n",
       "    <tr>\n",
       "      <th>1573</th>\n",
       "      <td>0.7</td>\n",
       "      <td>7.0</td>\n",
       "      <td>10.0</td>\n",
       "    </tr>\n",
       "    <tr>\n",
       "      <th>1504</th>\n",
       "      <td>0.8</td>\n",
       "      <td>8.0</td>\n",
       "      <td>10.0</td>\n",
       "    </tr>\n",
       "  </tbody>\n",
       "</table>\n",
       "</div>"
      ],
      "text/plain": [
       "      rating  rating_numerator  rating_denominator\n",
       "1104     0.9               9.0                10.0\n",
       "1970     0.8               8.0                10.0\n",
       "2327     0.7               7.0                10.0\n",
       "1164     0.8               8.0                10.0\n",
       "2044     0.6               6.0                10.0\n",
       "1709     0.9               9.0                10.0\n",
       "2163     0.6               6.0                10.0\n",
       "2320     0.7               7.0                10.0\n",
       "1573     0.7               7.0                10.0\n",
       "1504     0.8               8.0                10.0"
      ]
     },
     "execution_count": 50,
     "metadata": {},
     "output_type": "execute_result"
    }
   ],
   "source": [
    "tweets_clean.loc[tweets_clean['rating']< 1 ,['rating','rating_numerator','rating_denominator']].sample(10)"
   ]
  },
  {
   "cell_type": "code",
   "execution_count": 51,
   "metadata": {},
   "outputs": [
    {
     "data": {
      "text/html": [
       "<div>\n",
       "<style scoped>\n",
       "    .dataframe tbody tr th:only-of-type {\n",
       "        vertical-align: middle;\n",
       "    }\n",
       "\n",
       "    .dataframe tbody tr th {\n",
       "        vertical-align: top;\n",
       "    }\n",
       "\n",
       "    .dataframe thead th {\n",
       "        text-align: right;\n",
       "    }\n",
       "</style>\n",
       "<table border=\"1\" class=\"dataframe\">\n",
       "  <thead>\n",
       "    <tr style=\"text-align: right;\">\n",
       "      <th></th>\n",
       "      <th>rating</th>\n",
       "      <th>rating_numerator</th>\n",
       "    </tr>\n",
       "  </thead>\n",
       "  <tbody>\n",
       "    <tr>\n",
       "      <th>253</th>\n",
       "      <td>1.3</td>\n",
       "      <td>13.0</td>\n",
       "    </tr>\n",
       "    <tr>\n",
       "      <th>1051</th>\n",
       "      <td>1.1</td>\n",
       "      <td>11.0</td>\n",
       "    </tr>\n",
       "    <tr>\n",
       "      <th>635</th>\n",
       "      <td>1.2</td>\n",
       "      <td>12.0</td>\n",
       "    </tr>\n",
       "    <tr>\n",
       "      <th>117</th>\n",
       "      <td>1.4</td>\n",
       "      <td>14.0</td>\n",
       "    </tr>\n",
       "    <tr>\n",
       "      <th>770</th>\n",
       "      <td>1.3</td>\n",
       "      <td>13.0</td>\n",
       "    </tr>\n",
       "    <tr>\n",
       "      <th>617</th>\n",
       "      <td>1.2</td>\n",
       "      <td>12.0</td>\n",
       "    </tr>\n",
       "    <tr>\n",
       "      <th>2053</th>\n",
       "      <td>1.1</td>\n",
       "      <td>11.0</td>\n",
       "    </tr>\n",
       "    <tr>\n",
       "      <th>1217</th>\n",
       "      <td>1.2</td>\n",
       "      <td>12.0</td>\n",
       "    </tr>\n",
       "    <tr>\n",
       "      <th>68</th>\n",
       "      <td>1.4</td>\n",
       "      <td>14.0</td>\n",
       "    </tr>\n",
       "    <tr>\n",
       "      <th>852</th>\n",
       "      <td>1.3</td>\n",
       "      <td>13.0</td>\n",
       "    </tr>\n",
       "  </tbody>\n",
       "</table>\n",
       "</div>"
      ],
      "text/plain": [
       "      rating  rating_numerator\n",
       "253      1.3              13.0\n",
       "1051     1.1              11.0\n",
       "635      1.2              12.0\n",
       "117      1.4              14.0\n",
       "770      1.3              13.0\n",
       "617      1.2              12.0\n",
       "2053     1.1              11.0\n",
       "1217     1.2              12.0\n",
       "68       1.4              14.0\n",
       "852      1.3              13.0"
      ]
     },
     "execution_count": 51,
     "metadata": {},
     "output_type": "execute_result"
    }
   ],
   "source": [
    "tweets_clean.loc[tweets_clean['rating']> 1 ,['rating','rating_numerator',]].sample(10)"
   ]
  },
  {
   "cell_type": "code",
   "execution_count": 52,
   "metadata": {},
   "outputs": [],
   "source": [
    "tweets_clean.drop(columns=['rating_numerator','rating_denominator'],inplace=True)"
   ]
  },
  {
   "cell_type": "markdown",
   "metadata": {},
   "source": [
    "#### Test"
   ]
  },
  {
   "cell_type": "code",
   "execution_count": 53,
   "metadata": {},
   "outputs": [
    {
     "data": {
      "text/plain": [
       "Index(['tweet_id', 'timestamp', 'name', 'tweet_text', 'tweet_url', 'dog_stage',\n",
       "       'rating'],\n",
       "      dtype='object')"
      ]
     },
     "execution_count": 53,
     "metadata": {},
     "output_type": "execute_result"
    }
   ],
   "source": [
    "tweets_clean.columns"
   ]
  },
  {
   "cell_type": "code",
   "execution_count": 54,
   "metadata": {},
   "outputs": [
    {
     "name": "stdout",
     "output_type": "stream",
     "text": [
      "<class 'pandas.core.frame.DataFrame'>\n",
      "RangeIndex: 2356 entries, 0 to 2355\n",
      "Data columns (total 7 columns):\n",
      " #   Column      Non-Null Count  Dtype              \n",
      "---  ------      --------------  -----              \n",
      " 0   tweet_id    2356 non-null   object             \n",
      " 1   timestamp   2356 non-null   datetime64[ns, UTC]\n",
      " 2   name        2356 non-null   object             \n",
      " 3   tweet_text  2356 non-null   object             \n",
      " 4   tweet_url   2286 non-null   object             \n",
      " 5   dog_stage   380 non-null    category           \n",
      " 6   rating      2355 non-null   float64            \n",
      "dtypes: category(1), datetime64[ns, UTC](1), float64(1), object(4)\n",
      "memory usage: 113.1+ KB\n"
     ]
    }
   ],
   "source": [
    "tweets_clean.info()"
   ]
  },
  {
   "cell_type": "markdown",
   "metadata": {},
   "source": [
    "### Define\n",
    "\n",
    "#### tidiness Issue #4\n",
    "- `api_info` df should be added to tweets df\n"
   ]
  },
  {
   "cell_type": "markdown",
   "metadata": {},
   "source": [
    "#### Code"
   ]
  },
  {
   "cell_type": "code",
   "execution_count": 55,
   "metadata": {},
   "outputs": [],
   "source": [
    "tweets_clean = tweets_clean.merge(api_info_clean)"
   ]
  },
  {
   "cell_type": "markdown",
   "metadata": {},
   "source": [
    "#### Test"
   ]
  },
  {
   "cell_type": "code",
   "execution_count": 56,
   "metadata": {},
   "outputs": [
    {
     "name": "stdout",
     "output_type": "stream",
     "text": [
      "<class 'pandas.core.frame.DataFrame'>\n",
      "Int64Index: 2354 entries, 0 to 2353\n",
      "Data columns (total 9 columns):\n",
      " #   Column          Non-Null Count  Dtype              \n",
      "---  ------          --------------  -----              \n",
      " 0   tweet_id        2354 non-null   object             \n",
      " 1   timestamp       2354 non-null   datetime64[ns, UTC]\n",
      " 2   name            2354 non-null   object             \n",
      " 3   tweet_text      2354 non-null   object             \n",
      " 4   tweet_url       2284 non-null   object             \n",
      " 5   dog_stage       379 non-null    category           \n",
      " 6   rating          2353 non-null   float64            \n",
      " 7   retweet_count   2354 non-null   int64              \n",
      " 8   favorite_count  2354 non-null   int64              \n",
      "dtypes: category(1), datetime64[ns, UTC](1), float64(1), int64(2), object(4)\n",
      "memory usage: 168.0+ KB\n"
     ]
    }
   ],
   "source": [
    "tweets_clean.info()"
   ]
  },
  {
   "cell_type": "markdown",
   "metadata": {},
   "source": [
    "### Define\n",
    "\n",
    "#### Quality Issue\n",
    "- first we need to remove entries where all three algo. detected not to be dog\n",
    "\n",
    "#### tidiness Issue #5\n",
    "- prediction and prediction confidance should be one column reflects the heightest confidence and drop p1,p1_conf,p2,p2_conf,p3,p3_conf\n",
    "\n",
    "- take highest prediction confidance with the predict,is_dog as the needed values \n"
   ]
  },
  {
   "cell_type": "markdown",
   "metadata": {},
   "source": [
    "#### Code"
   ]
  },
  {
   "cell_type": "code",
   "execution_count": 57,
   "metadata": {
    "scrolled": false
   },
   "outputs": [],
   "source": [
    "# imgs_predicts_clean has 2075 observation ,and 324 observation predicted not dog by all three algorithms\n",
    "\n",
    "imgs_predicts_clean = imgs_predicts_clean[ (imgs_predicts_clean['p1_dog']==True) | (imgs_predicts_clean['p2_dog']==True) | (imgs_predicts_clean['p3_dog']==True)]\n"
   ]
  },
  {
   "cell_type": "markdown",
   "metadata": {},
   "source": [
    "#### Test"
   ]
  },
  {
   "cell_type": "code",
   "execution_count": 58,
   "metadata": {},
   "outputs": [
    {
     "data": {
      "text/plain": [
       "0"
      ]
     },
     "execution_count": 58,
     "metadata": {},
     "output_type": "execute_result"
    }
   ],
   "source": [
    "len(imgs_predicts_clean[ (imgs_predicts_clean['p1_dog']==False) & (imgs_predicts_clean['p2_dog']==False) & (imgs_predicts_clean['p3_dog']==False)])\n"
   ]
  },
  {
   "cell_type": "code",
   "execution_count": 59,
   "metadata": {},
   "outputs": [],
   "source": [
    "imgs_predicts_clean['predict_conf'] = imgs_predicts_clean[['p1_conf', 'p2_conf','p3_conf']].max(axis=1)\n",
    "\n",
    "def get_predict_based_conf(row):\n",
    "    if row['predict_conf'] == row['p1_conf'] :\n",
    "        return  pd.Series([row['p1'],row['p1_dog']])\n",
    "    if row['predict_conf'] == row['p2_conf'] :\n",
    "        return  pd.Series([row['p2'],row['p1_dog']])\n",
    "    if row['predict_conf'] == row['p3_conf'] :\n",
    "        return  pd.Series([row['p3'],row['p1_dog']])\n",
    "    \n",
    "imgs_predicts_clean[['predict','is_dog']]= imgs_predicts_clean.apply(get_predict_based_conf,axis=1)"
   ]
  },
  {
   "cell_type": "markdown",
   "metadata": {},
   "source": [
    "#### Test"
   ]
  },
  {
   "cell_type": "code",
   "execution_count": 60,
   "metadata": {},
   "outputs": [
    {
     "name": "stdout",
     "output_type": "stream",
     "text": [
      "<class 'pandas.core.frame.DataFrame'>\n",
      "Int64Index: 1751 entries, 0 to 2073\n",
      "Data columns (total 15 columns):\n",
      " #   Column        Non-Null Count  Dtype  \n",
      "---  ------        --------------  -----  \n",
      " 0   tweet_id      1751 non-null   object \n",
      " 1   jpg_url       1751 non-null   object \n",
      " 2   img_num       1751 non-null   int64  \n",
      " 3   p1            1751 non-null   object \n",
      " 4   p1_conf       1751 non-null   float64\n",
      " 5   p1_dog        1751 non-null   bool   \n",
      " 6   p2            1751 non-null   object \n",
      " 7   p2_conf       1751 non-null   float64\n",
      " 8   p2_dog        1751 non-null   bool   \n",
      " 9   p3            1751 non-null   object \n",
      " 10  p3_conf       1751 non-null   float64\n",
      " 11  p3_dog        1751 non-null   bool   \n",
      " 12  predict_conf  1751 non-null   float64\n",
      " 13  predict       1751 non-null   object \n",
      " 14  is_dog        1751 non-null   bool   \n",
      "dtypes: bool(4), float64(4), int64(1), object(6)\n",
      "memory usage: 171.0+ KB\n"
     ]
    }
   ],
   "source": [
    "imgs_predicts_clean.info()"
   ]
  },
  {
   "cell_type": "code",
   "execution_count": 61,
   "metadata": {},
   "outputs": [],
   "source": [
    "#drop unneeded columns\n",
    "\n",
    "imgs_predicts_clean.drop(columns=['p1','p1_conf','p1_dog','p2','p2_conf','p2_dog','p3','p3_conf','p3_dog'],inplace=True)"
   ]
  },
  {
   "cell_type": "markdown",
   "metadata": {},
   "source": [
    "#### Test"
   ]
  },
  {
   "cell_type": "code",
   "execution_count": 62,
   "metadata": {},
   "outputs": [
    {
     "data": {
      "text/plain": [
       "Index(['tweet_id', 'jpg_url', 'img_num', 'predict_conf', 'predict', 'is_dog'], dtype='object')"
      ]
     },
     "execution_count": 62,
     "metadata": {},
     "output_type": "execute_result"
    }
   ],
   "source": [
    "imgs_predicts_clean.columns"
   ]
  },
  {
   "cell_type": "markdown",
   "metadata": {},
   "source": [
    "### Quality"
   ]
  },
  {
   "cell_type": "markdown",
   "metadata": {},
   "source": [
    "### Define\n",
    "\n",
    "#### Issue\n",
    "- name column has entries with 'None' string as value which should be replaced with np.nan"
   ]
  },
  {
   "cell_type": "markdown",
   "metadata": {},
   "source": [
    "#### Code"
   ]
  },
  {
   "cell_type": "code",
   "execution_count": 63,
   "metadata": {},
   "outputs": [],
   "source": [
    "tweets_clean['name'] = tweets_clean['name'].replace('None',np.nan)"
   ]
  },
  {
   "cell_type": "markdown",
   "metadata": {},
   "source": [
    "#### Test"
   ]
  },
  {
   "cell_type": "code",
   "execution_count": 64,
   "metadata": {},
   "outputs": [
    {
     "data": {
      "text/plain": [
       "0"
      ]
     },
     "execution_count": 64,
     "metadata": {},
     "output_type": "execute_result"
    }
   ],
   "source": [
    "len(tweets_clean[tweets_clean['name']=='None'])"
   ]
  },
  {
   "cell_type": "code",
   "execution_count": 65,
   "metadata": {},
   "outputs": [
    {
     "data": {
      "text/plain": [
       "NaN        744\n",
       "a           55\n",
       "Charlie     12\n",
       "Oliver      11\n",
       "Lucy        11\n",
       "          ... \n",
       "Monkey       1\n",
       "Toffee       1\n",
       "Robin        1\n",
       "Aldrick      1\n",
       "Sora         1\n",
       "Name: name, Length: 957, dtype: int64"
      ]
     },
     "execution_count": 65,
     "metadata": {},
     "output_type": "execute_result"
    }
   ],
   "source": [
    "tweets_clean['name'].value_counts(dropna=False)"
   ]
  },
  {
   "cell_type": "markdown",
   "metadata": {},
   "source": [
    "### Define\n",
    "\n",
    "#### Issue\n",
    "- name column has entries with bad names from list ['a','an','Al','JD','O','my','by','the'] and should be extracted from text or counted as missing name\n",
    "    - tweet at index 775: O'Malley\n",
    "    - tweet at index 820: Al Cabone\n",
    "    - tweet at index 852: Zoey\n",
    "    - tweet at index 1853: Wylie\n",
    "    - tweet at index 1955: Kip\n",
    "    - tweet at index 2034: Jacob (Yacōb)\n",
    "    - tweet at index 2041: JD (stands for \"just dog\")\n",
    "    - tweet at index 2066: Rufus\n",
    "    - tweet at index 2116: Spork\n",
    "    - tweet at index 2125: Cherokee\n",
    "    - tweet at index 2128: Hemry\n",
    "    - tweet at index 2146: Alphred\n",
    "    - tweet at index 2161: Alfredo\n",
    "    - tweet at index 2191: Leroi\n",
    "    - tweet at index 2204: Berta\n",
    "    - tweet at index 2218: Chuk\n",
    "    - tweet at index 2235: Alfonso\n",
    "    - tweet at index 2249: Cheryl\n",
    "    - tweet at index 2255: Jessiga\n",
    "    - tweet at index 2264: Klint\n",
    "    - tweet at index 2273: Kohl\n",
    "    - tweet at index 2287: Daryl\n",
    "    - tweet at index 2304: Pepe\n",
    "    - tweet at index 2311: Octaviath\n",
    "    - tweet at index 2314: Johm"
   ]
  },
  {
   "cell_type": "markdown",
   "metadata": {},
   "source": [
    "#### Code"
   ]
  },
  {
   "cell_type": "code",
   "execution_count": 66,
   "metadata": {
    "scrolled": false
   },
   "outputs": [],
   "source": [
    "tweets_clean['name'] = tweets_clean['name'].replace(['a','an','Al','JD','O','my','by','the'],np.nan)\n",
    "tweets_clean.loc[775,'name'] = 'O\\'Malley'\n",
    "tweets_clean.loc[820,'name'] = 'Al Cabone'\n",
    "tweets_clean.loc[852,'name'] = 'Zoey'\n",
    "tweets_clean.loc[1853,'name'] = 'Wylie'\n",
    "tweets_clean.loc[1955,'name'] = 'Kip'\n",
    "tweets_clean.loc[2034,'name'] = 'Jacob (Yacōb)'\n",
    "tweets_clean.loc[2041,'name'] = 'JD'\n",
    "tweets_clean.loc[2066,'name'] = 'Rufus'\n",
    "tweets_clean.loc[2116,'name'] = 'Spork'\n",
    "tweets_clean.loc[2125,'name'] = 'Cherokee'\n",
    "tweets_clean.loc[2128,'name'] = 'Hemry'\n",
    "tweets_clean.loc[2146,'name'] = 'Alphred'\n",
    "tweets_clean.loc[2161,'name'] = 'Alfredo'\n",
    "tweets_clean.loc[2191,'name'] = 'Leroi'\n",
    "tweets_clean.loc[2204,'name'] = 'Berta'\n",
    "tweets_clean.loc[2218,'name'] = 'Chuk'\n",
    "tweets_clean.loc[2235,'name'] = 'Alfonso'\n",
    "tweets_clean.loc[2249,'name'] = 'Cheryl'\n",
    "tweets_clean.loc[2255,'name'] = 'Jessiga'\n",
    "tweets_clean.loc[2264,'name'] = 'Klint'\n",
    "tweets_clean.loc[2273,'name'] = 'Kohl'\n",
    "tweets_clean.loc[2287,'name'] = 'Daryl'\n",
    "tweets_clean.loc[2304,'name'] = 'Pepe'\n",
    "tweets_clean.loc[2311,'name'] = 'Octaviath'\n",
    "tweets_clean.loc[2314,'name'] = 'Johm'"
   ]
  },
  {
   "cell_type": "markdown",
   "metadata": {},
   "source": [
    "#### Test"
   ]
  },
  {
   "cell_type": "code",
   "execution_count": 67,
   "metadata": {},
   "outputs": [
    {
     "data": {
      "text/plain": [
       "NaN        812\n",
       "Charlie     12\n",
       "Cooper      11\n",
       "Lucy        11\n",
       "Oliver      11\n",
       "          ... \n",
       "Spork        1\n",
       "Puff         1\n",
       "Monkey       1\n",
       "Toffee       1\n",
       "Sora         1\n",
       "Name: name, Length: 963, dtype: int64"
      ]
     },
     "execution_count": 67,
     "metadata": {},
     "output_type": "execute_result"
    }
   ],
   "source": [
    "tweets_clean['name'].value_counts(dropna=False)"
   ]
  },
  {
   "cell_type": "markdown",
   "metadata": {},
   "source": [
    "### Save Cleaned Data"
   ]
  },
  {
   "cell_type": "code",
   "execution_count": 68,
   "metadata": {},
   "outputs": [],
   "source": [
    "tweets_clean.to_csv('twitter_archive_master.csv', index=False)\n",
    "imgs_predicts_clean.to_csv('imgs_predicts_master.csv', index=False)"
   ]
  },
  {
   "cell_type": "markdown",
   "metadata": {},
   "source": [
    "### Insights and visualizations from cleaned data"
   ]
  },
  {
   "cell_type": "code",
   "execution_count": 69,
   "metadata": {},
   "outputs": [],
   "source": [
    "%matplotlib inline"
   ]
  },
  {
   "cell_type": "code",
   "execution_count": 70,
   "metadata": {
    "scrolled": false
   },
   "outputs": [
    {
     "data": {
      "text/html": [
       "<div>\n",
       "<style scoped>\n",
       "    .dataframe tbody tr th:only-of-type {\n",
       "        vertical-align: middle;\n",
       "    }\n",
       "\n",
       "    .dataframe tbody tr th {\n",
       "        vertical-align: top;\n",
       "    }\n",
       "\n",
       "    .dataframe thead th {\n",
       "        text-align: right;\n",
       "    }\n",
       "</style>\n",
       "<table border=\"1\" class=\"dataframe\">\n",
       "  <thead>\n",
       "    <tr style=\"text-align: right;\">\n",
       "      <th></th>\n",
       "      <th>rating</th>\n",
       "      <th>retweet_count</th>\n",
       "      <th>favorite_count</th>\n",
       "    </tr>\n",
       "  </thead>\n",
       "  <tbody>\n",
       "    <tr>\n",
       "      <th>count</th>\n",
       "      <td>2353.000000</td>\n",
       "      <td>2354.000000</td>\n",
       "      <td>2354.000000</td>\n",
       "    </tr>\n",
       "    <tr>\n",
       "      <th>mean</th>\n",
       "      <td>1.221273</td>\n",
       "      <td>3164.797366</td>\n",
       "      <td>8080.968564</td>\n",
       "    </tr>\n",
       "    <tr>\n",
       "      <th>std</th>\n",
       "      <td>4.084945</td>\n",
       "      <td>5284.770364</td>\n",
       "      <td>11814.771334</td>\n",
       "    </tr>\n",
       "    <tr>\n",
       "      <th>min</th>\n",
       "      <td>0.000000</td>\n",
       "      <td>0.000000</td>\n",
       "      <td>0.000000</td>\n",
       "    </tr>\n",
       "    <tr>\n",
       "      <th>25%</th>\n",
       "      <td>1.000000</td>\n",
       "      <td>624.500000</td>\n",
       "      <td>1415.000000</td>\n",
       "    </tr>\n",
       "    <tr>\n",
       "      <th>50%</th>\n",
       "      <td>1.100000</td>\n",
       "      <td>1473.500000</td>\n",
       "      <td>3603.500000</td>\n",
       "    </tr>\n",
       "    <tr>\n",
       "      <th>75%</th>\n",
       "      <td>1.200000</td>\n",
       "      <td>3652.000000</td>\n",
       "      <td>10122.250000</td>\n",
       "    </tr>\n",
       "    <tr>\n",
       "      <th>max</th>\n",
       "      <td>177.600000</td>\n",
       "      <td>79515.000000</td>\n",
       "      <td>132810.000000</td>\n",
       "    </tr>\n",
       "  </tbody>\n",
       "</table>\n",
       "</div>"
      ],
      "text/plain": [
       "            rating  retweet_count  favorite_count\n",
       "count  2353.000000    2354.000000     2354.000000\n",
       "mean      1.221273    3164.797366     8080.968564\n",
       "std       4.084945    5284.770364    11814.771334\n",
       "min       0.000000       0.000000        0.000000\n",
       "25%       1.000000     624.500000     1415.000000\n",
       "50%       1.100000    1473.500000     3603.500000\n",
       "75%       1.200000    3652.000000    10122.250000\n",
       "max     177.600000   79515.000000   132810.000000"
      ]
     },
     "execution_count": 70,
     "metadata": {},
     "output_type": "execute_result"
    }
   ],
   "source": [
    "tweets_clean.describe()"
   ]
  },
  {
   "cell_type": "markdown",
   "metadata": {},
   "source": [
    "### Insight :\n",
    "- Tweet with max retweet count is not the one with max favorite count \n",
    "- but there should be positive correlation between retweet_count and favorite_count"
   ]
  },
  {
   "cell_type": "code",
   "execution_count": 71,
   "metadata": {},
   "outputs": [
    {
     "name": "stdout",
     "output_type": "stream",
     "text": [
      "tweet with max retweet count : 744234799360020481\n",
      "tweet with max favorite count : 822872901745569793\n"
     ]
    }
   ],
   "source": [
    "print('tweet with max retweet count : {}'.format(tweets_clean.loc[tweets_clean['retweet_count'].idxmax() , 'tweet_id']))\n",
    "print('tweet with max favorite count : {}'.format(tweets_clean.loc[tweets_clean['favorite_count'].idxmax() , 'tweet_id']))"
   ]
  },
  {
   "cell_type": "markdown",
   "metadata": {},
   "source": [
    "#### Retweet Count and Favorite Count should have positive correlation"
   ]
  },
  {
   "cell_type": "code",
   "execution_count": 72,
   "metadata": {},
   "outputs": [
    {
     "data": {
      "image/png": "[encoded data removed]",
      "text/plain": [
       "<Figure size 432x288 with 1 Axes>"
      ]
     },
     "metadata": {
      "needs_background": "light"
     },
     "output_type": "display_data"
    }
   ],
   "source": [
    "plt.scatter(tweets_clean['favorite_count'],tweets_clean['retweet_count'])\n",
    "plt.xlabel('favorite_count')\n",
    "plt.ylabel('retweet_count')\n",
    "plt.title('Retweet Counts VS Favorite Count')\n",
    "plt.savefig('./plots/retweet_and_favorite_count.png')"
   ]
  },
  {
   "cell_type": "markdown",
   "metadata": {},
   "source": [
    "#### Insight :\n",
    "- Most tweets about pupper dogs"
   ]
  },
  {
   "cell_type": "code",
   "execution_count": 73,
   "metadata": {
    "scrolled": false
   },
   "outputs": [
    {
     "data": {
      "text/plain": [
       "pupper     244\n",
       "doggo       97\n",
       "puppo       29\n",
       "floofer      9\n",
       "Name: dog_stage, dtype: int64"
      ]
     },
     "execution_count": 73,
     "metadata": {},
     "output_type": "execute_result"
    }
   ],
   "source": [
    "tweets_clean['dog_stage'].value_counts()"
   ]
  },
  {
   "cell_type": "code",
   "execution_count": 74,
   "metadata": {},
   "outputs": [
    {
     "data": {
      "image/png": "[encoded data removed]",
      "text/plain": [
       "<Figure size 432x288 with 1 Axes>"
      ]
     },
     "metadata": {
      "needs_background": "light"
     },
     "output_type": "display_data"
    }
   ],
   "source": [
    "plt.barh([1, 2, 3, 4], tweets_clean['dog_stage'].value_counts().sort_values(ascending=False), tick_label=['pupper', 'doggo' ,'puppo','floofer' ])\n",
    "plt.xlabel('Value Count')\n",
    "plt.ylabel('Dog Stage')\n",
    "plt.title('Most Tweets about pupper Dogs')\n",
    "plt.savefig('./plots/most_liked_dog_stage.png')"
   ]
  },
  {
   "cell_type": "markdown",
   "metadata": {},
   "source": [
    "#### Insight:\n",
    "- top 10 most common names for dogs"
   ]
  },
  {
   "cell_type": "code",
   "execution_count": 75,
   "metadata": {
    "scrolled": true
   },
   "outputs": [
    {
     "data": {
      "text/plain": [
       "Charlie    12\n",
       "Oliver     11\n",
       "Cooper     11\n",
       "Lucy       11\n",
       "Tucker     10\n",
       "Penny      10\n",
       "Lola       10\n",
       "Bo          9\n",
       "Winston     9\n",
       "Sadie       8\n",
       "Name: name, dtype: int64"
      ]
     },
     "execution_count": 75,
     "metadata": {},
     "output_type": "execute_result"
    }
   ],
   "source": [
    "tweets_clean['name'].value_counts().sort_values(ascending = False).head(10)"
   ]
  },
  {
   "cell_type": "code",
   "execution_count": 76,
   "metadata": {},
   "outputs": [
    {
     "data": {
      "text/html": [
       "<div>\n",
       "<style scoped>\n",
       "    .dataframe tbody tr th:only-of-type {\n",
       "        vertical-align: middle;\n",
       "    }\n",
       "\n",
       "    .dataframe tbody tr th {\n",
       "        vertical-align: top;\n",
       "    }\n",
       "\n",
       "    .dataframe thead th {\n",
       "        text-align: right;\n",
       "    }\n",
       "</style>\n",
       "<table border=\"1\" class=\"dataframe\">\n",
       "  <thead>\n",
       "    <tr style=\"text-align: right;\">\n",
       "      <th></th>\n",
       "      <th>img_num</th>\n",
       "      <th>predict_conf</th>\n",
       "    </tr>\n",
       "  </thead>\n",
       "  <tbody>\n",
       "    <tr>\n",
       "      <th>count</th>\n",
       "      <td>1751.000000</td>\n",
       "      <td>1751.000000</td>\n",
       "    </tr>\n",
       "    <tr>\n",
       "      <th>mean</th>\n",
       "      <td>1.214734</td>\n",
       "      <td>0.604207</td>\n",
       "    </tr>\n",
       "    <tr>\n",
       "      <th>std</th>\n",
       "      <td>0.574337</td>\n",
       "      <td>0.265911</td>\n",
       "    </tr>\n",
       "    <tr>\n",
       "      <th>min</th>\n",
       "      <td>1.000000</td>\n",
       "      <td>0.044333</td>\n",
       "    </tr>\n",
       "    <tr>\n",
       "      <th>25%</th>\n",
       "      <td>1.000000</td>\n",
       "      <td>0.377079</td>\n",
       "    </tr>\n",
       "    <tr>\n",
       "      <th>50%</th>\n",
       "      <td>1.000000</td>\n",
       "      <td>0.605304</td>\n",
       "    </tr>\n",
       "    <tr>\n",
       "      <th>75%</th>\n",
       "      <td>1.000000</td>\n",
       "      <td>0.848720</td>\n",
       "    </tr>\n",
       "    <tr>\n",
       "      <th>max</th>\n",
       "      <td>4.000000</td>\n",
       "      <td>0.999984</td>\n",
       "    </tr>\n",
       "  </tbody>\n",
       "</table>\n",
       "</div>"
      ],
      "text/plain": [
       "           img_num  predict_conf\n",
       "count  1751.000000   1751.000000\n",
       "mean      1.214734      0.604207\n",
       "std       0.574337      0.265911\n",
       "min       1.000000      0.044333\n",
       "25%       1.000000      0.377079\n",
       "50%       1.000000      0.605304\n",
       "75%       1.000000      0.848720\n",
       "max       4.000000      0.999984"
      ]
     },
     "execution_count": 76,
     "metadata": {},
     "output_type": "execute_result"
    }
   ],
   "source": [
    "imgs_predicts_clean.describe()"
   ]
  },
  {
   "cell_type": "code",
   "execution_count": 77,
   "metadata": {},
   "outputs": [],
   "source": [
    "merged_df = tweets_clean.merge(imgs_predicts_clean)"
   ]
  },
  {
   "cell_type": "code",
   "execution_count": 78,
   "metadata": {},
   "outputs": [
    {
     "name": "stdout",
     "output_type": "stream",
     "text": [
      "<class 'pandas.core.frame.DataFrame'>\n",
      "Int64Index: 1750 entries, 0 to 1749\n",
      "Data columns (total 14 columns):\n",
      " #   Column          Non-Null Count  Dtype              \n",
      "---  ------          --------------  -----              \n",
      " 0   tweet_id        1750 non-null   object             \n",
      " 1   timestamp       1750 non-null   datetime64[ns, UTC]\n",
      " 2   name            1256 non-null   object             \n",
      " 3   tweet_text      1750 non-null   object             \n",
      " 4   tweet_url       1750 non-null   object             \n",
      " 5   dog_stage       270 non-null    category           \n",
      " 6   rating          1749 non-null   float64            \n",
      " 7   retweet_count   1750 non-null   int64              \n",
      " 8   favorite_count  1750 non-null   int64              \n",
      " 9   jpg_url         1750 non-null   object             \n",
      " 10  img_num         1750 non-null   int64              \n",
      " 11  predict_conf    1750 non-null   float64            \n",
      " 12  predict         1750 non-null   object             \n",
      " 13  is_dog          1750 non-null   bool               \n",
      "dtypes: bool(1), category(1), datetime64[ns, UTC](1), float64(2), int64(3), object(6)\n",
      "memory usage: 181.3+ KB\n"
     ]
    }
   ],
   "source": [
    "merged_df.info()"
   ]
  },
  {
   "cell_type": "markdown",
   "metadata": {},
   "source": [
    "#### Insight : \n",
    "- Predict with heighest number of tweets belong to golden_retriever"
   ]
  },
  {
   "cell_type": "code",
   "execution_count": 79,
   "metadata": {
    "scrolled": true
   },
   "outputs": [
    {
     "data": {
      "text/plain": [
       "golden_retriever      150\n",
       "Labrador_retriever    100\n",
       "Pembroke               88\n",
       "Chihuahua              83\n",
       "pug                    57\n",
       "                     ... \n",
       "rain_barrel             1\n",
       "tabby                   1\n",
       "maillot                 1\n",
       "standard_schnauzer      1\n",
       "feather_boa             1\n",
       "Name: predict, Length: 215, dtype: int64"
      ]
     },
     "execution_count": 79,
     "metadata": {},
     "output_type": "execute_result"
    }
   ],
   "source": [
    "merged_df['predict'].value_counts().sort_values(ascending=False)"
   ]
  },
  {
   "cell_type": "code",
   "execution_count": 80,
   "metadata": {
    "scrolled": true
   },
   "outputs": [
    {
     "data": {
      "image/png": "[encoded data removed]",
      "text/plain": [
       "<Figure size 432x288 with 1 Axes>"
      ]
     },
     "metadata": {
      "needs_background": "light"
     },
     "output_type": "display_data"
    }
   ],
   "source": [
    "labels = merged_df['predict'].value_counts().sort_values(ascending=False).index\n",
    "plt.barh(range(10),merged_df['predict'].value_counts().sort_values(ascending=False).head(10), tick_label=labels[:10])\n",
    "plt.xlabel('Value Count')\n",
    "plt.ylabel('Dog Predicts')\n",
    "plt.savefig('./plots/common_dog_predict_tweets.png')"
   ]
  }
 ],
 "metadata": {
  "kernelspec": {
   "display_name": "Python 3",
   "language": "python",
   "name": "python3"
  },
  "language_info": {
   "codemirror_mode": {
    "name": "ipython",
    "version": 3
   },
   "file_extension": ".py",
   "mimetype": "text/x-python",
   "name": "python",
   "nbconvert_exporter": "python",
   "pygments_lexer": "ipython3",
   "version": "3.7.7"
  }
 },
 "nbformat": 4,
 "nbformat_minor": 4
}
