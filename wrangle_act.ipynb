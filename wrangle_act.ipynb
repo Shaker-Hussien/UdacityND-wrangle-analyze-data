{
 "cells": [
  {
   "cell_type": "markdown",
   "metadata": {},
   "source": [
    "## Project:\n",
    "\n",
    "### WeRateDogs Wrangle and Analyze Data"
   ]
  },
  {
   "cell_type": "markdown",
   "metadata": {},
   "source": [
    "## Key Points\n",
    "\n",
    "### Key points to keep in mind when data wrangling:\n",
    "\n",
    "- You only want original ratings (no retweets) that have images. Though there are 5000+ tweets in the dataset, not all are dog ratings and some are retweets.\n",
    "\n",
    "- Assessing and cleaning the entire dataset completely would require a lot of time, and is not necessary to practice and demonstrate your skills in data wrangling. Therefore, the requirements of this project are only to assess and clean at least 8 quality issues and at least 2 tidiness issues in this dataset.\n",
    "\n",
    "- Cleaning includes merging individual pieces of data according to the rules of tidy data.\n",
    "\n",
    "- The fact that the rating numerators are greater than the denominators does not need to be cleaned. This unique rating system is a big part of the popularity of WeRateDogs.\n",
    "\n",
    "- You do not need to gather the tweets beyond August 1st, 2017. You can, but note that you won't be able to gather the image predictions for these tweets since you don't have access to the algorithm used.\n"
   ]
  },
  {
   "cell_type": "markdown",
   "metadata": {},
   "source": [
    "## Gather"
   ]
  },
  {
   "cell_type": "code",
   "execution_count": 1,
   "metadata": {},
   "outputs": [],
   "source": [
    "import numpy as np\n",
    "import pandas as pd\n",
    "import requests\n",
    "import matplotlib.pyplot as plt\n",
    "import json"
   ]
  },
  {
   "cell_type": "markdown",
   "metadata": {},
   "source": [
    "### Load Tweets from twitter-archive-enhanced.csv"
   ]
  },
  {
   "cell_type": "code",
   "execution_count": 2,
   "metadata": {},
   "outputs": [],
   "source": [
    "tweets = pd.read_csv('twitter-archive-enhanced.csv')"
   ]
  },
  {
   "cell_type": "markdown",
   "metadata": {},
   "source": [
    "### Load imgs data frame Image Predictions File"
   ]
  },
  {
   "cell_type": "code",
   "execution_count": 3,
   "metadata": {},
   "outputs": [],
   "source": [
    "url = 'https://d17h27t6h515a5.cloudfront.net/topher/2017/August/599fd2ad_image-predictions/image-predictions.tsv'\n",
    "response = requests.get(url)\n",
    "\n",
    "if response.status_code == 200 :\n",
    "    with open(url.split('/')[-1], mode='wb') as file:\n",
    "        file.write(response.content)\n",
    "    \n",
    "    imgs_predicts = pd.read_csv('image-predictions.tsv',sep='\\t')\n",
    "else:\n",
    "    print('Error in getting images predictions file')"
   ]
  },
  {
   "cell_type": "markdown",
   "metadata": {},
   "source": [
    "### Load Additional Data via the Twitter API \n",
    "\n",
    "**downloaded the file manually and load json**"
   ]
  },
  {
   "cell_type": "code",
   "execution_count": 4,
   "metadata": {},
   "outputs": [],
   "source": [
    "api_info = pd.read_json('tweet-json.txt' , lines=True)"
   ]
  },
  {
   "cell_type": "markdown",
   "metadata": {},
   "source": [
    "**For programmatically accessing Twitter API you could use the following commented code**"
   ]
  },
  {
   "cell_type": "code",
   "execution_count": 5,
   "metadata": {},
   "outputs": [],
   "source": [
    "# import tweepy\n",
    "# from tweepy import OAuthHandler\n",
    "# import json\n",
    "# from timeit import default_timer as timer\n",
    "\n",
    "# # Query Twitter API for each tweet in the Twitter archive and save JSON in a text file\n",
    "# # These are hidden to comply with Twitter's API terms and conditions\n",
    "# consumer_key = 'HIDDEN'\n",
    "# consumer_secret = 'HIDDEN'\n",
    "# access_token = 'HIDDEN'\n",
    "# access_secret = 'HIDDEN'\n",
    "\n",
    "# auth = OAuthHandler(consumer_key, consumer_secret)\n",
    "# auth.set_access_token(access_token, access_secret)\n",
    "\n",
    "# api = tweepy.API(auth, wait_on_rate_limit=True)\n",
    "\n",
    "# tweet_ids = df_1.tweet_id.values\n",
    "# len(tweet_ids)\n",
    "\n",
    "# # Query Twitter's API for JSON data for each tweet ID in the Twitter archive\n",
    "# count = 0\n",
    "# fails_dict = {}\n",
    "# start = timer()\n",
    "# # Save each tweet's returned JSON as a new line in a .txt file\n",
    "# with open('tweet_json.txt', 'w') as outfile:\n",
    "#     # This loop will likely take 20-30 minutes to run because of Twitter's rate limit\n",
    "#     for tweet_id in tweet_ids:\n",
    "#         count += 1\n",
    "#         print(str(count) + \": \" + str(tweet_id))\n",
    "#         try:\n",
    "#             tweet = api.get_status(tweet_id, tweet_mode='extended')\n",
    "#             print(\"Success\")\n",
    "#             json.dump(tweet._json, outfile)\n",
    "#             outfile.write('\\n')\n",
    "#         except tweepy.TweepError as e:\n",
    "#             print(\"Fail\")\n",
    "#             fails_dict[tweet_id] = e\n",
    "#             pass\n",
    "# end = timer()\n",
    "# print(end - start)\n",
    "# print(fails_dict)\n"
   ]
  },
  {
   "cell_type": "markdown",
   "metadata": {},
   "source": [
    "## Assess"
   ]
  },
  {
   "cell_type": "markdown",
   "metadata": {},
   "source": [
    "### Assess tweets df\n",
    "- get info , stats about tweets df\n",
    "\n",
    "### findings:\n",
    "- interesting columns are: 'tweet_id', 'timestamp','text', 'rating_numerator', 'rating_denominator', 'name', 'doggo', 'floofer', 'pupper', 'puppo'\n",
    "\n",
    "- unneeded columns\n",
    "    - (retweet) related columns not needed : 'retweeted_status_id', 'retweeted_status_user_id', 'retweeted_status_timestamp    \n",
    "    - (in-reply) related columns, source and expanded_urls are not needed \n",
    "    \n",
    "- Data Types:\n",
    "    - tweet_id needed to be string\n",
    "    - timestamp needed to be datetime\n",
    "    - doggo,floofer,pupper and puppo should be one column (dog stage) of type category [tidiness]\n",
    "\n",
    "- rows related to retweet needed to be dropped [identified as rows with : 'RT @' in text column or rows that have values in retweet related columns ].\n",
    "\n",
    "- text column has both text and tweet url [tidiness]\n",
    "\n",
    "- there are 745 row with name has None value. [Missing values]\n",
    "\n",
    "- there are 79 row with name length < 3 , names have these values ['a', 'Bo', 'an', 'my', 'O', 'Mo', 'Jo', 'by', 'Al', 'Ed', 'JD' ]\n",
    "\n",
    "- this list of bad names should be extracted from text or counted as missing name : ['a','an','Al','JD','O','my','by','the']\n",
    "\n",
    "- there are 1976 row of tweets where all dog 'stage' are None. [Missing values]\n",
    "\n",
    "- there are 14 row have multiple dog stage\n",
    "\n",
    "- there are 23 row with rating denominator != 10 , 20 row > 10 and 3 rows < 10 [1 row with 0 ,1 row with 2 and 1 row with 7] ,all rating < 10 should be corrected manually\n",
    "\n",
    "- After investigating the three entries with denominator< 10 , there are some data needed to be checked manually\n",
    "    - rating at tweet in index 2335 should be extracted from text\n",
    "\n",
    "- rating_numerator and rating_denominator should be one column reflect rating_numerator/rating_denominator of type float [tidiness]\n"
   ]
  },
  {
   "cell_type": "code",
   "execution_count": 6,
   "metadata": {},
   "outputs": [
    {
     "data": {
      "text/html": [
       "<div>\n",
       "<style scoped>\n",
       "    .dataframe tbody tr th:only-of-type {\n",
       "        vertical-align: middle;\n",
       "    }\n",
       "\n",
       "    .dataframe tbody tr th {\n",
       "        vertical-align: top;\n",
       "    }\n",
       "\n",
       "    .dataframe thead th {\n",
       "        text-align: right;\n",
       "    }\n",
       "</style>\n",
       "<table border=\"1\" class=\"dataframe\">\n",
       "  <thead>\n",
       "    <tr style=\"text-align: right;\">\n",
       "      <th></th>\n",
       "      <th>tweet_id</th>\n",
       "      <th>in_reply_to_status_id</th>\n",
       "      <th>in_reply_to_user_id</th>\n",
       "      <th>timestamp</th>\n",
       "      <th>source</th>\n",
       "      <th>text</th>\n",
       "      <th>retweeted_status_id</th>\n",
       "      <th>retweeted_status_user_id</th>\n",
       "      <th>retweeted_status_timestamp</th>\n",
       "      <th>expanded_urls</th>\n",
       "      <th>rating_numerator</th>\n",
       "      <th>rating_denominator</th>\n",
       "      <th>name</th>\n",
       "      <th>doggo</th>\n",
       "      <th>floofer</th>\n",
       "      <th>pupper</th>\n",
       "      <th>puppo</th>\n",
       "    </tr>\n",
       "  </thead>\n",
       "  <tbody>\n",
       "    <tr>\n",
       "      <th>2312</th>\n",
       "      <td>666776908487630848</td>\n",
       "      <td>NaN</td>\n",
       "      <td>NaN</td>\n",
       "      <td>2015-11-18 00:36:17 +0000</td>\n",
       "      <td>&lt;a href=\"http://twitter.com/download/iphone\" r...</td>\n",
       "      <td>This is Josep. He is a Rye Manganese mix. Can ...</td>\n",
       "      <td>NaN</td>\n",
       "      <td>NaN</td>\n",
       "      <td>NaN</td>\n",
       "      <td>https://twitter.com/dog_rates/status/666776908...</td>\n",
       "      <td>5</td>\n",
       "      <td>10</td>\n",
       "      <td>Josep</td>\n",
       "      <td>None</td>\n",
       "      <td>None</td>\n",
       "      <td>None</td>\n",
       "      <td>None</td>\n",
       "    </tr>\n",
       "    <tr>\n",
       "      <th>1447</th>\n",
       "      <td>696488710901260288</td>\n",
       "      <td>NaN</td>\n",
       "      <td>NaN</td>\n",
       "      <td>2016-02-08 00:20:23 +0000</td>\n",
       "      <td>&lt;a href=\"http://twitter.com/download/iphone\" r...</td>\n",
       "      <td>12/10 revolutionary af https://t.co/zKzq4nIY86</td>\n",
       "      <td>NaN</td>\n",
       "      <td>NaN</td>\n",
       "      <td>NaN</td>\n",
       "      <td>https://twitter.com/dog_rates/status/696488710...</td>\n",
       "      <td>12</td>\n",
       "      <td>10</td>\n",
       "      <td>None</td>\n",
       "      <td>None</td>\n",
       "      <td>None</td>\n",
       "      <td>None</td>\n",
       "      <td>None</td>\n",
       "    </tr>\n",
       "    <tr>\n",
       "      <th>2285</th>\n",
       "      <td>667188689915760640</td>\n",
       "      <td>NaN</td>\n",
       "      <td>NaN</td>\n",
       "      <td>2015-11-19 03:52:34 +0000</td>\n",
       "      <td>&lt;a href=\"http://twitter.com/download/iphone\" r...</td>\n",
       "      <td>Quite an advanced dog here. Impressively dress...</td>\n",
       "      <td>NaN</td>\n",
       "      <td>NaN</td>\n",
       "      <td>NaN</td>\n",
       "      <td>https://twitter.com/dog_rates/status/667188689...</td>\n",
       "      <td>10</td>\n",
       "      <td>10</td>\n",
       "      <td>None</td>\n",
       "      <td>None</td>\n",
       "      <td>None</td>\n",
       "      <td>None</td>\n",
       "      <td>None</td>\n",
       "    </tr>\n",
       "    <tr>\n",
       "      <th>1400</th>\n",
       "      <td>699446877801091073</td>\n",
       "      <td>NaN</td>\n",
       "      <td>NaN</td>\n",
       "      <td>2016-02-16 04:15:05 +0000</td>\n",
       "      <td>&lt;a href=\"http://twitter.com/download/iphone\" r...</td>\n",
       "      <td>This is Archie. He's undercover in all these p...</td>\n",
       "      <td>NaN</td>\n",
       "      <td>NaN</td>\n",
       "      <td>NaN</td>\n",
       "      <td>https://twitter.com/dog_rates/status/699446877...</td>\n",
       "      <td>12</td>\n",
       "      <td>10</td>\n",
       "      <td>Archie</td>\n",
       "      <td>None</td>\n",
       "      <td>None</td>\n",
       "      <td>None</td>\n",
       "      <td>None</td>\n",
       "    </tr>\n",
       "    <tr>\n",
       "      <th>98</th>\n",
       "      <td>873213775632977920</td>\n",
       "      <td>NaN</td>\n",
       "      <td>NaN</td>\n",
       "      <td>2017-06-09 16:22:42 +0000</td>\n",
       "      <td>&lt;a href=\"http://twitter.com/download/iphone\" r...</td>\n",
       "      <td>This is Sierra. She's one precious pupper. Abs...</td>\n",
       "      <td>NaN</td>\n",
       "      <td>NaN</td>\n",
       "      <td>NaN</td>\n",
       "      <td>https://www.gofundme.com/help-my-baby-sierra-g...</td>\n",
       "      <td>12</td>\n",
       "      <td>10</td>\n",
       "      <td>Sierra</td>\n",
       "      <td>None</td>\n",
       "      <td>None</td>\n",
       "      <td>pupper</td>\n",
       "      <td>None</td>\n",
       "    </tr>\n",
       "  </tbody>\n",
       "</table>\n",
       "</div>"
      ],
      "text/plain": [
       "                tweet_id  in_reply_to_status_id  in_reply_to_user_id  \\\n",
       "2312  666776908487630848                    NaN                  NaN   \n",
       "1447  696488710901260288                    NaN                  NaN   \n",
       "2285  667188689915760640                    NaN                  NaN   \n",
       "1400  699446877801091073                    NaN                  NaN   \n",
       "98    873213775632977920                    NaN                  NaN   \n",
       "\n",
       "                      timestamp  \\\n",
       "2312  2015-11-18 00:36:17 +0000   \n",
       "1447  2016-02-08 00:20:23 +0000   \n",
       "2285  2015-11-19 03:52:34 +0000   \n",
       "1400  2016-02-16 04:15:05 +0000   \n",
       "98    2017-06-09 16:22:42 +0000   \n",
       "\n",
       "                                                 source  \\\n",
       "2312  <a href=\"http://twitter.com/download/iphone\" r...   \n",
       "1447  <a href=\"http://twitter.com/download/iphone\" r...   \n",
       "2285  <a href=\"http://twitter.com/download/iphone\" r...   \n",
       "1400  <a href=\"http://twitter.com/download/iphone\" r...   \n",
       "98    <a href=\"http://twitter.com/download/iphone\" r...   \n",
       "\n",
       "                                                   text  retweeted_status_id  \\\n",
       "2312  This is Josep. He is a Rye Manganese mix. Can ...                  NaN   \n",
       "1447     12/10 revolutionary af https://t.co/zKzq4nIY86                  NaN   \n",
       "2285  Quite an advanced dog here. Impressively dress...                  NaN   \n",
       "1400  This is Archie. He's undercover in all these p...                  NaN   \n",
       "98    This is Sierra. She's one precious pupper. Abs...                  NaN   \n",
       "\n",
       "      retweeted_status_user_id retweeted_status_timestamp  \\\n",
       "2312                       NaN                        NaN   \n",
       "1447                       NaN                        NaN   \n",
       "2285                       NaN                        NaN   \n",
       "1400                       NaN                        NaN   \n",
       "98                         NaN                        NaN   \n",
       "\n",
       "                                          expanded_urls  rating_numerator  \\\n",
       "2312  https://twitter.com/dog_rates/status/666776908...                 5   \n",
       "1447  https://twitter.com/dog_rates/status/696488710...                12   \n",
       "2285  https://twitter.com/dog_rates/status/667188689...                10   \n",
       "1400  https://twitter.com/dog_rates/status/699446877...                12   \n",
       "98    https://www.gofundme.com/help-my-baby-sierra-g...                12   \n",
       "\n",
       "      rating_denominator    name doggo floofer  pupper puppo  \n",
       "2312                  10   Josep  None    None    None  None  \n",
       "1447                  10    None  None    None    None  None  \n",
       "2285                  10    None  None    None    None  None  \n",
       "1400                  10  Archie  None    None    None  None  \n",
       "98                    10  Sierra  None    None  pupper  None  "
      ]
     },
     "execution_count": 6,
     "metadata": {},
     "output_type": "execute_result"
    }
   ],
   "source": [
    "tweets.sample(5)"
   ]
  },
  {
   "cell_type": "code",
   "execution_count": 7,
   "metadata": {
    "scrolled": false
   },
   "outputs": [
    {
     "name": "stdout",
     "output_type": "stream",
     "text": [
      "<class 'pandas.core.frame.DataFrame'>\n",
      "RangeIndex: 2356 entries, 0 to 2355\n",
      "Data columns (total 17 columns):\n",
      " #   Column                      Non-Null Count  Dtype  \n",
      "---  ------                      --------------  -----  \n",
      " 0   tweet_id                    2356 non-null   int64  \n",
      " 1   in_reply_to_status_id       78 non-null     float64\n",
      " 2   in_reply_to_user_id         78 non-null     float64\n",
      " 3   timestamp                   2356 non-null   object \n",
      " 4   source                      2356 non-null   object \n",
      " 5   text                        2356 non-null   object \n",
      " 6   retweeted_status_id         181 non-null    float64\n",
      " 7   retweeted_status_user_id    181 non-null    float64\n",
      " 8   retweeted_status_timestamp  181 non-null    object \n",
      " 9   expanded_urls               2297 non-null   object \n",
      " 10  rating_numerator            2356 non-null   int64  \n",
      " 11  rating_denominator          2356 non-null   int64  \n",
      " 12  name                        2356 non-null   object \n",
      " 13  doggo                       2356 non-null   object \n",
      " 14  floofer                     2356 non-null   object \n",
      " 15  pupper                      2356 non-null   object \n",
      " 16  puppo                       2356 non-null   object \n",
      "dtypes: float64(4), int64(3), object(10)\n",
      "memory usage: 313.0+ KB\n"
     ]
    }
   ],
   "source": [
    "tweets.info()"
   ]
  },
  {
   "cell_type": "code",
   "execution_count": 8,
   "metadata": {
    "scrolled": false
   },
   "outputs": [
    {
     "data": {
      "text/plain": [
       "Index(['tweet_id', 'in_reply_to_status_id', 'in_reply_to_user_id', 'timestamp',\n",
       "       'source', 'text', 'retweeted_status_id', 'retweeted_status_user_id',\n",
       "       'retweeted_status_timestamp', 'expanded_urls', 'rating_numerator',\n",
       "       'rating_denominator', 'name', 'doggo', 'floofer', 'pupper', 'puppo'],\n",
       "      dtype='object')"
      ]
     },
     "execution_count": 8,
     "metadata": {},
     "output_type": "execute_result"
    }
   ],
   "source": [
    "tweets.columns"
   ]
  },
  {
   "cell_type": "code",
   "execution_count": 9,
   "metadata": {},
   "outputs": [
    {
     "data": {
      "text/plain": [
       "0"
      ]
     },
     "execution_count": 9,
     "metadata": {},
     "output_type": "execute_result"
    }
   ],
   "source": [
    "#check duplicates in tweets df\n",
    "\n",
    "tweets.duplicated().sum()"
   ]
  },
  {
   "cell_type": "code",
   "execution_count": 10,
   "metadata": {},
   "outputs": [
    {
     "data": {
      "text/plain": [
       "tweet_id                         0\n",
       "in_reply_to_status_id         2278\n",
       "in_reply_to_user_id           2278\n",
       "timestamp                        0\n",
       "source                           0\n",
       "text                             0\n",
       "retweeted_status_id           2175\n",
       "retweeted_status_user_id      2175\n",
       "retweeted_status_timestamp    2175\n",
       "expanded_urls                   59\n",
       "rating_numerator                 0\n",
       "rating_denominator               0\n",
       "name                             0\n",
       "doggo                            0\n",
       "floofer                          0\n",
       "pupper                           0\n",
       "puppo                            0\n",
       "dtype: int64"
      ]
     },
     "execution_count": 10,
     "metadata": {},
     "output_type": "execute_result"
    }
   ],
   "source": [
    "#check missing values in tweets df\n",
    "\n",
    "tweets.isnull().sum()"
   ]
  },
  {
   "cell_type": "code",
   "execution_count": 11,
   "metadata": {
    "scrolled": false
   },
   "outputs": [
    {
     "data": {
      "text/html": [
       "<div>\n",
       "<style scoped>\n",
       "    .dataframe tbody tr th:only-of-type {\n",
       "        vertical-align: middle;\n",
       "    }\n",
       "\n",
       "    .dataframe tbody tr th {\n",
       "        vertical-align: top;\n",
       "    }\n",
       "\n",
       "    .dataframe thead th {\n",
       "        text-align: right;\n",
       "    }\n",
       "</style>\n",
       "<table border=\"1\" class=\"dataframe\">\n",
       "  <thead>\n",
       "    <tr style=\"text-align: right;\">\n",
       "      <th></th>\n",
       "      <th>tweet_id</th>\n",
       "      <th>in_reply_to_status_id</th>\n",
       "      <th>in_reply_to_user_id</th>\n",
       "      <th>retweeted_status_id</th>\n",
       "      <th>retweeted_status_user_id</th>\n",
       "      <th>rating_numerator</th>\n",
       "      <th>rating_denominator</th>\n",
       "    </tr>\n",
       "  </thead>\n",
       "  <tbody>\n",
       "    <tr>\n",
       "      <th>count</th>\n",
       "      <td>2.356000e+03</td>\n",
       "      <td>7.800000e+01</td>\n",
       "      <td>7.800000e+01</td>\n",
       "      <td>1.810000e+02</td>\n",
       "      <td>1.810000e+02</td>\n",
       "      <td>2356.000000</td>\n",
       "      <td>2356.000000</td>\n",
       "    </tr>\n",
       "    <tr>\n",
       "      <th>mean</th>\n",
       "      <td>7.427716e+17</td>\n",
       "      <td>7.455079e+17</td>\n",
       "      <td>2.014171e+16</td>\n",
       "      <td>7.720400e+17</td>\n",
       "      <td>1.241698e+16</td>\n",
       "      <td>13.126486</td>\n",
       "      <td>10.455433</td>\n",
       "    </tr>\n",
       "    <tr>\n",
       "      <th>std</th>\n",
       "      <td>6.856705e+16</td>\n",
       "      <td>7.582492e+16</td>\n",
       "      <td>1.252797e+17</td>\n",
       "      <td>6.236928e+16</td>\n",
       "      <td>9.599254e+16</td>\n",
       "      <td>45.876648</td>\n",
       "      <td>6.745237</td>\n",
       "    </tr>\n",
       "    <tr>\n",
       "      <th>min</th>\n",
       "      <td>6.660209e+17</td>\n",
       "      <td>6.658147e+17</td>\n",
       "      <td>1.185634e+07</td>\n",
       "      <td>6.661041e+17</td>\n",
       "      <td>7.832140e+05</td>\n",
       "      <td>0.000000</td>\n",
       "      <td>0.000000</td>\n",
       "    </tr>\n",
       "    <tr>\n",
       "      <th>25%</th>\n",
       "      <td>6.783989e+17</td>\n",
       "      <td>6.757419e+17</td>\n",
       "      <td>3.086374e+08</td>\n",
       "      <td>7.186315e+17</td>\n",
       "      <td>4.196984e+09</td>\n",
       "      <td>10.000000</td>\n",
       "      <td>10.000000</td>\n",
       "    </tr>\n",
       "    <tr>\n",
       "      <th>50%</th>\n",
       "      <td>7.196279e+17</td>\n",
       "      <td>7.038708e+17</td>\n",
       "      <td>4.196984e+09</td>\n",
       "      <td>7.804657e+17</td>\n",
       "      <td>4.196984e+09</td>\n",
       "      <td>11.000000</td>\n",
       "      <td>10.000000</td>\n",
       "    </tr>\n",
       "    <tr>\n",
       "      <th>75%</th>\n",
       "      <td>7.993373e+17</td>\n",
       "      <td>8.257804e+17</td>\n",
       "      <td>4.196984e+09</td>\n",
       "      <td>8.203146e+17</td>\n",
       "      <td>4.196984e+09</td>\n",
       "      <td>12.000000</td>\n",
       "      <td>10.000000</td>\n",
       "    </tr>\n",
       "    <tr>\n",
       "      <th>max</th>\n",
       "      <td>8.924206e+17</td>\n",
       "      <td>8.862664e+17</td>\n",
       "      <td>8.405479e+17</td>\n",
       "      <td>8.874740e+17</td>\n",
       "      <td>7.874618e+17</td>\n",
       "      <td>1776.000000</td>\n",
       "      <td>170.000000</td>\n",
       "    </tr>\n",
       "  </tbody>\n",
       "</table>\n",
       "</div>"
      ],
      "text/plain": [
       "           tweet_id  in_reply_to_status_id  in_reply_to_user_id  \\\n",
       "count  2.356000e+03           7.800000e+01         7.800000e+01   \n",
       "mean   7.427716e+17           7.455079e+17         2.014171e+16   \n",
       "std    6.856705e+16           7.582492e+16         1.252797e+17   \n",
       "min    6.660209e+17           6.658147e+17         1.185634e+07   \n",
       "25%    6.783989e+17           6.757419e+17         3.086374e+08   \n",
       "50%    7.196279e+17           7.038708e+17         4.196984e+09   \n",
       "75%    7.993373e+17           8.257804e+17         4.196984e+09   \n",
       "max    8.924206e+17           8.862664e+17         8.405479e+17   \n",
       "\n",
       "       retweeted_status_id  retweeted_status_user_id  rating_numerator  \\\n",
       "count         1.810000e+02              1.810000e+02       2356.000000   \n",
       "mean          7.720400e+17              1.241698e+16         13.126486   \n",
       "std           6.236928e+16              9.599254e+16         45.876648   \n",
       "min           6.661041e+17              7.832140e+05          0.000000   \n",
       "25%           7.186315e+17              4.196984e+09         10.000000   \n",
       "50%           7.804657e+17              4.196984e+09         11.000000   \n",
       "75%           8.203146e+17              4.196984e+09         12.000000   \n",
       "max           8.874740e+17              7.874618e+17       1776.000000   \n",
       "\n",
       "       rating_denominator  \n",
       "count         2356.000000  \n",
       "mean            10.455433  \n",
       "std              6.745237  \n",
       "min              0.000000  \n",
       "25%             10.000000  \n",
       "50%             10.000000  \n",
       "75%             10.000000  \n",
       "max            170.000000  "
      ]
     },
     "execution_count": 11,
     "metadata": {},
     "output_type": "execute_result"
    }
   ],
   "source": [
    "tweets.describe()"
   ]
  },
  {
   "cell_type": "code",
   "execution_count": 12,
   "metadata": {
    "scrolled": true
   },
   "outputs": [
    {
     "name": "stdout",
     "output_type": "stream",
     "text": [
      "there are 745 tweets with name has None value.\n",
      "there are 79 tweets with len(name) < 3 \n"
     ]
    },
    {
     "data": {
      "text/plain": [
       "a     55\n",
       "Bo     9\n",
       "an     7\n",
       "Mo     1\n",
       "Jo     1\n",
       "by     1\n",
       "O      1\n",
       "Ed     1\n",
       "my     1\n",
       "Al     1\n",
       "JD     1\n",
       "Name: name, dtype: int64"
      ]
     },
     "execution_count": 12,
     "metadata": {},
     "output_type": "execute_result"
    }
   ],
   "source": [
    "#findings for columns : 'name'\n",
    "\n",
    "print('there are {} tweets with name has None value.'.format(len(tweets[tweets['name'] == 'None'])))\n",
    "print('there are {} tweets with len(name) < 3 '.format(tweets[tweets['name'].str.len() < 3]['name'].count()))\n",
    "\n",
    "tweets[tweets['name'].str.len() < 3]['name'].value_counts()"
   ]
  },
  {
   "cell_type": "markdown",
   "metadata": {},
   "source": [
    "#### names retrived from text column\n",
    "\n",
    "tweet at index 775:  O'Malley\\\n",
    "tweet at index 820:  Al Cabone\\\n",
    "tweet at index 852:  Zoey\\\n",
    "tweet at index 1853:  Wylie\\\n",
    "tweet at index 1955:  Kip\\\n",
    "tweet at index 2034:  Jacob (Yacōb)\\\n",
    "tweet at index 2041:  JD (stands for \"just dog\")\\\n",
    "tweet at index 2066:  Rufus\\\n",
    "tweet at index 2116:  Spork\\\n",
    "tweet at index 2125:  Cherokee\\\n",
    "tweet at index 2128:  Hemry\\\n",
    "tweet at index 2146:  Alphred\\\n",
    "tweet at index 2161:  Alfredo\\\n",
    "tweet at index 2191:  Leroi\\\n",
    "tweet at index 2204:  Berta\\\n",
    "tweet at index 2218:  Chuk\\\n",
    "tweet at index 2235:  Alfonso\\\n",
    "tweet at index 2249:  Cheryl\\\n",
    "tweet at index 2255:  Jessiga\\\n",
    "tweet at index 2264:  Klint\\\n",
    "tweet at index 2273:  Kohl\\\n",
    "tweet at index 2287:  Daryl\\\n",
    "tweet at index 2304:  Pepe\\\n",
    "tweet at index 2311:  Octaviath\\\n",
    "tweet at index 2314:  Johm"
   ]
  },
  {
   "cell_type": "code",
   "execution_count": 13,
   "metadata": {},
   "outputs": [
    {
     "name": "stdout",
     "output_type": "stream",
     "text": [
      "there are 75 tweets with bad names.\n",
      "\n",
      "tweet at index 56:\n",
      " Here is a pupper approaching maximum borkdrive. Zooming at never before seen speeds. 14/10 paw-inspiring af \n",
      "(IG: puffie_the_chow) https://t.co/ghXBIIeQZF\n",
      "\n",
      "tweet at index 649:\n",
      " Here is a perfect example of someone who has their priorities in order. 13/10 for both owner and Forrest https://t.co/LRyMrU7Wfq\n",
      "\n",
      "tweet at index 759:\n",
      " RT @dog_rates: This is an East African Chalupa Seal. We only rate dogs. Please only send in dogs. Thank you... 10/10 https://t.co/iHe6liLwWR\n",
      "\n",
      "tweet at index 775:\n",
      " This is O'Malley. That is how he sleeps. Doesn't care what you think about it. 10/10 comfy af https://t.co/Pq150LeRaC\n",
      "\n",
      "tweet at index 801:\n",
      " Guys this is getting so out of hand. We only rate dogs. This is a Galapagos Speed Panda. Pls only send dogs... 10/10 https://t.co/8lpAGaZRFn\n",
      "\n",
      "tweet at index 820:\n",
      " Meet Al Cabone. He's a gangsta puppa. Rather h*ckin ruthless. Shows no mercy sometimes. 11/10 pet w extreme caution https://t.co/OUwWbEKOUV\n",
      "\n",
      "tweet at index 852:\n",
      " This is my dog. Her name is Zoey. She knows I've been rating other dogs. She's not happy. 13/10 no bias at all https://t.co/ep1NkYoiwB\n",
      "\n",
      "tweet at index 1002:\n",
      " This is a mighty rare blue-tailed hammer sherk. Human almost lost a limb trying to take these. Be careful guys. 8/10 https://t.co/TGenMeXreW\n",
      "\n",
      "tweet at index 1004:\n",
      " Viewer discretion is advised. This is a terrible attack in progress. Not even in water (tragic af). 4/10 bad sherk https://t.co/L3U0j14N5R\n",
      "\n",
      "tweet at index 1017:\n",
      " This is a carrot. We only rate dogs. Please only send in dogs. You all really should know this by now ...11/10 https://t.co/9e48aPrBm2\n",
      "\n",
      "tweet at index 1025:\n",
      " This is an Iraqi Speed Kangaroo. It is not a dog. Please only send in dogs. I'm very angry with all of you ...9/10 https://t.co/5qpBTTpgUt\n",
      "\n",
      "tweet at index 1049:\n",
      " This is a very rare Great Alaskan Bush Pupper. Hard to stumble upon without spooking. 12/10 would pet passionately https://t.co/xOBKCdpzaa\n",
      "\n",
      "tweet at index 1193:\n",
      " People please. This is a Deadly Mediterranean Plop T-Rex. We only rate dogs. Only send in dogs. Thanks you... 11/10 https://t.co/2ATDsgHD4n\n",
      "\n",
      "tweet at index 1207:\n",
      " This is a taco. We only rate dogs. Please only send in dogs. Dogs are what we rate. Not tacos. Thank you... 10/10 https://t.co/cxl6xGY8B9\n",
      "\n",
      "tweet at index 1340:\n",
      " Here is a heartbreaking scene of an incredible pupper being laid to rest. 10/10 RIP pupper https://t.co/81mvJ0rGRu\n",
      "\n",
      "tweet at index 1351:\n",
      " Here is a whole flock of puppers.  60/50 I'll take the lot https://t.co/9dpcw6MdWa\n",
      "\n",
      "tweet at index 1361:\n",
      " This is a Butternut Cumberfloof. It's not windy they just look like that. 11/10 back at it again with the red socks https://t.co/hMjzhdUHaW\n",
      "\n",
      "tweet at index 1362:\n",
      " This is an East African Chalupa Seal. We only rate dogs. Please only send in dogs. Thank you... 10/10 https://t.co/iHe6liLwWR\n",
      "\n",
      "tweet at index 1368:\n",
      " This is a Wild Tuscan Poofwiggle. Careful not to startle. Rare tongue slip. One eye magical. 12/10 would def pet https://t.co/4EnShAQjv6\n",
      "\n",
      "tweet at index 1382:\n",
      " \"Pupper is a present to world. Here is a bow for pupper.\" 12/10 precious as hell https://t.co/ItSsE92gCW\n",
      "\n",
      "tweet at index 1499:\n",
      " This is a rare Arctic Wubberfloof. Unamused by the happenings. No longer has the appetites. 12/10 would totally hug https://t.co/krvbacIX0N\n",
      "\n",
      "tweet at index 1527:\n",
      " Stop sending in lobsters. This is the final warning. We only rate dogs. Thank you... 9/10 https://t.co/B9ZXXKJYNx\n",
      "\n",
      "tweet at index 1603:\n",
      " This is the newly formed pupper a capella group. They're just starting out but I see tons of potential. 8/10 for all https://t.co/wbAcvFoNtn\n",
      "\n",
      "tweet at index 1724:\n",
      " This is by far the most coordinated series of pictures I was sent. Downright impressive in every way. 12/10 for all https://t.co/etzLo3sdZE\n",
      "\n",
      "tweet at index 1737:\n",
      " Guys this really needs to stop. We've been over this way too many times. This is a giraffe. We only rate dogs.. 7/10 https://t.co/yavgkHYPOC\n",
      "\n",
      "tweet at index 1785:\n",
      " This is a dog swinging. I really enjoyed it so I hope you all do as well. 11/10 https://t.co/Ozo9KHTRND\n",
      "\n",
      "tweet at index 1797:\n",
      " This is the happiest pupper I've ever seen. 10/10 would trade lives with https://t.co/ep8ATEJwRb\n",
      "\n",
      "tweet at index 1815:\n",
      " This is the saddest/sweetest/best picture I've been sent. 12/10 😢🐶 https://t.co/vQ2Lw1BLBF\n",
      "\n",
      "tweet at index 1853:\n",
      " This is a Sizzlin Menorah spaniel from Brooklyn named Wylie. Lovable eyes. Chiller as hell. 10/10 and I'm out.. poof https://t.co/7E0AiJXPmI\n",
      "\n",
      "tweet at index 1854:\n",
      " Seriously guys?! Only send in dogs. I only rate dogs. This is a baby black bear... 11/10 https://t.co/H7kpabTfLj\n",
      "\n",
      "tweet at index 1877:\n",
      " C'mon guys. We've been over this. We only rate dogs. This is a cow. Please only submit dogs. Thank you...... 9/10 https://t.co/WjcELNEqN2\n",
      "\n",
      "tweet at index 1878:\n",
      " This is a fluffy albino Bacardi Columbia mix. Excellent at the tweets. 11/10 would hug gently https://t.co/diboDRUuEI\n",
      "\n",
      "tweet at index 1923:\n",
      " This is a Sagitariot Baklava mix. Loves her new hat. 11/10 radiant pup https://t.co/Bko5kFJYUU\n",
      "\n",
      "tweet at index 1941:\n",
      " This is a heavily opinionated dog. Loves walls. Nobody knows how the hair works. Always ready for a kiss. 4/10 https://t.co/dFiaKZ9cDl\n",
      "\n",
      "tweet at index 1955:\n",
      " This is a Lofted Aphrodisiac Terrier named Kip. Big fan of bed n breakfasts. Fits perfectly. 10/10 would pet firmly https://t.co/gKlLpNzIl3\n",
      "\n",
      "tweet at index 1994:\n",
      " This is a baby Rand Paul. Curls for days. 11/10 would cuddle the hell out of https://t.co/xHXNaPAYRe\n",
      "\n",
      "tweet at index 2034:\n",
      " This is a Tuscaloosa Alcatraz named Jacob (Yacōb). Loves to sit in swing. Stellar tongue. 11/10 look at his feet https://t.co/2IslQ8ZSc7\n",
      "\n",
      "tweet at index 2037:\n",
      " This is the best thing I've ever seen so spread it like wildfire &amp; maybe we'll find the genius who created it. 13/10 https://t.co/q6RsuOVYwU\n",
      "\n",
      "tweet at index 2041:\n",
      " This is JD (stands for \"just dog\"). He's like Airbud but with trading card games instead of sports. 10/10 much skill https://t.co/zzueJV9jCF\n",
      "\n",
      "tweet at index 2066:\n",
      " This is a Helvetica Listerine named Rufus. This time Rufus will be ready for the UPS guy. He'll never expect it 9/10 https://t.co/34OhVhMkVr\n",
      "\n",
      "tweet at index 2116:\n",
      " This is a Deciduous Trimester mix named Spork. Only 1 ear works. No seat belt. Incredibly reckless. 9/10 still cute https://t.co/CtuJoLHiDo\n",
      "\n",
      "tweet at index 2125:\n",
      " This is a Rich Mahogany Seltzer named Cherokee. Just got destroyed by a snowball. Isn't very happy about it. 9/10 https://t.co/98ZBi6o4dj\n",
      "\n",
      "tweet at index 2128:\n",
      " This is a Speckled Cauliflower Yosemite named Hemry. He's terrified of intruder dog. Not one bit comfortable. 9/10 https://t.co/yV3Qgjh8iN\n",
      "\n",
      "tweet at index 2146:\n",
      " This is a spotted Lipitor Rumpelstiltskin named Alphred. He can't wait for the Turkey. 10/10 would pet really well https://t.co/6GUGO7azNX\n",
      "\n",
      "tweet at index 2153:\n",
      " This is a brave dog. Excellent free climber. Trying to get closer to God. Not very loyal though. Doesn't bark. 5/10 https://t.co/ODnILTr4QM\n",
      "\n",
      "tweet at index 2161:\n",
      " This is a Coriander Baton Rouge named Alfredo. Loves to cuddle with smaller well-dressed dog. 10/10 would hug lots https://t.co/eCRdwouKCl\n",
      "\n",
      "tweet at index 2191:\n",
      " This is a Slovakian Helter Skelter Feta named Leroi. Likes to skip on roofs. Good traction. Much balance. 10/10 wow! https://t.co/Dmy2mY2Qj5\n",
      "\n",
      "tweet at index 2198:\n",
      " This is a wild Toblerone from Papua New Guinea. Mouth always open. Addicted to hay. Acts blind. 7/10 handsome dog https://t.co/IGmVbz07tZ\n",
      "\n",
      "tweet at index 2204:\n",
      " This is an Irish Rigatoni terrier named Berta. Completely made of rope. No eyes. Quite large. Loves to dance. 10/10 https://t.co/EM5fDykrJg\n",
      "\n",
      "tweet at index 2211:\n",
      " Here is a horned dog. Much grace. Can jump over moons (dam!). Paws not soft. Bad at barking. 7/10 can still pet tho https://t.co/2Su7gmsnZm\n",
      "\n",
      "tweet at index 2212:\n",
      " Never forget this vine. You will not stop watching for at least 15 minutes. This is the second coveted.. 13/10 https://t.co/roqIxCvEB3\n",
      "\n",
      "tweet at index 2218:\n",
      " This is a Birmingham Quagmire named Chuk. Loves to relax and watch the game while sippin on that iced mocha. 10/10 https://t.co/HvNg9JWxFt\n",
      "\n",
      "tweet at index 2222:\n",
      " Here is a mother dog caring for her pups. Snazzy red mohawk. Doesn't wag tail. Pups look confused. Overall 4/10 https://t.co/YOHe6lf09m\n",
      "\n",
      "tweet at index 2235:\n",
      " This is a Trans Siberian Kellogg named Alfonso. Huge ass eyeballs. Actually Dobby from Harry Potter. 7/10 https://t.co/XpseHBlAAb\n",
      "\n",
      "tweet at index 2249:\n",
      " This is a Shotokon Macadamia mix named Cheryl. Sophisticated af. Looks like a disappointed librarian. Shh (lol) 9/10 https://t.co/J4GnJ5Swba\n",
      "\n",
      "tweet at index 2255:\n",
      " This is a rare Hungarian Pinot named Jessiga. She is either mid-stroke or got stuck in the washing machine. 8/10 https://t.co/ZU0i0KJyqD\n",
      "\n",
      "tweet at index 2264:\n",
      " This is a southwest Coriander named Klint. Hat looks expensive. Still on house arrest :(\n",
      "9/10 https://t.co/IQTOMqDUIe\n",
      "\n",
      "tweet at index 2273:\n",
      " This is a northern Wahoo named Kohl. He runs this town. Chases tumbleweeds. Draws gun wicked fast. 11/10 legendary https://t.co/J4vn2rOYFk\n",
      "\n",
      "tweet at index 2287:\n",
      " This is a Dasani Kingfisher from Maine. His name is Daryl. Daryl doesn't like being swallowed by a panda. 8/10 https://t.co/jpaeu6LNmW\n",
      "\n",
      "tweet at index 2304:\n",
      " This is a curly Ticonderoga named Pepe. No feet. Loves to jet ski. 11/10 would hug until forever https://t.co/cyDfaK8NBc\n",
      "\n",
      "tweet at index 2311:\n",
      " This is a purebred Bacardi named Octaviath. Can shoot spaghetti out of mouth. 10/10 https://t.co/uEvsGLOFHa\n",
      "\n",
      "tweet at index 2314:\n",
      " This is a golden Buckminsterfullerene named Johm. Drives trucks. Lumberjack (?). Enjoys wall. 8/10 would hug softly https://t.co/uQbZJM2DQB\n",
      "\n",
      "tweet at index 2327:\n",
      " This is a southern Vesuvius bumblegruff. Can drive a truck (wow). Made friends with 5 other nifty dogs (neat). 7/10 https://t.co/LopTBkKa8h\n",
      "\n",
      "tweet at index 2333:\n",
      " This is an extremely rare horned Parthenon. Not amused. Wears shoes. Overall very nice. 9/10 would pet aggressively https://t.co/QpRjllzWAL\n",
      "\n",
      "tweet at index 2334:\n"
     ]
    },
    {
     "name": "stdout",
     "output_type": "stream",
     "text": [
      " This is a funny dog. Weird toes. Won't come down. Loves branch. Refuses to eat his food. Hard to cuddle with. 3/10 https://t.co/IIXis0zta0\n",
      "\n",
      "tweet at index 2335:\n",
      " This is an Albanian 3 1/2 legged  Episcopalian. Loves well-polished hardwood flooring. Penis on the collar. 9/10 https://t.co/d9NcXFKwLv\n",
      "\n",
      "tweet at index 2345:\n",
      " This is the happiest dog you will ever see. Very committed owner. Nice couch. 10/10 https://t.co/RhUEAloehK\n",
      "\n",
      "tweet at index 2346:\n",
      " Here is the Rand Paul of retrievers folks! He's probably good at poker. Can drink beer (lol rad). 8/10 good dog https://t.co/pYAJkAe76p\n",
      "\n",
      "tweet at index 2347:\n",
      " My oh my. This is a rare blond Canadian terrier on wheels. Only $8.98. Rather docile. 9/10 very rare https://t.co/yWBqbrzy8O\n",
      "\n",
      "tweet at index 2348:\n",
      " Here is a Siberian heavily armored polar bear mix. Strong owner. 10/10 I would do unspeakable things to pet this dog https://t.co/rdivxLiqEt\n",
      "\n",
      "tweet at index 2349:\n",
      " This is an odd dog. Hard on the outside but loving on the inside. Petting still fun. Doesn't play catch well. 2/10 https://t.co/v5A4vzSDdc\n",
      "\n",
      "tweet at index 2350:\n",
      " This is a truly beautiful English Wilson Staff retriever. Has a nice phone. Privileged. 10/10 would trade lives with https://t.co/fvIbQfHjIe\n",
      "\n",
      "tweet at index 2352:\n",
      " This is a purebred Piers Morgan. Loves to Netflix and chill. Always looks like he forgot to unplug the iron. 6/10 https://t.co/DWnyCjf2mx\n",
      "\n",
      "tweet at index 2353:\n",
      " Here is a very happy pup. Big fan of well-maintained decks. Just look at that tongue. 9/10 would cuddle af https://t.co/y671yMhoiR\n",
      "\n",
      "tweet at index 2354:\n",
      " This is a western brown Mitsubishi terrier. Upset about leaf. Actually 2 dogs here. 7/10 would walk the shit out of https://t.co/r7mOb2m0UI\n"
     ]
    }
   ],
   "source": [
    "#findings for columns : 'name','text'\n",
    "bad_names_list = ['a','an','Al','JD','O','my','by','the']\n",
    "bad_names = tweets[tweets['name'].apply(lambda x:x in bad_names_list)]\n",
    "print('there are {} tweets with bad names.'.format(len(bad_names)))\n",
    "\n",
    "for i in bad_names.index:\n",
    "    print('\\ntweet at index {}:\\n'.format(i),tweets.loc[i,'text'])"
   ]
  },
  {
   "cell_type": "code",
   "execution_count": 14,
   "metadata": {
    "scrolled": true
   },
   "outputs": [
    {
     "name": "stdout",
     "output_type": "stream",
     "text": [
      "None     2259\n",
      "doggo      97\n",
      "Name: doggo, dtype: int64\n",
      "\n",
      "None       2346\n",
      "floofer      10\n",
      "Name: floofer, dtype: int64\n",
      "\n",
      "None      2099\n",
      "pupper     257\n",
      "Name: pupper, dtype: int64\n",
      "\n",
      "None     2326\n",
      "puppo      30\n",
      "Name: puppo, dtype: int64\n",
      "\n"
     ]
    }
   ],
   "source": [
    "#findings for columns : 'doggo' , 'floofer' , 'pupper' , 'puppo'\n",
    "\n",
    "print(tweets['doggo'].value_counts(),end='\\n\\n')\n",
    "print(tweets['floofer'].value_counts(),end='\\n\\n')\n",
    "print(tweets['pupper'].value_counts(),end='\\n\\n')\n",
    "print(tweets['puppo'].value_counts(),end='\\n\\n')"
   ]
  },
  {
   "cell_type": "code",
   "execution_count": 15,
   "metadata": {},
   "outputs": [
    {
     "name": "stdout",
     "output_type": "stream",
     "text": [
      "there are 1976 tweets that has (None) value all dog stage.\n"
     ]
    },
    {
     "data": {
      "text/html": [
       "<div>\n",
       "<style scoped>\n",
       "    .dataframe tbody tr th:only-of-type {\n",
       "        vertical-align: middle;\n",
       "    }\n",
       "\n",
       "    .dataframe tbody tr th {\n",
       "        vertical-align: top;\n",
       "    }\n",
       "\n",
       "    .dataframe thead th {\n",
       "        text-align: right;\n",
       "    }\n",
       "</style>\n",
       "<table border=\"1\" class=\"dataframe\">\n",
       "  <thead>\n",
       "    <tr style=\"text-align: right;\">\n",
       "      <th></th>\n",
       "      <th>tweet_id</th>\n",
       "      <th>in_reply_to_status_id</th>\n",
       "      <th>in_reply_to_user_id</th>\n",
       "      <th>timestamp</th>\n",
       "      <th>source</th>\n",
       "      <th>text</th>\n",
       "      <th>retweeted_status_id</th>\n",
       "      <th>retweeted_status_user_id</th>\n",
       "      <th>retweeted_status_timestamp</th>\n",
       "      <th>expanded_urls</th>\n",
       "      <th>rating_numerator</th>\n",
       "      <th>rating_denominator</th>\n",
       "      <th>name</th>\n",
       "      <th>doggo</th>\n",
       "      <th>floofer</th>\n",
       "      <th>pupper</th>\n",
       "      <th>puppo</th>\n",
       "    </tr>\n",
       "  </thead>\n",
       "  <tbody>\n",
       "    <tr>\n",
       "      <th>2168</th>\n",
       "      <td>669354382627049472</td>\n",
       "      <td>NaN</td>\n",
       "      <td>NaN</td>\n",
       "      <td>2015-11-25 03:18:15 +0000</td>\n",
       "      <td>&lt;a href=\"http://twitter.com/download/iphone\" r...</td>\n",
       "      <td>Meet Dug. Dug fucken loves peaches. 8/10 https...</td>\n",
       "      <td>NaN</td>\n",
       "      <td>NaN</td>\n",
       "      <td>NaN</td>\n",
       "      <td>https://twitter.com/dog_rates/status/669354382...</td>\n",
       "      <td>8</td>\n",
       "      <td>10</td>\n",
       "      <td>Dug</td>\n",
       "      <td>None</td>\n",
       "      <td>None</td>\n",
       "      <td>None</td>\n",
       "      <td>None</td>\n",
       "    </tr>\n",
       "    <tr>\n",
       "      <th>1256</th>\n",
       "      <td>710588934686908417</td>\n",
       "      <td>NaN</td>\n",
       "      <td>NaN</td>\n",
       "      <td>2016-03-17 22:09:38 +0000</td>\n",
       "      <td>&lt;a href=\"http://twitter.com/download/iphone\" r...</td>\n",
       "      <td>This is Beemo. He's a Chubberflop mix. 12/10 w...</td>\n",
       "      <td>NaN</td>\n",
       "      <td>NaN</td>\n",
       "      <td>NaN</td>\n",
       "      <td>https://twitter.com/dog_rates/status/710588934...</td>\n",
       "      <td>12</td>\n",
       "      <td>10</td>\n",
       "      <td>Beemo</td>\n",
       "      <td>None</td>\n",
       "      <td>None</td>\n",
       "      <td>None</td>\n",
       "      <td>None</td>\n",
       "    </tr>\n",
       "    <tr>\n",
       "      <th>2180</th>\n",
       "      <td>669000397445533696</td>\n",
       "      <td>NaN</td>\n",
       "      <td>NaN</td>\n",
       "      <td>2015-11-24 03:51:38 +0000</td>\n",
       "      <td>&lt;a href=\"http://twitter.com/download/iphone\" r...</td>\n",
       "      <td>Meet Terrance. He's being yelled at because he...</td>\n",
       "      <td>NaN</td>\n",
       "      <td>NaN</td>\n",
       "      <td>NaN</td>\n",
       "      <td>https://twitter.com/dog_rates/status/669000397...</td>\n",
       "      <td>11</td>\n",
       "      <td>10</td>\n",
       "      <td>Terrance</td>\n",
       "      <td>None</td>\n",
       "      <td>None</td>\n",
       "      <td>None</td>\n",
       "      <td>None</td>\n",
       "    </tr>\n",
       "    <tr>\n",
       "      <th>1414</th>\n",
       "      <td>698710712454139905</td>\n",
       "      <td>NaN</td>\n",
       "      <td>NaN</td>\n",
       "      <td>2016-02-14 03:29:49 +0000</td>\n",
       "      <td>&lt;a href=\"http://twitter.com/download/iphone\" r...</td>\n",
       "      <td>This is Cuddles. He's not entirely sure how do...</td>\n",
       "      <td>NaN</td>\n",
       "      <td>NaN</td>\n",
       "      <td>NaN</td>\n",
       "      <td>https://twitter.com/dog_rates/status/698710712...</td>\n",
       "      <td>10</td>\n",
       "      <td>10</td>\n",
       "      <td>Cuddles</td>\n",
       "      <td>None</td>\n",
       "      <td>None</td>\n",
       "      <td>None</td>\n",
       "      <td>None</td>\n",
       "    </tr>\n",
       "    <tr>\n",
       "      <th>1433</th>\n",
       "      <td>697463031882764288</td>\n",
       "      <td>NaN</td>\n",
       "      <td>NaN</td>\n",
       "      <td>2016-02-10 16:51:59 +0000</td>\n",
       "      <td>&lt;a href=\"http://twitter.com/download/iphone\" r...</td>\n",
       "      <td>Happy Wednesday here's a bucket of pups. 44/40...</td>\n",
       "      <td>NaN</td>\n",
       "      <td>NaN</td>\n",
       "      <td>NaN</td>\n",
       "      <td>https://twitter.com/dog_rates/status/697463031...</td>\n",
       "      <td>44</td>\n",
       "      <td>40</td>\n",
       "      <td>None</td>\n",
       "      <td>None</td>\n",
       "      <td>None</td>\n",
       "      <td>None</td>\n",
       "      <td>None</td>\n",
       "    </tr>\n",
       "  </tbody>\n",
       "</table>\n",
       "</div>"
      ],
      "text/plain": [
       "                tweet_id  in_reply_to_status_id  in_reply_to_user_id  \\\n",
       "2168  669354382627049472                    NaN                  NaN   \n",
       "1256  710588934686908417                    NaN                  NaN   \n",
       "2180  669000397445533696                    NaN                  NaN   \n",
       "1414  698710712454139905                    NaN                  NaN   \n",
       "1433  697463031882764288                    NaN                  NaN   \n",
       "\n",
       "                      timestamp  \\\n",
       "2168  2015-11-25 03:18:15 +0000   \n",
       "1256  2016-03-17 22:09:38 +0000   \n",
       "2180  2015-11-24 03:51:38 +0000   \n",
       "1414  2016-02-14 03:29:49 +0000   \n",
       "1433  2016-02-10 16:51:59 +0000   \n",
       "\n",
       "                                                 source  \\\n",
       "2168  <a href=\"http://twitter.com/download/iphone\" r...   \n",
       "1256  <a href=\"http://twitter.com/download/iphone\" r...   \n",
       "2180  <a href=\"http://twitter.com/download/iphone\" r...   \n",
       "1414  <a href=\"http://twitter.com/download/iphone\" r...   \n",
       "1433  <a href=\"http://twitter.com/download/iphone\" r...   \n",
       "\n",
       "                                                   text  retweeted_status_id  \\\n",
       "2168  Meet Dug. Dug fucken loves peaches. 8/10 https...                  NaN   \n",
       "1256  This is Beemo. He's a Chubberflop mix. 12/10 w...                  NaN   \n",
       "2180  Meet Terrance. He's being yelled at because he...                  NaN   \n",
       "1414  This is Cuddles. He's not entirely sure how do...                  NaN   \n",
       "1433  Happy Wednesday here's a bucket of pups. 44/40...                  NaN   \n",
       "\n",
       "      retweeted_status_user_id retweeted_status_timestamp  \\\n",
       "2168                       NaN                        NaN   \n",
       "1256                       NaN                        NaN   \n",
       "2180                       NaN                        NaN   \n",
       "1414                       NaN                        NaN   \n",
       "1433                       NaN                        NaN   \n",
       "\n",
       "                                          expanded_urls  rating_numerator  \\\n",
       "2168  https://twitter.com/dog_rates/status/669354382...                 8   \n",
       "1256  https://twitter.com/dog_rates/status/710588934...                12   \n",
       "2180  https://twitter.com/dog_rates/status/669000397...                11   \n",
       "1414  https://twitter.com/dog_rates/status/698710712...                10   \n",
       "1433  https://twitter.com/dog_rates/status/697463031...                44   \n",
       "\n",
       "      rating_denominator      name doggo floofer pupper puppo  \n",
       "2168                  10       Dug  None    None   None  None  \n",
       "1256                  10     Beemo  None    None   None  None  \n",
       "2180                  10  Terrance  None    None   None  None  \n",
       "1414                  10   Cuddles  None    None   None  None  \n",
       "1433                  40      None  None    None   None  None  "
      ]
     },
     "execution_count": 15,
     "metadata": {},
     "output_type": "execute_result"
    }
   ],
   "source": [
    "not_doggo = tweets['doggo']=='None'\n",
    "not_floofer = tweets['floofer']=='None'\n",
    "not_pupper = tweets['pupper']=='None'\n",
    "not_puppo = tweets['puppo']=='None'\n",
    "\n",
    "#len(tweets[not_doggo & not_floofer & not_pupper & not_puppo])\n",
    "print('there are {} tweets that has (None) value all dog stage.'.format(len(tweets[not_doggo & not_floofer & not_pupper & not_puppo])))\n",
    "\n",
    "tweets[not_doggo & not_floofer & not_pupper & not_puppo].sample(5)"
   ]
  },
  {
   "cell_type": "code",
   "execution_count": 16,
   "metadata": {},
   "outputs": [
    {
     "name": "stdout",
     "output_type": "stream",
     "text": [
      "there are 14 row with multiple dog_stage.\n"
     ]
    }
   ],
   "source": [
    "def multiple_dog_stage(row):\n",
    "    return (row['doggo'] != 'None' and row['floofer'] != 'None') or \\\n",
    "(row['doggo'] != 'None' and row['pupper'] != 'None') or \\\n",
    "(row['doggo'] != 'None' and row['puppo'] != 'None') or \\\n",
    "(row['floofer'] != 'None' and row['pupper'] != 'None') or \\\n",
    "(row['floofer'] != 'None' and row['puppo'] != 'None') or \\\n",
    "(row['pupper'] != 'None' and row['puppo'] != 'None')\n",
    "\n",
    "print('there are {} row with multiple dog_stage.'.format(tweets.apply(multiple_dog_stage ,axis =1).sum()))"
   ]
  },
  {
   "cell_type": "code",
   "execution_count": 17,
   "metadata": {},
   "outputs": [
    {
     "data": {
      "text/plain": [
       "10     2333\n",
       "11        3\n",
       "50        3\n",
       "80        2\n",
       "20        2\n",
       "7         1\n",
       "2         1\n",
       "16        1\n",
       "40        1\n",
       "0         1\n",
       "15        1\n",
       "90        1\n",
       "110       1\n",
       "120       1\n",
       "130       1\n",
       "150       1\n",
       "170       1\n",
       "70        1\n",
       "Name: rating_denominator, dtype: int64"
      ]
     },
     "execution_count": 17,
     "metadata": {},
     "output_type": "execute_result"
    }
   ],
   "source": [
    "#findings for columns : 'rating_denominator'\n",
    "\n",
    "tweets['rating_denominator'].value_counts().sort_values(ascending = False)"
   ]
  },
  {
   "cell_type": "code",
   "execution_count": 18,
   "metadata": {
    "scrolled": false
   },
   "outputs": [
    {
     "data": {
      "text/plain": [
       "12      558\n",
       "11      464\n",
       "10      461\n",
       "13      351\n",
       "9       158\n",
       "8       102\n",
       "7        55\n",
       "14       54\n",
       "5        37\n",
       "6        32\n",
       "3        19\n",
       "4        17\n",
       "1         9\n",
       "2         9\n",
       "420       2\n",
       "0         2\n",
       "15        2\n",
       "75        2\n",
       "121       1\n",
       "80        1\n",
       "204       1\n",
       "24        1\n",
       "143       1\n",
       "99        1\n",
       "45        1\n",
       "27        1\n",
       "17        1\n",
       "1776      1\n",
       "960       1\n",
       "666       1\n",
       "182       1\n",
       "26        1\n",
       "144       1\n",
       "88        1\n",
       "84        1\n",
       "165       1\n",
       "60        1\n",
       "50        1\n",
       "44        1\n",
       "20        1\n",
       "Name: rating_numerator, dtype: int64"
      ]
     },
     "execution_count": 18,
     "metadata": {},
     "output_type": "execute_result"
    }
   ],
   "source": [
    "#findings for columns : 'rating_numerator'\n",
    "\n",
    "tweets['rating_numerator'].value_counts().sort_values(ascending = False)"
   ]
  },
  {
   "cell_type": "markdown",
   "metadata": {},
   "source": [
    "#### rating retrived from text for tweets where rating_denominator < 10\n",
    "tweet at index 313: 13/10 \\\n",
    "tweet at index 516: no rating \\\n",
    "tweet at index 2335 : 9/10 "
   ]
  },
  {
   "cell_type": "code",
   "execution_count": 19,
   "metadata": {
    "scrolled": true
   },
   "outputs": [
    {
     "name": "stdout",
     "output_type": "stream",
     "text": [
      "there are 23 row with deniminator != 10\n",
      "there are 20 row with deniminator > 10\n",
      "there are 3 row with deniminator < 10\n",
      "\n",
      "tweet at index 313:\n",
      " @jonnysun @Lin_Manuel ok jomny I know you're excited but 960/00 isn't a valid rating, 13/10 is tho\n",
      "\n",
      "tweet at index 516:\n",
      " Meet Sam. She smiles 24/7 &amp; secretly aspires to be a reindeer. \n",
      "Keep Sam smiling by clicking and sharing this link:\n",
      "https://t.co/98tB8y7y7t https://t.co/LouL5vdvxx\n",
      "\n",
      "tweet at index 2335:\n",
      " This is an Albanian 3 1/2 legged  Episcopalian. Loves well-polished hardwood flooring. Penis on the collar. 9/10 https://t.co/d9NcXFKwLv\n"
     ]
    }
   ],
   "source": [
    "#findings for columns : 'rating_numerator','rating_denominator'\n",
    "\n",
    "print('there are {} row with deniminator != 10'.format(len(tweets[tweets['rating_denominator']!=10])))\n",
    "print('there are {} row with deniminator > 10'.format(len(tweets[tweets['rating_denominator']>10])))\n",
    "print('there are {} row with deniminator < 10'.format(len(tweets[tweets['rating_denominator'] < 10])))\n",
    "\n",
    "#tweets.loc[tweets['rating_denominator'] < 10]\n",
    "\n",
    "for i in tweets[tweets['rating_denominator'] < 10].index:\n",
    "    print('\\ntweet at index {}:\\n'.format(i),tweets.loc[i,'text'])\n"
   ]
  },
  {
   "cell_type": "code",
   "execution_count": 20,
   "metadata": {},
   "outputs": [
    {
     "data": {
      "text/html": [
       "<div>\n",
       "<style scoped>\n",
       "    .dataframe tbody tr th:only-of-type {\n",
       "        vertical-align: middle;\n",
       "    }\n",
       "\n",
       "    .dataframe tbody tr th {\n",
       "        vertical-align: top;\n",
       "    }\n",
       "\n",
       "    .dataframe thead th {\n",
       "        text-align: right;\n",
       "    }\n",
       "</style>\n",
       "<table border=\"1\" class=\"dataframe\">\n",
       "  <thead>\n",
       "    <tr style=\"text-align: right;\">\n",
       "      <th></th>\n",
       "      <th>tweet_id</th>\n",
       "      <th>in_reply_to_status_id</th>\n",
       "      <th>in_reply_to_user_id</th>\n",
       "      <th>timestamp</th>\n",
       "      <th>source</th>\n",
       "      <th>text</th>\n",
       "      <th>retweeted_status_id</th>\n",
       "      <th>retweeted_status_user_id</th>\n",
       "      <th>retweeted_status_timestamp</th>\n",
       "      <th>expanded_urls</th>\n",
       "      <th>rating_numerator</th>\n",
       "      <th>rating_denominator</th>\n",
       "      <th>name</th>\n",
       "      <th>doggo</th>\n",
       "      <th>floofer</th>\n",
       "      <th>pupper</th>\n",
       "      <th>puppo</th>\n",
       "    </tr>\n",
       "  </thead>\n",
       "  <tbody>\n",
       "  </tbody>\n",
       "</table>\n",
       "</div>"
      ],
      "text/plain": [
       "Empty DataFrame\n",
       "Columns: [tweet_id, in_reply_to_status_id, in_reply_to_user_id, timestamp, source, text, retweeted_status_id, retweeted_status_user_id, retweeted_status_timestamp, expanded_urls, rating_numerator, rating_denominator, name, doggo, floofer, pupper, puppo]\n",
       "Index: []"
      ]
     },
     "execution_count": 20,
     "metadata": {},
     "output_type": "execute_result"
    }
   ],
   "source": [
    "#findings in columns : timestamp\n",
    "# No tweets after '2017-08-02' to be dropped\n",
    "\n",
    "tweets[tweets['timestamp'] > '2017-08-02']"
   ]
  },
  {
   "cell_type": "markdown",
   "metadata": {},
   "source": [
    "### Assess imgs_predicts df\n",
    "- get info , stats about imgs_predicts df\n",
    "\n",
    "### findings:\n",
    "- Data Types:\n",
    "    - tweet_id needed to be string\n",
    "- images_predictions df has 324 row predicted not to be dogs in all three algorithms.\n",
    "- predictions and predictions_conf could be merged in just one column with the prediction algo with the heightest conf [tidiness]\n",
    "- there are 2075 entry in images_predictions while having 2356 entry in tweets archive [there will be missing data after join]"
   ]
  },
  {
   "cell_type": "code",
   "execution_count": 21,
   "metadata": {
    "scrolled": true
   },
   "outputs": [
    {
     "data": {
      "text/html": [
       "<div>\n",
       "<style scoped>\n",
       "    .dataframe tbody tr th:only-of-type {\n",
       "        vertical-align: middle;\n",
       "    }\n",
       "\n",
       "    .dataframe tbody tr th {\n",
       "        vertical-align: top;\n",
       "    }\n",
       "\n",
       "    .dataframe thead th {\n",
       "        text-align: right;\n",
       "    }\n",
       "</style>\n",
       "<table border=\"1\" class=\"dataframe\">\n",
       "  <thead>\n",
       "    <tr style=\"text-align: right;\">\n",
       "      <th></th>\n",
       "      <th>tweet_id</th>\n",
       "      <th>jpg_url</th>\n",
       "      <th>img_num</th>\n",
       "      <th>p1</th>\n",
       "      <th>p1_conf</th>\n",
       "      <th>p1_dog</th>\n",
       "      <th>p2</th>\n",
       "      <th>p2_conf</th>\n",
       "      <th>p2_dog</th>\n",
       "      <th>p3</th>\n",
       "      <th>p3_conf</th>\n",
       "      <th>p3_dog</th>\n",
       "    </tr>\n",
       "  </thead>\n",
       "  <tbody>\n",
       "    <tr>\n",
       "      <th>370</th>\n",
       "      <td>672975131468300288</td>\n",
       "      <td>https://pbs.twimg.com/media/CVbjRSIWsAElw2s.jpg</td>\n",
       "      <td>1</td>\n",
       "      <td>pug</td>\n",
       "      <td>0.836421</td>\n",
       "      <td>True</td>\n",
       "      <td>Brabancon_griffon</td>\n",
       "      <td>0.044668</td>\n",
       "      <td>True</td>\n",
       "      <td>French_bulldog</td>\n",
       "      <td>0.036570</td>\n",
       "      <td>True</td>\n",
       "    </tr>\n",
       "    <tr>\n",
       "      <th>1790</th>\n",
       "      <td>830097400375152640</td>\n",
       "      <td>https://pbs.twimg.com/media/C4UZLZLWYAA0dcs.jpg</td>\n",
       "      <td>4</td>\n",
       "      <td>toy_poodle</td>\n",
       "      <td>0.442713</td>\n",
       "      <td>True</td>\n",
       "      <td>Pomeranian</td>\n",
       "      <td>0.142073</td>\n",
       "      <td>True</td>\n",
       "      <td>Pekinese</td>\n",
       "      <td>0.125745</td>\n",
       "      <td>True</td>\n",
       "    </tr>\n",
       "    <tr>\n",
       "      <th>783</th>\n",
       "      <td>690015576308211712</td>\n",
       "      <td>https://pbs.twimg.com/media/CZNtgWhWkAAbq3W.jpg</td>\n",
       "      <td>2</td>\n",
       "      <td>malamute</td>\n",
       "      <td>0.949609</td>\n",
       "      <td>True</td>\n",
       "      <td>Siberian_husky</td>\n",
       "      <td>0.033084</td>\n",
       "      <td>True</td>\n",
       "      <td>Eskimo_dog</td>\n",
       "      <td>0.016663</td>\n",
       "      <td>True</td>\n",
       "    </tr>\n",
       "    <tr>\n",
       "      <th>1780</th>\n",
       "      <td>828650029636317184</td>\n",
       "      <td>https://pbs.twimg.com/media/C3_0yhCWEAETXj2.jpg</td>\n",
       "      <td>1</td>\n",
       "      <td>golden_retriever</td>\n",
       "      <td>0.649209</td>\n",
       "      <td>True</td>\n",
       "      <td>Chesapeake_Bay_retriever</td>\n",
       "      <td>0.198560</td>\n",
       "      <td>True</td>\n",
       "      <td>vizsla</td>\n",
       "      <td>0.056200</td>\n",
       "      <td>True</td>\n",
       "    </tr>\n",
       "    <tr>\n",
       "      <th>1912</th>\n",
       "      <td>853760880890318849</td>\n",
       "      <td>https://pbs.twimg.com/media/C9kq_bbVwAAuRZd.jpg</td>\n",
       "      <td>1</td>\n",
       "      <td>miniature_pinscher</td>\n",
       "      <td>0.292519</td>\n",
       "      <td>True</td>\n",
       "      <td>Chihuahua</td>\n",
       "      <td>0.120946</td>\n",
       "      <td>True</td>\n",
       "      <td>Rottweiler</td>\n",
       "      <td>0.119490</td>\n",
       "      <td>True</td>\n",
       "    </tr>\n",
       "  </tbody>\n",
       "</table>\n",
       "</div>"
      ],
      "text/plain": [
       "                tweet_id                                          jpg_url  \\\n",
       "370   672975131468300288  https://pbs.twimg.com/media/CVbjRSIWsAElw2s.jpg   \n",
       "1790  830097400375152640  https://pbs.twimg.com/media/C4UZLZLWYAA0dcs.jpg   \n",
       "783   690015576308211712  https://pbs.twimg.com/media/CZNtgWhWkAAbq3W.jpg   \n",
       "1780  828650029636317184  https://pbs.twimg.com/media/C3_0yhCWEAETXj2.jpg   \n",
       "1912  853760880890318849  https://pbs.twimg.com/media/C9kq_bbVwAAuRZd.jpg   \n",
       "\n",
       "      img_num                  p1   p1_conf  p1_dog                        p2  \\\n",
       "370         1                 pug  0.836421    True         Brabancon_griffon   \n",
       "1790        4          toy_poodle  0.442713    True                Pomeranian   \n",
       "783         2            malamute  0.949609    True            Siberian_husky   \n",
       "1780        1    golden_retriever  0.649209    True  Chesapeake_Bay_retriever   \n",
       "1912        1  miniature_pinscher  0.292519    True                 Chihuahua   \n",
       "\n",
       "       p2_conf  p2_dog              p3   p3_conf  p3_dog  \n",
       "370   0.044668    True  French_bulldog  0.036570    True  \n",
       "1790  0.142073    True        Pekinese  0.125745    True  \n",
       "783   0.033084    True      Eskimo_dog  0.016663    True  \n",
       "1780  0.198560    True          vizsla  0.056200    True  \n",
       "1912  0.120946    True      Rottweiler  0.119490    True  "
      ]
     },
     "execution_count": 21,
     "metadata": {},
     "output_type": "execute_result"
    }
   ],
   "source": [
    "imgs_predicts.sample(5)"
   ]
  },
  {
   "cell_type": "code",
   "execution_count": 22,
   "metadata": {},
   "outputs": [
    {
     "name": "stdout",
     "output_type": "stream",
     "text": [
      "<class 'pandas.core.frame.DataFrame'>\n",
      "RangeIndex: 2075 entries, 0 to 2074\n",
      "Data columns (total 12 columns):\n",
      " #   Column    Non-Null Count  Dtype  \n",
      "---  ------    --------------  -----  \n",
      " 0   tweet_id  2075 non-null   int64  \n",
      " 1   jpg_url   2075 non-null   object \n",
      " 2   img_num   2075 non-null   int64  \n",
      " 3   p1        2075 non-null   object \n",
      " 4   p1_conf   2075 non-null   float64\n",
      " 5   p1_dog    2075 non-null   bool   \n",
      " 6   p2        2075 non-null   object \n",
      " 7   p2_conf   2075 non-null   float64\n",
      " 8   p2_dog    2075 non-null   bool   \n",
      " 9   p3        2075 non-null   object \n",
      " 10  p3_conf   2075 non-null   float64\n",
      " 11  p3_dog    2075 non-null   bool   \n",
      "dtypes: bool(3), float64(3), int64(2), object(4)\n",
      "memory usage: 152.1+ KB\n"
     ]
    }
   ],
   "source": [
    "imgs_predicts.info()"
   ]
  },
  {
   "cell_type": "code",
   "execution_count": 23,
   "metadata": {
    "scrolled": true
   },
   "outputs": [
    {
     "data": {
      "text/plain": [
       "Index(['tweet_id', 'jpg_url', 'img_num', 'p1', 'p1_conf', 'p1_dog', 'p2',\n",
       "       'p2_conf', 'p2_dog', 'p3', 'p3_conf', 'p3_dog'],\n",
       "      dtype='object')"
      ]
     },
     "execution_count": 23,
     "metadata": {},
     "output_type": "execute_result"
    }
   ],
   "source": [
    "imgs_predicts.columns"
   ]
  },
  {
   "cell_type": "code",
   "execution_count": 24,
   "metadata": {},
   "outputs": [
    {
     "data": {
      "text/plain": [
       "0"
      ]
     },
     "execution_count": 24,
     "metadata": {},
     "output_type": "execute_result"
    }
   ],
   "source": [
    "#check imgs_predicts for duplicates\n",
    "\n",
    "imgs_predicts.duplicated().sum()"
   ]
  },
  {
   "cell_type": "code",
   "execution_count": 25,
   "metadata": {},
   "outputs": [
    {
     "data": {
      "text/plain": [
       "0"
      ]
     },
     "execution_count": 25,
     "metadata": {},
     "output_type": "execute_result"
    }
   ],
   "source": [
    "#check imgs_predicts for missing values\n",
    "\n",
    "imgs_predicts.isnull().sum().sum()"
   ]
  },
  {
   "cell_type": "code",
   "execution_count": 26,
   "metadata": {
    "scrolled": true
   },
   "outputs": [
    {
     "data": {
      "text/html": [
       "<div>\n",
       "<style scoped>\n",
       "    .dataframe tbody tr th:only-of-type {\n",
       "        vertical-align: middle;\n",
       "    }\n",
       "\n",
       "    .dataframe tbody tr th {\n",
       "        vertical-align: top;\n",
       "    }\n",
       "\n",
       "    .dataframe thead th {\n",
       "        text-align: right;\n",
       "    }\n",
       "</style>\n",
       "<table border=\"1\" class=\"dataframe\">\n",
       "  <thead>\n",
       "    <tr style=\"text-align: right;\">\n",
       "      <th></th>\n",
       "      <th>tweet_id</th>\n",
       "      <th>img_num</th>\n",
       "      <th>p1_conf</th>\n",
       "      <th>p2_conf</th>\n",
       "      <th>p3_conf</th>\n",
       "    </tr>\n",
       "  </thead>\n",
       "  <tbody>\n",
       "    <tr>\n",
       "      <th>count</th>\n",
       "      <td>2.075000e+03</td>\n",
       "      <td>2075.000000</td>\n",
       "      <td>2075.000000</td>\n",
       "      <td>2.075000e+03</td>\n",
       "      <td>2.075000e+03</td>\n",
       "    </tr>\n",
       "    <tr>\n",
       "      <th>mean</th>\n",
       "      <td>7.384514e+17</td>\n",
       "      <td>1.203855</td>\n",
       "      <td>0.594548</td>\n",
       "      <td>1.345886e-01</td>\n",
       "      <td>6.032417e-02</td>\n",
       "    </tr>\n",
       "    <tr>\n",
       "      <th>std</th>\n",
       "      <td>6.785203e+16</td>\n",
       "      <td>0.561875</td>\n",
       "      <td>0.271174</td>\n",
       "      <td>1.006657e-01</td>\n",
       "      <td>5.090593e-02</td>\n",
       "    </tr>\n",
       "    <tr>\n",
       "      <th>min</th>\n",
       "      <td>6.660209e+17</td>\n",
       "      <td>1.000000</td>\n",
       "      <td>0.044333</td>\n",
       "      <td>1.011300e-08</td>\n",
       "      <td>1.740170e-10</td>\n",
       "    </tr>\n",
       "    <tr>\n",
       "      <th>25%</th>\n",
       "      <td>6.764835e+17</td>\n",
       "      <td>1.000000</td>\n",
       "      <td>0.364412</td>\n",
       "      <td>5.388625e-02</td>\n",
       "      <td>1.622240e-02</td>\n",
       "    </tr>\n",
       "    <tr>\n",
       "      <th>50%</th>\n",
       "      <td>7.119988e+17</td>\n",
       "      <td>1.000000</td>\n",
       "      <td>0.588230</td>\n",
       "      <td>1.181810e-01</td>\n",
       "      <td>4.944380e-02</td>\n",
       "    </tr>\n",
       "    <tr>\n",
       "      <th>75%</th>\n",
       "      <td>7.932034e+17</td>\n",
       "      <td>1.000000</td>\n",
       "      <td>0.843855</td>\n",
       "      <td>1.955655e-01</td>\n",
       "      <td>9.180755e-02</td>\n",
       "    </tr>\n",
       "    <tr>\n",
       "      <th>max</th>\n",
       "      <td>8.924206e+17</td>\n",
       "      <td>4.000000</td>\n",
       "      <td>1.000000</td>\n",
       "      <td>4.880140e-01</td>\n",
       "      <td>2.734190e-01</td>\n",
       "    </tr>\n",
       "  </tbody>\n",
       "</table>\n",
       "</div>"
      ],
      "text/plain": [
       "           tweet_id      img_num      p1_conf       p2_conf       p3_conf\n",
       "count  2.075000e+03  2075.000000  2075.000000  2.075000e+03  2.075000e+03\n",
       "mean   7.384514e+17     1.203855     0.594548  1.345886e-01  6.032417e-02\n",
       "std    6.785203e+16     0.561875     0.271174  1.006657e-01  5.090593e-02\n",
       "min    6.660209e+17     1.000000     0.044333  1.011300e-08  1.740170e-10\n",
       "25%    6.764835e+17     1.000000     0.364412  5.388625e-02  1.622240e-02\n",
       "50%    7.119988e+17     1.000000     0.588230  1.181810e-01  4.944380e-02\n",
       "75%    7.932034e+17     1.000000     0.843855  1.955655e-01  9.180755e-02\n",
       "max    8.924206e+17     4.000000     1.000000  4.880140e-01  2.734190e-01"
      ]
     },
     "execution_count": 26,
     "metadata": {},
     "output_type": "execute_result"
    }
   ],
   "source": [
    "imgs_predicts.describe()"
   ]
  },
  {
   "cell_type": "code",
   "execution_count": 27,
   "metadata": {
    "scrolled": true
   },
   "outputs": [
    {
     "name": "stdout",
     "output_type": "stream",
     "text": [
      "images_predictions df has 324 row predicted not to be dogs in all three algorithms.\n"
     ]
    }
   ],
   "source": [
    "p1_not_dog = imgs_predicts['p1_dog'] == False\n",
    "p2_not_dog = imgs_predicts['p2_dog'] == False\n",
    "p3_not_dog = imgs_predicts['p3_dog'] == False\n",
    "\n",
    "#imgs_predicts[p1_not_dog & p2_not_dog & p3_not_dog].sample(5)\n",
    "\n",
    "print('images_predictions df has {} row predicted not to be dogs in all three algorithms.'.format(len(imgs_predicts[p1_not_dog & p2_not_dog & p3_not_dog])))"
   ]
  },
  {
   "cell_type": "markdown",
   "metadata": {},
   "source": [
    "### Assess api_info df\n",
    "- get info , stats about api_info df\n",
    "\n",
    "### findings:\n",
    "- Data Types:\n",
    "    - tweet_id needed to be string\n",
    "- the interesting columns are 'id', 'full_text', 'retweet_count', 'favorite_count'\n",
    "- there is 1 row with 0 retweet_count\n",
    "- there are 179 row with 0 favorite_count\n",
    "- there are 2354 entry in api_info while having 2356 entry in tweets archive [there will be missing data after join]"
   ]
  },
  {
   "cell_type": "code",
   "execution_count": 28,
   "metadata": {},
   "outputs": [
    {
     "data": {
      "text/html": [
       "<div>\n",
       "<style scoped>\n",
       "    .dataframe tbody tr th:only-of-type {\n",
       "        vertical-align: middle;\n",
       "    }\n",
       "\n",
       "    .dataframe tbody tr th {\n",
       "        vertical-align: top;\n",
       "    }\n",
       "\n",
       "    .dataframe thead th {\n",
       "        text-align: right;\n",
       "    }\n",
       "</style>\n",
       "<table border=\"1\" class=\"dataframe\">\n",
       "  <thead>\n",
       "    <tr style=\"text-align: right;\">\n",
       "      <th></th>\n",
       "      <th>id</th>\n",
       "      <th>full_text</th>\n",
       "      <th>retweet_count</th>\n",
       "      <th>favorite_count</th>\n",
       "    </tr>\n",
       "  </thead>\n",
       "  <tbody>\n",
       "    <tr>\n",
       "      <th>1834</th>\n",
       "      <td>676098748976615425</td>\n",
       "      <td>Extremely rare pup here. Very religious. Alway...</td>\n",
       "      <td>1623</td>\n",
       "      <td>3279</td>\n",
       "    </tr>\n",
       "    <tr>\n",
       "      <th>728</th>\n",
       "      <td>781955203444699136</td>\n",
       "      <td>This is Chipson. He weighed in at .3 ounces an...</td>\n",
       "      <td>3920</td>\n",
       "      <td>12357</td>\n",
       "    </tr>\n",
       "    <tr>\n",
       "      <th>2123</th>\n",
       "      <td>670361874861563904</td>\n",
       "      <td>This is a Rich Mahogany Seltzer named Cherokee...</td>\n",
       "      <td>71</td>\n",
       "      <td>344</td>\n",
       "    </tr>\n",
       "    <tr>\n",
       "      <th>2349</th>\n",
       "      <td>666049248165822465</td>\n",
       "      <td>Here we have a 1949 1st generation vulpix. Enj...</td>\n",
       "      <td>41</td>\n",
       "      <td>111</td>\n",
       "    </tr>\n",
       "    <tr>\n",
       "      <th>414</th>\n",
       "      <td>822647212903690241</td>\n",
       "      <td>RT @dog_rates: This is Paisley. She really wan...</td>\n",
       "      <td>7390</td>\n",
       "      <td>0</td>\n",
       "    </tr>\n",
       "  </tbody>\n",
       "</table>\n",
       "</div>"
      ],
      "text/plain": [
       "                      id                                          full_text  \\\n",
       "1834  676098748976615425  Extremely rare pup here. Very religious. Alway...   \n",
       "728   781955203444699136  This is Chipson. He weighed in at .3 ounces an...   \n",
       "2123  670361874861563904  This is a Rich Mahogany Seltzer named Cherokee...   \n",
       "2349  666049248165822465  Here we have a 1949 1st generation vulpix. Enj...   \n",
       "414   822647212903690241  RT @dog_rates: This is Paisley. She really wan...   \n",
       "\n",
       "      retweet_count  favorite_count  \n",
       "1834           1623            3279  \n",
       "728            3920           12357  \n",
       "2123             71             344  \n",
       "2349             41             111  \n",
       "414            7390               0  "
      ]
     },
     "execution_count": 28,
     "metadata": {},
     "output_type": "execute_result"
    }
   ],
   "source": [
    "api_info = api_info[['id', 'full_text', 'retweet_count', 'favorite_count']]\n",
    "api_info.sample(5)"
   ]
  },
  {
   "cell_type": "code",
   "execution_count": 29,
   "metadata": {
    "scrolled": true
   },
   "outputs": [
    {
     "name": "stdout",
     "output_type": "stream",
     "text": [
      "<class 'pandas.core.frame.DataFrame'>\n",
      "RangeIndex: 2354 entries, 0 to 2353\n",
      "Data columns (total 4 columns):\n",
      " #   Column          Non-Null Count  Dtype \n",
      "---  ------          --------------  ----- \n",
      " 0   id              2354 non-null   int64 \n",
      " 1   full_text       2354 non-null   object\n",
      " 2   retweet_count   2354 non-null   int64 \n",
      " 3   favorite_count  2354 non-null   int64 \n",
      "dtypes: int64(3), object(1)\n",
      "memory usage: 73.7+ KB\n"
     ]
    }
   ],
   "source": [
    "api_info.info()"
   ]
  },
  {
   "cell_type": "code",
   "execution_count": 30,
   "metadata": {},
   "outputs": [
    {
     "data": {
      "text/plain": [
       "0"
      ]
     },
     "execution_count": 30,
     "metadata": {},
     "output_type": "execute_result"
    }
   ],
   "source": [
    "# check data retrieved from api for duplicates\n",
    "\n",
    "api_info.duplicated().sum()"
   ]
  },
  {
   "cell_type": "code",
   "execution_count": 31,
   "metadata": {},
   "outputs": [
    {
     "data": {
      "text/plain": [
       "id                0\n",
       "full_text         0\n",
       "retweet_count     0\n",
       "favorite_count    0\n",
       "dtype: int64"
      ]
     },
     "execution_count": 31,
     "metadata": {},
     "output_type": "execute_result"
    }
   ],
   "source": [
    "# check data retrieved from api for missing values\n",
    "\n",
    "api_info.isnull().sum()"
   ]
  },
  {
   "cell_type": "code",
   "execution_count": 32,
   "metadata": {
    "scrolled": true
   },
   "outputs": [
    {
     "data": {
      "text/html": [
       "<div>\n",
       "<style scoped>\n",
       "    .dataframe tbody tr th:only-of-type {\n",
       "        vertical-align: middle;\n",
       "    }\n",
       "\n",
       "    .dataframe tbody tr th {\n",
       "        vertical-align: top;\n",
       "    }\n",
       "\n",
       "    .dataframe thead th {\n",
       "        text-align: right;\n",
       "    }\n",
       "</style>\n",
       "<table border=\"1\" class=\"dataframe\">\n",
       "  <thead>\n",
       "    <tr style=\"text-align: right;\">\n",
       "      <th></th>\n",
       "      <th>id</th>\n",
       "      <th>retweet_count</th>\n",
       "      <th>favorite_count</th>\n",
       "    </tr>\n",
       "  </thead>\n",
       "  <tbody>\n",
       "    <tr>\n",
       "      <th>count</th>\n",
       "      <td>2.354000e+03</td>\n",
       "      <td>2354.000000</td>\n",
       "      <td>2354.000000</td>\n",
       "    </tr>\n",
       "    <tr>\n",
       "      <th>mean</th>\n",
       "      <td>7.426978e+17</td>\n",
       "      <td>3164.797366</td>\n",
       "      <td>8080.968564</td>\n",
       "    </tr>\n",
       "    <tr>\n",
       "      <th>std</th>\n",
       "      <td>6.852812e+16</td>\n",
       "      <td>5284.770364</td>\n",
       "      <td>11814.771334</td>\n",
       "    </tr>\n",
       "    <tr>\n",
       "      <th>min</th>\n",
       "      <td>6.660209e+17</td>\n",
       "      <td>0.000000</td>\n",
       "      <td>0.000000</td>\n",
       "    </tr>\n",
       "    <tr>\n",
       "      <th>25%</th>\n",
       "      <td>6.783975e+17</td>\n",
       "      <td>624.500000</td>\n",
       "      <td>1415.000000</td>\n",
       "    </tr>\n",
       "    <tr>\n",
       "      <th>50%</th>\n",
       "      <td>7.194596e+17</td>\n",
       "      <td>1473.500000</td>\n",
       "      <td>3603.500000</td>\n",
       "    </tr>\n",
       "    <tr>\n",
       "      <th>75%</th>\n",
       "      <td>7.993058e+17</td>\n",
       "      <td>3652.000000</td>\n",
       "      <td>10122.250000</td>\n",
       "    </tr>\n",
       "    <tr>\n",
       "      <th>max</th>\n",
       "      <td>8.924206e+17</td>\n",
       "      <td>79515.000000</td>\n",
       "      <td>132810.000000</td>\n",
       "    </tr>\n",
       "  </tbody>\n",
       "</table>\n",
       "</div>"
      ],
      "text/plain": [
       "                 id  retweet_count  favorite_count\n",
       "count  2.354000e+03    2354.000000     2354.000000\n",
       "mean   7.426978e+17    3164.797366     8080.968564\n",
       "std    6.852812e+16    5284.770364    11814.771334\n",
       "min    6.660209e+17       0.000000        0.000000\n",
       "25%    6.783975e+17     624.500000     1415.000000\n",
       "50%    7.194596e+17    1473.500000     3603.500000\n",
       "75%    7.993058e+17    3652.000000    10122.250000\n",
       "max    8.924206e+17   79515.000000   132810.000000"
      ]
     },
     "execution_count": 32,
     "metadata": {},
     "output_type": "execute_result"
    }
   ],
   "source": [
    "api_info.describe()"
   ]
  },
  {
   "cell_type": "code",
   "execution_count": 33,
   "metadata": {},
   "outputs": [
    {
     "data": {
      "text/html": [
       "<div>\n",
       "<style scoped>\n",
       "    .dataframe tbody tr th:only-of-type {\n",
       "        vertical-align: middle;\n",
       "    }\n",
       "\n",
       "    .dataframe tbody tr th {\n",
       "        vertical-align: top;\n",
       "    }\n",
       "\n",
       "    .dataframe thead th {\n",
       "        text-align: right;\n",
       "    }\n",
       "</style>\n",
       "<table border=\"1\" class=\"dataframe\">\n",
       "  <thead>\n",
       "    <tr style=\"text-align: right;\">\n",
       "      <th></th>\n",
       "      <th>id</th>\n",
       "      <th>full_text</th>\n",
       "      <th>retweet_count</th>\n",
       "      <th>favorite_count</th>\n",
       "    </tr>\n",
       "  </thead>\n",
       "  <tbody>\n",
       "    <tr>\n",
       "      <th>31</th>\n",
       "      <td>886054160059072513</td>\n",
       "      <td>RT @Athletics: 12/10 #BATP https://t.co/WxwJmv...</td>\n",
       "      <td>108</td>\n",
       "      <td>0</td>\n",
       "    </tr>\n",
       "    <tr>\n",
       "      <th>35</th>\n",
       "      <td>885311592912609280</td>\n",
       "      <td>RT @dog_rates: This is Lilly. She just paralle...</td>\n",
       "      <td>19297</td>\n",
       "      <td>0</td>\n",
       "    </tr>\n",
       "    <tr>\n",
       "      <th>67</th>\n",
       "      <td>879130579576475649</td>\n",
       "      <td>RT @dog_rates: This is Emmy. She was adopted t...</td>\n",
       "      <td>7181</td>\n",
       "      <td>0</td>\n",
       "    </tr>\n",
       "    <tr>\n",
       "      <th>72</th>\n",
       "      <td>878404777348136964</td>\n",
       "      <td>RT @dog_rates: Meet Shadow. In an attempt to r...</td>\n",
       "      <td>1349</td>\n",
       "      <td>0</td>\n",
       "    </tr>\n",
       "    <tr>\n",
       "      <th>73</th>\n",
       "      <td>878316110768087041</td>\n",
       "      <td>RT @dog_rates: Meet Terrance. He's being yelle...</td>\n",
       "      <td>6965</td>\n",
       "      <td>0</td>\n",
       "    </tr>\n",
       "    <tr>\n",
       "      <th>...</th>\n",
       "      <td>...</td>\n",
       "      <td>...</td>\n",
       "      <td>...</td>\n",
       "      <td>...</td>\n",
       "    </tr>\n",
       "    <tr>\n",
       "      <th>1021</th>\n",
       "      <td>746521445350707200</td>\n",
       "      <td>RT @dog_rates: This is Shaggy. He knows exactl...</td>\n",
       "      <td>1110</td>\n",
       "      <td>0</td>\n",
       "    </tr>\n",
       "    <tr>\n",
       "      <th>1041</th>\n",
       "      <td>743835915802583040</td>\n",
       "      <td>RT @dog_rates: Extremely intelligent dog here....</td>\n",
       "      <td>2387</td>\n",
       "      <td>0</td>\n",
       "    </tr>\n",
       "    <tr>\n",
       "      <th>1240</th>\n",
       "      <td>711998809858043904</td>\n",
       "      <td>RT @twitter: @dog_rates Awesome Tweet! 12/10. ...</td>\n",
       "      <td>138</td>\n",
       "      <td>0</td>\n",
       "    </tr>\n",
       "    <tr>\n",
       "      <th>2257</th>\n",
       "      <td>667550904950915073</td>\n",
       "      <td>RT @dogratingrating: Exceptional talent. Origi...</td>\n",
       "      <td>37</td>\n",
       "      <td>0</td>\n",
       "    </tr>\n",
       "    <tr>\n",
       "      <th>2258</th>\n",
       "      <td>667550882905632768</td>\n",
       "      <td>RT @dogratingrating: Unoriginal idea. Blatant ...</td>\n",
       "      <td>34</td>\n",
       "      <td>0</td>\n",
       "    </tr>\n",
       "  </tbody>\n",
       "</table>\n",
       "<p>179 rows × 4 columns</p>\n",
       "</div>"
      ],
      "text/plain": [
       "                      id                                          full_text  \\\n",
       "31    886054160059072513  RT @Athletics: 12/10 #BATP https://t.co/WxwJmv...   \n",
       "35    885311592912609280  RT @dog_rates: This is Lilly. She just paralle...   \n",
       "67    879130579576475649  RT @dog_rates: This is Emmy. She was adopted t...   \n",
       "72    878404777348136964  RT @dog_rates: Meet Shadow. In an attempt to r...   \n",
       "73    878316110768087041  RT @dog_rates: Meet Terrance. He's being yelle...   \n",
       "...                  ...                                                ...   \n",
       "1021  746521445350707200  RT @dog_rates: This is Shaggy. He knows exactl...   \n",
       "1041  743835915802583040  RT @dog_rates: Extremely intelligent dog here....   \n",
       "1240  711998809858043904  RT @twitter: @dog_rates Awesome Tweet! 12/10. ...   \n",
       "2257  667550904950915073  RT @dogratingrating: Exceptional talent. Origi...   \n",
       "2258  667550882905632768  RT @dogratingrating: Unoriginal idea. Blatant ...   \n",
       "\n",
       "      retweet_count  favorite_count  \n",
       "31              108               0  \n",
       "35            19297               0  \n",
       "67             7181               0  \n",
       "72             1349               0  \n",
       "73             6965               0  \n",
       "...             ...             ...  \n",
       "1021           1110               0  \n",
       "1041           2387               0  \n",
       "1240            138               0  \n",
       "2257             37               0  \n",
       "2258             34               0  \n",
       "\n",
       "[179 rows x 4 columns]"
      ]
     },
     "execution_count": 33,
     "metadata": {},
     "output_type": "execute_result"
    }
   ],
   "source": [
    "#checking rows with min retweet_count , favorit_count\n",
    "\n",
    "#api_info[api_info['retweet_count']==0]\n",
    "api_info[api_info['favorite_count']==0 ]"
   ]
  },
  {
   "cell_type": "code",
   "execution_count": 34,
   "metadata": {},
   "outputs": [
    {
     "data": {
      "text/plain": [
       "0        179\n",
       "610        3\n",
       "345        3\n",
       "2918       3\n",
       "1691       3\n",
       "        ... \n",
       "33345      1\n",
       "814        1\n",
       "23108      1\n",
       "2630       1\n",
       "8143       1\n",
       "Name: favorite_count, Length: 2007, dtype: int64"
      ]
     },
     "execution_count": 34,
     "metadata": {},
     "output_type": "execute_result"
    }
   ],
   "source": [
    "api_info['favorite_count'].value_counts()"
   ]
  },
  {
   "cell_type": "markdown",
   "metadata": {},
   "source": [
    "### Quality\n",
    "\n",
    "#### `tweets` df\n",
    "- You only want original ratings (no retweets) that have images.\n",
    "    - retweets rows needed to be dropped (in fixing quality issues)\n",
    "    - tweets with no image neede to be dropped (in merge)\n",
    "- Retweet and Reply related columns needed to to dropped\n",
    "- Erroneous datatypes\n",
    "    - tweet_id needed to be string\n",
    "    - timestamp needed to be datetime\n",
    "- name column has entries with 'None' as value\n",
    "- name column has entries with bad names from list ['a','an','Al','JD','O','my','by','the'] and should be extracted from text or counted as missing name\n",
    "    - tweet at index 775: O'Malley\n",
    "    - tweet at index 820: Al Cabone\n",
    "    - tweet at index 852: Zoey\n",
    "    - tweet at index 1853: Wylie\n",
    "    - tweet at index 1955: Kip\n",
    "    - tweet at index 2034: Jacob (Yacōb)\n",
    "    - tweet at index 2041: JD (stands for \"just dog\")\n",
    "    - tweet at index 2066: Rufus\n",
    "    - tweet at index 2116: Spork\n",
    "    - tweet at index 2125: Cherokee\n",
    "    - tweet at index 2128: Hemry\n",
    "    - tweet at index 2146: Alphred\n",
    "    - tweet at index 2161: Alfredo\n",
    "    - tweet at index 2191: Leroi\n",
    "    - tweet at index 2204: Berta\n",
    "    - tweet at index 2218: Chuk\n",
    "    - tweet at index 2235: Alfonso\n",
    "    - tweet at index 2249: Cheryl\n",
    "    - tweet at index 2255: Jessiga\n",
    "    - tweet at index 2264: Klint\n",
    "    - tweet at index 2273: Kohl\n",
    "    - tweet at index 2287: Daryl\n",
    "    - tweet at index 2304: Pepe\n",
    "    - tweet at index 2311: Octaviath\n",
    "    - tweet at index 2314: Johm\n",
    "    \n",
    "- 'doggo' , 'floofer' , 'pupper' , 'puppo' columns have 'None' values and there are entries with None values combined in all dog stage.\n",
    "- rating_denominator column has values less than 10 [0,2,7] should be extracted from text\n",
    "    - tweet at index 313: 13/10\n",
    "    - tweet at index 516: no rating\n",
    "    - tweet at index 2335 : 9/10\n",
    "\n",
    "#### `imgs_predicts` df\n",
    "- Erroneous datatypes\n",
    "    - tweet_id needed to be string\n",
    "- df has entries predicted not to be dogs by all applied algorithms\n",
    "\n",
    "#### `api_info` df\n",
    "- api_info df has many columns needed to be dropped\n",
    "- Erroneous datatypes\n",
    "    - tweet_id needed to be string\n"
   ]
  },
  {
   "cell_type": "markdown",
   "metadata": {},
   "source": [
    "### Tidiness\n",
    "\n",
    "#### `tweets` df\n",
    "- text column should be splitted in two columns tweet_text ,tweet_url\n",
    "- doggo,floofer,pupper and puppo should be one column (dog stage) of type category.\n",
    "- rating_numerator, rating_denominator should be one column reflects rating_numerator/rating_denominator of type float.\n",
    "\n",
    "#### `imgs_predicts` df\n",
    "- prediction and prediction confifance should be one column reflects the heightest confidence\n",
    "\n",
    "#### `tweets` df , `imgs_predicts` df and `api_info` df could be merged in one df"
   ]
  },
  {
   "cell_type": "markdown",
   "metadata": {},
   "source": [
    "## Clean"
   ]
  },
  {
   "cell_type": "markdown",
   "metadata": {},
   "source": [
    "**work on copy of the original data frames**"
   ]
  },
  {
   "cell_type": "code",
   "execution_count": 35,
   "metadata": {},
   "outputs": [],
   "source": [
    "tweets_clean = tweets.copy()\n",
    "imgs_predicts_clean = imgs_predicts.copy()\n",
    "api_info_clean = api_info.copy()"
   ]
  },
  {
   "cell_type": "markdown",
   "metadata": {},
   "source": [
    "### Drop unneeded columns\n",
    "\n",
    "### Define\n",
    "\n",
    "#### `tweets_clean` df\n",
    "\n",
    "#### Quality Issue\n",
    "- interesting columns are: 'tweet_id', 'timestamp','text', 'rating_numerator', 'rating_denominator', 'name', 'doggo', 'floofer', 'pupper', 'puppo'\n",
    "\n",
    "#### `api_info_clean` df\n",
    "\n",
    "#### Quality Issue\n",
    "- interesting columns are 'id', 'retweet_count', 'favorite_count'\n",
    "\n",
    "#### Quality Issue\n",
    "- rename 'id' to 'tweet_id'\n",
    "    "
   ]
  },
  {
   "cell_type": "markdown",
   "metadata": {},
   "source": [
    "#### Code"
   ]
  },
  {
   "cell_type": "code",
   "execution_count": 36,
   "metadata": {},
   "outputs": [],
   "source": [
    "tweets_clean = tweets_clean[['tweet_id', 'timestamp','text', 'rating_numerator', 'rating_denominator', 'name', 'doggo', 'floofer', 'pupper', 'puppo']]\n",
    "api_info_clean = api_info_clean[['id', 'retweet_count', 'favorite_count']]\n",
    "api_info_clean.rename(columns={'id':'tweet_id'},inplace=True)"
   ]
  },
  {
   "cell_type": "markdown",
   "metadata": {},
   "source": [
    "#### Test"
   ]
  },
  {
   "cell_type": "code",
   "execution_count": 37,
   "metadata": {},
   "outputs": [
    {
     "name": "stdout",
     "output_type": "stream",
     "text": [
      "Index(['tweet_id', 'timestamp', 'text', 'rating_numerator',\n",
      "       'rating_denominator', 'name', 'doggo', 'floofer', 'pupper', 'puppo'],\n",
      "      dtype='object')\n",
      "\n",
      "Index(['tweet_id', 'retweet_count', 'favorite_count'], dtype='object')\n",
      "\n"
     ]
    }
   ],
   "source": [
    "print(tweets_clean.columns,end='\\n\\n')\n",
    "print(api_info_clean.columns,end='\\n\\n')"
   ]
  },
  {
   "cell_type": "markdown",
   "metadata": {},
   "source": [
    "### Erroneous datatypes\n",
    "\n",
    "### Define\n",
    "\n",
    "#### `tweets_clean` df\n",
    "\n",
    "#### Quality Issue\n",
    "- Erroneous datatypes\n",
    "    - tweet_id needed to be string\n",
    "    - timestamp needed to be datetime\n",
    "    \n",
    "#### `imgs_predicts_clean` df\n",
    "\n",
    "#### Quality Issue\n",
    "- Erroneous datatypes\n",
    "    - tweet_id needed to be string\n",
    "    \n",
    "#### `api_info_clean` df\n",
    "\n",
    "#### Quality Issue\n",
    "- Erroneous datatypes\n",
    "    - tweet_id needed to be string"
   ]
  },
  {
   "cell_type": "markdown",
   "metadata": {},
   "source": [
    "#### Code"
   ]
  },
  {
   "cell_type": "code",
   "execution_count": 38,
   "metadata": {},
   "outputs": [],
   "source": [
    "tweets_clean['tweet_id'] = tweets_clean['tweet_id'].astype(str)\n",
    "tweets_clean['timestamp'] = pd.to_datetime(tweets_clean['timestamp'])\n",
    "\n",
    "imgs_predicts_clean['tweet_id'] = imgs_predicts_clean['tweet_id'].astype(str)\n",
    "\n",
    "api_info_clean['tweet_id'] = api_info_clean['tweet_id'].astype(str)"
   ]
  },
  {
   "cell_type": "markdown",
   "metadata": {},
   "source": [
    "#### Test"
   ]
  },
  {
   "cell_type": "code",
   "execution_count": 39,
   "metadata": {},
   "outputs": [
    {
     "name": "stdout",
     "output_type": "stream",
     "text": [
      "Datatype For tweets_clean['tweet_id'] is object .\n",
      "Datatype For tweets_clean['timestamp'] is datetime64[ns, UTC] .\n",
      "Datatype For imgs_predicts_clean['tweet_id'] is object .\n",
      "Datatype For api_info_clean['tweet_id'] is object .\n"
     ]
    }
   ],
   "source": [
    "print('Datatype For tweets_clean[\\'tweet_id\\'] is {} .'.format(tweets_clean['tweet_id'].dtype))\n",
    "print('Datatype For tweets_clean[\\'timestamp\\'] is {} .'.format(tweets_clean['timestamp'].dtype) )\n",
    "print('Datatype For imgs_predicts_clean[\\'tweet_id\\'] is {} .'.format(imgs_predicts_clean['tweet_id'].dtype) )\n",
    "print('Datatype For api_info_clean[\\'tweet_id\\'] is {} .'.format(api_info_clean['tweet_id'].dtype) )"
   ]
  },
  {
   "cell_type": "markdown",
   "metadata": {},
   "source": [
    "### Tidiness"
   ]
  },
  {
   "cell_type": "markdown",
   "metadata": {},
   "source": [
    "### Difine\n",
    "\n",
    "#### Issue #1\n",
    "- text column should be splitted in two columns tweet_text ,tweet_url and drop the old text column"
   ]
  },
  {
   "cell_type": "markdown",
   "metadata": {},
   "source": [
    "#### Code"
   ]
  },
  {
   "cell_type": "code",
   "execution_count": 40,
   "metadata": {},
   "outputs": [],
   "source": [
    "tweets_clean['tweet_text']  = tweets_clean['text'].str.split('https',1, expand=True)[0]\n",
    "tweets_clean['tweet_url']  = 'https' + tweets_clean['text'].str.split('https',1, expand=True)[1]\n",
    "\n",
    "tweets_clean.drop('text',axis=1,inplace=True)"
   ]
  },
  {
   "cell_type": "markdown",
   "metadata": {},
   "source": [
    "#### Test"
   ]
  },
  {
   "cell_type": "code",
   "execution_count": 41,
   "metadata": {
    "scrolled": true
   },
   "outputs": [
    {
     "data": {
      "text/html": [
       "<div>\n",
       "<style scoped>\n",
       "    .dataframe tbody tr th:only-of-type {\n",
       "        vertical-align: middle;\n",
       "    }\n",
       "\n",
       "    .dataframe tbody tr th {\n",
       "        vertical-align: top;\n",
       "    }\n",
       "\n",
       "    .dataframe thead th {\n",
       "        text-align: right;\n",
       "    }\n",
       "</style>\n",
       "<table border=\"1\" class=\"dataframe\">\n",
       "  <thead>\n",
       "    <tr style=\"text-align: right;\">\n",
       "      <th></th>\n",
       "      <th>tweet_id</th>\n",
       "      <th>timestamp</th>\n",
       "      <th>rating_numerator</th>\n",
       "      <th>rating_denominator</th>\n",
       "      <th>name</th>\n",
       "      <th>doggo</th>\n",
       "      <th>floofer</th>\n",
       "      <th>pupper</th>\n",
       "      <th>puppo</th>\n",
       "      <th>tweet_text</th>\n",
       "      <th>tweet_url</th>\n",
       "    </tr>\n",
       "  </thead>\n",
       "  <tbody>\n",
       "    <tr>\n",
       "      <th>2205</th>\n",
       "      <td>668633411083464705</td>\n",
       "      <td>2015-11-23 03:33:22+00:00</td>\n",
       "      <td>10</td>\n",
       "      <td>10</td>\n",
       "      <td>Churlie</td>\n",
       "      <td>None</td>\n",
       "      <td>None</td>\n",
       "      <td>None</td>\n",
       "      <td>None</td>\n",
       "      <td>This is Churlie. He likes bagels. 10/10</td>\n",
       "      <td>https://t.co/k8P6FZlzAG</td>\n",
       "    </tr>\n",
       "    <tr>\n",
       "      <th>2345</th>\n",
       "      <td>666063827256086533</td>\n",
       "      <td>2015-11-16 01:22:45+00:00</td>\n",
       "      <td>10</td>\n",
       "      <td>10</td>\n",
       "      <td>the</td>\n",
       "      <td>None</td>\n",
       "      <td>None</td>\n",
       "      <td>None</td>\n",
       "      <td>None</td>\n",
       "      <td>This is the happiest dog you will ever see. Ve...</td>\n",
       "      <td>https://t.co/RhUEAloehK</td>\n",
       "    </tr>\n",
       "    <tr>\n",
       "      <th>874</th>\n",
       "      <td>761292947749015552</td>\n",
       "      <td>2016-08-04 20:09:17+00:00</td>\n",
       "      <td>11</td>\n",
       "      <td>10</td>\n",
       "      <td>Bonaparte</td>\n",
       "      <td>None</td>\n",
       "      <td>None</td>\n",
       "      <td>None</td>\n",
       "      <td>None</td>\n",
       "      <td>Meet Bonaparte. He's pupset because it's cloud...</td>\n",
       "      <td>https://t.co/0THNOfv2Jo</td>\n",
       "    </tr>\n",
       "    <tr>\n",
       "      <th>1047</th>\n",
       "      <td>743510151680958465</td>\n",
       "      <td>2016-06-16 18:26:48+00:00</td>\n",
       "      <td>13</td>\n",
       "      <td>10</td>\n",
       "      <td>Beya</td>\n",
       "      <td>None</td>\n",
       "      <td>None</td>\n",
       "      <td>None</td>\n",
       "      <td>None</td>\n",
       "      <td>This is Beya. She doesn't want to swim, so she...</td>\n",
       "      <td>https://t.co/qGeVjHSUKH</td>\n",
       "    </tr>\n",
       "    <tr>\n",
       "      <th>433</th>\n",
       "      <td>820690176645140481</td>\n",
       "      <td>2017-01-15 17:52:40+00:00</td>\n",
       "      <td>84</td>\n",
       "      <td>70</td>\n",
       "      <td>None</td>\n",
       "      <td>None</td>\n",
       "      <td>None</td>\n",
       "      <td>None</td>\n",
       "      <td>None</td>\n",
       "      <td>The floofs have been released I repeat the flo...</td>\n",
       "      <td>https://t.co/NIYC820tmd</td>\n",
       "    </tr>\n",
       "  </tbody>\n",
       "</table>\n",
       "</div>"
      ],
      "text/plain": [
       "                tweet_id                 timestamp  rating_numerator  \\\n",
       "2205  668633411083464705 2015-11-23 03:33:22+00:00                10   \n",
       "2345  666063827256086533 2015-11-16 01:22:45+00:00                10   \n",
       "874   761292947749015552 2016-08-04 20:09:17+00:00                11   \n",
       "1047  743510151680958465 2016-06-16 18:26:48+00:00                13   \n",
       "433   820690176645140481 2017-01-15 17:52:40+00:00                84   \n",
       "\n",
       "      rating_denominator       name doggo floofer pupper puppo  \\\n",
       "2205                  10    Churlie  None    None   None  None   \n",
       "2345                  10        the  None    None   None  None   \n",
       "874                   10  Bonaparte  None    None   None  None   \n",
       "1047                  10       Beya  None    None   None  None   \n",
       "433                   70       None  None    None   None  None   \n",
       "\n",
       "                                             tweet_text  \\\n",
       "2205           This is Churlie. He likes bagels. 10/10    \n",
       "2345  This is the happiest dog you will ever see. Ve...   \n",
       "874   Meet Bonaparte. He's pupset because it's cloud...   \n",
       "1047  This is Beya. She doesn't want to swim, so she...   \n",
       "433   The floofs have been released I repeat the flo...   \n",
       "\n",
       "                    tweet_url  \n",
       "2205  https://t.co/k8P6FZlzAG  \n",
       "2345  https://t.co/RhUEAloehK  \n",
       "874   https://t.co/0THNOfv2Jo  \n",
       "1047  https://t.co/qGeVjHSUKH  \n",
       "433   https://t.co/NIYC820tmd  "
      ]
     },
     "execution_count": 41,
     "metadata": {},
     "output_type": "execute_result"
    }
   ],
   "source": [
    "tweets_clean.sample(5)"
   ]
  },
  {
   "cell_type": "markdown",
   "metadata": {},
   "source": [
    "### Define\n",
    "\n",
    "#### Quality Issue\n",
    "- doggo,floofer,pupper and puppo have 'None' string as value should be replaced with np.nan\n",
    "\n",
    "#### Tidiness Issue #2\n",
    "- doggo,floofer,pupper and puppo should be one column (dog stage) of type category."
   ]
  },
  {
   "cell_type": "markdown",
   "metadata": {},
   "source": [
    "#### Code "
   ]
  },
  {
   "cell_type": "code",
   "execution_count": 42,
   "metadata": {
    "scrolled": true
   },
   "outputs": [],
   "source": [
    "tweets_clean['doggo'] = tweets_clean['doggo'].replace('None',np.nan)\n",
    "tweets_clean['floofer'] = tweets_clean['floofer'].replace('None',np.nan)\n",
    "tweets_clean['pupper'] = tweets_clean['pupper'].replace('None',np.nan)\n",
    "tweets_clean['puppo'] = tweets_clean['puppo'].replace('None',np.nan)"
   ]
  },
  {
   "cell_type": "markdown",
   "metadata": {},
   "source": [
    "#### Test"
   ]
  },
  {
   "cell_type": "code",
   "execution_count": 43,
   "metadata": {},
   "outputs": [
    {
     "name": "stdout",
     "output_type": "stream",
     "text": [
      "NaN      2259\n",
      "doggo      97\n",
      "Name: doggo, dtype: int64\n",
      "\n",
      "NaN        2346\n",
      "floofer      10\n",
      "Name: floofer, dtype: int64\n",
      "\n",
      "NaN       2099\n",
      "pupper     257\n",
      "Name: pupper, dtype: int64\n",
      "\n",
      "NaN      2326\n",
      "puppo      30\n",
      "Name: puppo, dtype: int64\n",
      "\n"
     ]
    }
   ],
   "source": [
    "print(tweets_clean['doggo'].value_counts(dropna=False),end='\\n\\n')\n",
    "print(tweets_clean['floofer'].value_counts(dropna=False),end='\\n\\n')\n",
    "print(tweets_clean['pupper'].value_counts(dropna=False),end='\\n\\n')\n",
    "print(tweets_clean['puppo'].value_counts(dropna=False),end='\\n\\n')"
   ]
  },
  {
   "cell_type": "code",
   "execution_count": 44,
   "metadata": {},
   "outputs": [],
   "source": [
    "def get_dog_stage(row):\n",
    "    stage = list()\n",
    "    if not pd.isnull(row['doggo']) :\n",
    "        stage.append('doggo')\n",
    "    if not pd.isnull(row['floofer']) :\n",
    "        stage.append('floofer')\n",
    "    if not pd.isnull(row['pupper']) :\n",
    "        stage.append('pupper')\n",
    "    if not pd.isnull(row['puppo']) :\n",
    "        stage.append('puppo')\n",
    "        \n",
    "    return ','.join(stage) if stage else np.nan\n",
    "\n",
    "tweets_clean['dog_stage'] = tweets_clean.apply(get_dog_stage , axis=1).astype('category')\n"
   ]
  },
  {
   "cell_type": "markdown",
   "metadata": {},
   "source": [
    "#### Test"
   ]
  },
  {
   "cell_type": "code",
   "execution_count": 45,
   "metadata": {},
   "outputs": [
    {
     "name": "stdout",
     "output_type": "stream",
     "text": [
      "NaN              1976\n",
      "pupper            245\n",
      "doggo              83\n",
      "puppo              29\n",
      "doggo,pupper       12\n",
      "floofer             9\n",
      "doggo,puppo         1\n",
      "doggo,floofer       1\n",
      "Name: dog_stage, dtype: int64\n",
      "\n"
     ]
    }
   ],
   "source": [
    "print(tweets_clean['dog_stage'].value_counts(dropna=False),end='\\n\\n')"
   ]
  },
  {
   "cell_type": "code",
   "execution_count": 46,
   "metadata": {},
   "outputs": [],
   "source": [
    "#remove dog_stage splitted columns\n",
    "\n",
    "tweets_clean.drop(columns=['doggo','floofer','pupper','puppo'],inplace=True)"
   ]
  },
  {
   "cell_type": "markdown",
   "metadata": {},
   "source": [
    "#### Test"
   ]
  },
  {
   "cell_type": "code",
   "execution_count": 47,
   "metadata": {},
   "outputs": [
    {
     "data": {
      "text/plain": [
       "Index(['tweet_id', 'timestamp', 'rating_numerator', 'rating_denominator',\n",
       "       'name', 'tweet_text', 'tweet_url', 'dog_stage'],\n",
       "      dtype='object')"
      ]
     },
     "execution_count": 47,
     "metadata": {},
     "output_type": "execute_result"
    }
   ],
   "source": [
    "tweets_clean.columns"
   ]
  },
  {
   "cell_type": "markdown",
   "metadata": {},
   "source": [
    "### Define\n",
    "\n",
    "#### Quality Issue\n",
    "- rating_denominator column has values less than 10 [0,2,7] should be extracted from text\n",
    "    - tweet at index 313: 13/10\n",
    "    - tweet at index 516: no rating\n",
    "    - tweet at index 2335 : 9/10\n",
    "\n",
    "#### Tidiness Issue #3\n",
    "- rating_numerator, rating_denominator should be one column reflects rating_numerator/rating_denominator of type float."
   ]
  },
  {
   "cell_type": "markdown",
   "metadata": {},
   "source": [
    "#### Code"
   ]
  },
  {
   "cell_type": "code",
   "execution_count": 48,
   "metadata": {
    "scrolled": true
   },
   "outputs": [],
   "source": [
    "tweets_clean.loc[313,['rating_numerator','rating_denominator']]=[13,10]\n",
    "tweets_clean.loc[516,['rating_numerator','rating_denominator']]=[np.nan,np.nan]\n",
    "tweets_clean.loc[2335,['rating_numerator','rating_denominator']]=[9,10]"
   ]
  },
  {
   "cell_type": "markdown",
   "metadata": {},
   "source": [
    "### Test"
   ]
  },
  {
   "cell_type": "code",
   "execution_count": 49,
   "metadata": {},
   "outputs": [
    {
     "name": "stdout",
     "output_type": "stream",
     "text": [
      "rating_numerator      13\n",
      "rating_denominator    10\n",
      "Name: 313, dtype: object\n",
      "\n",
      "rating_numerator      NaN\n",
      "rating_denominator    NaN\n",
      "Name: 516, dtype: object\n",
      "\n",
      "rating_numerator       9\n",
      "rating_denominator    10\n",
      "Name: 2335, dtype: object\n",
      "\n"
     ]
    }
   ],
   "source": [
    "print( tweets_clean.loc[313,['rating_numerator','rating_denominator']], end='\\n\\n')\n",
    "print( tweets_clean.loc[516,['rating_numerator','rating_denominator']], end='\\n\\n')\n",
    "print( tweets_clean.loc[2335,['rating_numerator','rating_denominator']], end='\\n\\n')"
   ]
  },
  {
   "cell_type": "code",
   "execution_count": 50,
   "metadata": {},
   "outputs": [],
   "source": [
    "tweets_clean['rating'] = tweets_clean['rating_numerator'] / tweets_clean['rating_denominator']"
   ]
  },
  {
   "cell_type": "markdown",
   "metadata": {},
   "source": [
    "#### Test"
   ]
  },
  {
   "cell_type": "code",
   "execution_count": 51,
   "metadata": {},
   "outputs": [
    {
     "data": {
      "text/html": [
       "<div>\n",
       "<style scoped>\n",
       "    .dataframe tbody tr th:only-of-type {\n",
       "        vertical-align: middle;\n",
       "    }\n",
       "\n",
       "    .dataframe tbody tr th {\n",
       "        vertical-align: top;\n",
       "    }\n",
       "\n",
       "    .dataframe thead th {\n",
       "        text-align: right;\n",
       "    }\n",
       "</style>\n",
       "<table border=\"1\" class=\"dataframe\">\n",
       "  <thead>\n",
       "    <tr style=\"text-align: right;\">\n",
       "      <th></th>\n",
       "      <th>rating</th>\n",
       "      <th>rating_numerator</th>\n",
       "      <th>rating_denominator</th>\n",
       "    </tr>\n",
       "  </thead>\n",
       "  <tbody>\n",
       "    <tr>\n",
       "      <th>2128</th>\n",
       "      <td>0.9</td>\n",
       "      <td>9.0</td>\n",
       "      <td>10.0</td>\n",
       "    </tr>\n",
       "    <tr>\n",
       "      <th>1144</th>\n",
       "      <td>0.9</td>\n",
       "      <td>9.0</td>\n",
       "      <td>10.0</td>\n",
       "    </tr>\n",
       "    <tr>\n",
       "      <th>2326</th>\n",
       "      <td>0.2</td>\n",
       "      <td>2.0</td>\n",
       "      <td>10.0</td>\n",
       "    </tr>\n",
       "    <tr>\n",
       "      <th>936</th>\n",
       "      <td>0.8</td>\n",
       "      <td>8.0</td>\n",
       "      <td>10.0</td>\n",
       "    </tr>\n",
       "    <tr>\n",
       "      <th>2246</th>\n",
       "      <td>0.2</td>\n",
       "      <td>2.0</td>\n",
       "      <td>10.0</td>\n",
       "    </tr>\n",
       "    <tr>\n",
       "      <th>2119</th>\n",
       "      <td>0.6</td>\n",
       "      <td>6.0</td>\n",
       "      <td>10.0</td>\n",
       "    </tr>\n",
       "    <tr>\n",
       "      <th>1921</th>\n",
       "      <td>0.9</td>\n",
       "      <td>9.0</td>\n",
       "      <td>10.0</td>\n",
       "    </tr>\n",
       "    <tr>\n",
       "      <th>1624</th>\n",
       "      <td>0.5</td>\n",
       "      <td>5.0</td>\n",
       "      <td>10.0</td>\n",
       "    </tr>\n",
       "    <tr>\n",
       "      <th>1583</th>\n",
       "      <td>0.5</td>\n",
       "      <td>5.0</td>\n",
       "      <td>10.0</td>\n",
       "    </tr>\n",
       "    <tr>\n",
       "      <th>1773</th>\n",
       "      <td>0.9</td>\n",
       "      <td>9.0</td>\n",
       "      <td>10.0</td>\n",
       "    </tr>\n",
       "  </tbody>\n",
       "</table>\n",
       "</div>"
      ],
      "text/plain": [
       "      rating  rating_numerator  rating_denominator\n",
       "2128     0.9               9.0                10.0\n",
       "1144     0.9               9.0                10.0\n",
       "2326     0.2               2.0                10.0\n",
       "936      0.8               8.0                10.0\n",
       "2246     0.2               2.0                10.0\n",
       "2119     0.6               6.0                10.0\n",
       "1921     0.9               9.0                10.0\n",
       "1624     0.5               5.0                10.0\n",
       "1583     0.5               5.0                10.0\n",
       "1773     0.9               9.0                10.0"
      ]
     },
     "execution_count": 51,
     "metadata": {},
     "output_type": "execute_result"
    }
   ],
   "source": [
    "tweets_clean.loc[tweets_clean['rating']< 1 ,['rating','rating_numerator','rating_denominator']].sample(10)"
   ]
  },
  {
   "cell_type": "code",
   "execution_count": 52,
   "metadata": {},
   "outputs": [
    {
     "data": {
      "text/html": [
       "<div>\n",
       "<style scoped>\n",
       "    .dataframe tbody tr th:only-of-type {\n",
       "        vertical-align: middle;\n",
       "    }\n",
       "\n",
       "    .dataframe tbody tr th {\n",
       "        vertical-align: top;\n",
       "    }\n",
       "\n",
       "    .dataframe thead th {\n",
       "        text-align: right;\n",
       "    }\n",
       "</style>\n",
       "<table border=\"1\" class=\"dataframe\">\n",
       "  <thead>\n",
       "    <tr style=\"text-align: right;\">\n",
       "      <th></th>\n",
       "      <th>rating</th>\n",
       "      <th>rating_numerator</th>\n",
       "    </tr>\n",
       "  </thead>\n",
       "  <tbody>\n",
       "    <tr>\n",
       "      <th>85</th>\n",
       "      <td>1.3</td>\n",
       "      <td>13.0</td>\n",
       "    </tr>\n",
       "    <tr>\n",
       "      <th>196</th>\n",
       "      <td>1.2</td>\n",
       "      <td>12.0</td>\n",
       "    </tr>\n",
       "    <tr>\n",
       "      <th>1299</th>\n",
       "      <td>1.2</td>\n",
       "      <td>12.0</td>\n",
       "    </tr>\n",
       "    <tr>\n",
       "      <th>186</th>\n",
       "      <td>1.4</td>\n",
       "      <td>14.0</td>\n",
       "    </tr>\n",
       "    <tr>\n",
       "      <th>1409</th>\n",
       "      <td>1.2</td>\n",
       "      <td>12.0</td>\n",
       "    </tr>\n",
       "    <tr>\n",
       "      <th>1640</th>\n",
       "      <td>1.2</td>\n",
       "      <td>12.0</td>\n",
       "    </tr>\n",
       "    <tr>\n",
       "      <th>910</th>\n",
       "      <td>1.2</td>\n",
       "      <td>12.0</td>\n",
       "    </tr>\n",
       "    <tr>\n",
       "      <th>1215</th>\n",
       "      <td>1.2</td>\n",
       "      <td>12.0</td>\n",
       "    </tr>\n",
       "    <tr>\n",
       "      <th>220</th>\n",
       "      <td>1.2</td>\n",
       "      <td>12.0</td>\n",
       "    </tr>\n",
       "    <tr>\n",
       "      <th>762</th>\n",
       "      <td>1.2</td>\n",
       "      <td>12.0</td>\n",
       "    </tr>\n",
       "  </tbody>\n",
       "</table>\n",
       "</div>"
      ],
      "text/plain": [
       "      rating  rating_numerator\n",
       "85       1.3              13.0\n",
       "196      1.2              12.0\n",
       "1299     1.2              12.0\n",
       "186      1.4              14.0\n",
       "1409     1.2              12.0\n",
       "1640     1.2              12.0\n",
       "910      1.2              12.0\n",
       "1215     1.2              12.0\n",
       "220      1.2              12.0\n",
       "762      1.2              12.0"
      ]
     },
     "execution_count": 52,
     "metadata": {},
     "output_type": "execute_result"
    }
   ],
   "source": [
    "tweets_clean.loc[tweets_clean['rating']> 1 ,['rating','rating_numerator',]].sample(10)"
   ]
  },
  {
   "cell_type": "code",
   "execution_count": 53,
   "metadata": {},
   "outputs": [],
   "source": [
    "tweets_clean.drop(columns=['rating_numerator','rating_denominator'],inplace=True)"
   ]
  },
  {
   "cell_type": "markdown",
   "metadata": {},
   "source": [
    "#### Test"
   ]
  },
  {
   "cell_type": "code",
   "execution_count": 54,
   "metadata": {},
   "outputs": [
    {
     "data": {
      "text/plain": [
       "Index(['tweet_id', 'timestamp', 'name', 'tweet_text', 'tweet_url', 'dog_stage',\n",
       "       'rating'],\n",
       "      dtype='object')"
      ]
     },
     "execution_count": 54,
     "metadata": {},
     "output_type": "execute_result"
    }
   ],
   "source": [
    "tweets_clean.columns"
   ]
  },
  {
   "cell_type": "code",
   "execution_count": 55,
   "metadata": {},
   "outputs": [
    {
     "name": "stdout",
     "output_type": "stream",
     "text": [
      "<class 'pandas.core.frame.DataFrame'>\n",
      "RangeIndex: 2356 entries, 0 to 2355\n",
      "Data columns (total 7 columns):\n",
      " #   Column      Non-Null Count  Dtype              \n",
      "---  ------      --------------  -----              \n",
      " 0   tweet_id    2356 non-null   object             \n",
      " 1   timestamp   2356 non-null   datetime64[ns, UTC]\n",
      " 2   name        2356 non-null   object             \n",
      " 3   tweet_text  2356 non-null   object             \n",
      " 4   tweet_url   2286 non-null   object             \n",
      " 5   dog_stage   380 non-null    category           \n",
      " 6   rating      2355 non-null   float64            \n",
      "dtypes: category(1), datetime64[ns, UTC](1), float64(1), object(4)\n",
      "memory usage: 113.2+ KB\n"
     ]
    }
   ],
   "source": [
    "tweets_clean.info()"
   ]
  },
  {
   "cell_type": "markdown",
   "metadata": {},
   "source": [
    "### Define\n",
    "\n",
    "#### Quality Issue\n",
    "- first we need to remove entries where all three algo. detected not to be dog\n",
    "\n",
    "#### tidiness Issue #4\n",
    "- prediction and prediction confidance should be one column reflects the heightest confidence and drop p1,p1_conf,p2,p2_conf,p3,p3_conf\n",
    "\n",
    "- take highest prediction confidance with the predict,is_dog as the needed values \n"
   ]
  },
  {
   "cell_type": "markdown",
   "metadata": {},
   "source": [
    "#### Code"
   ]
  },
  {
   "cell_type": "code",
   "execution_count": 56,
   "metadata": {
    "scrolled": false
   },
   "outputs": [],
   "source": [
    "# imgs_predicts_clean has 2075 observation ,and 324 observation predicted not dog by all three algorithms\n",
    "\n",
    "imgs_predicts_clean = imgs_predicts_clean[ (imgs_predicts_clean['p1_dog']==True) | (imgs_predicts_clean['p2_dog']==True) | (imgs_predicts_clean['p3_dog']==True)]\n"
   ]
  },
  {
   "cell_type": "markdown",
   "metadata": {},
   "source": [
    "#### Test"
   ]
  },
  {
   "cell_type": "code",
   "execution_count": 57,
   "metadata": {},
   "outputs": [
    {
     "data": {
      "text/plain": [
       "0"
      ]
     },
     "execution_count": 57,
     "metadata": {},
     "output_type": "execute_result"
    }
   ],
   "source": [
    "len(imgs_predicts_clean[ (imgs_predicts_clean['p1_dog']==False) & (imgs_predicts_clean['p2_dog']==False) & (imgs_predicts_clean['p3_dog']==False)])\n"
   ]
  },
  {
   "cell_type": "code",
   "execution_count": 58,
   "metadata": {},
   "outputs": [],
   "source": [
    "imgs_predicts_clean['predict_conf'] = imgs_predicts_clean[['p1_conf', 'p2_conf','p3_conf']].max(axis=1)\n",
    "\n",
    "def get_predict_based_conf(row):\n",
    "    if row['predict_conf'] == row['p1_conf'] :\n",
    "        return  pd.Series([row['p1'],row['p1_dog']])\n",
    "    if row['predict_conf'] == row['p2_conf'] :\n",
    "        return  pd.Series([row['p2'],row['p1_dog']])\n",
    "    if row['predict_conf'] == row['p3_conf'] :\n",
    "        return  pd.Series([row['p3'],row['p1_dog']])\n",
    "    \n",
    "imgs_predicts_clean[['predict','is_dog']]= imgs_predicts_clean.apply(get_predict_based_conf,axis=1)"
   ]
  },
  {
   "cell_type": "markdown",
   "metadata": {},
   "source": [
    "#### Test"
   ]
  },
  {
   "cell_type": "code",
   "execution_count": 59,
   "metadata": {},
   "outputs": [
    {
     "name": "stdout",
     "output_type": "stream",
     "text": [
      "<class 'pandas.core.frame.DataFrame'>\n",
      "Int64Index: 1751 entries, 0 to 2073\n",
      "Data columns (total 15 columns):\n",
      " #   Column        Non-Null Count  Dtype  \n",
      "---  ------        --------------  -----  \n",
      " 0   tweet_id      1751 non-null   object \n",
      " 1   jpg_url       1751 non-null   object \n",
      " 2   img_num       1751 non-null   int64  \n",
      " 3   p1            1751 non-null   object \n",
      " 4   p1_conf       1751 non-null   float64\n",
      " 5   p1_dog        1751 non-null   bool   \n",
      " 6   p2            1751 non-null   object \n",
      " 7   p2_conf       1751 non-null   float64\n",
      " 8   p2_dog        1751 non-null   bool   \n",
      " 9   p3            1751 non-null   object \n",
      " 10  p3_conf       1751 non-null   float64\n",
      " 11  p3_dog        1751 non-null   bool   \n",
      " 12  predict_conf  1751 non-null   float64\n",
      " 13  predict       1751 non-null   object \n",
      " 14  is_dog        1751 non-null   bool   \n",
      "dtypes: bool(4), float64(4), int64(1), object(6)\n",
      "memory usage: 171.0+ KB\n"
     ]
    }
   ],
   "source": [
    "imgs_predicts_clean.info()"
   ]
  },
  {
   "cell_type": "code",
   "execution_count": 60,
   "metadata": {},
   "outputs": [],
   "source": [
    "#drop unneeded columns\n",
    "\n",
    "imgs_predicts_clean.drop(columns=['p1','p1_conf','p1_dog','p2','p2_conf','p2_dog','p3','p3_conf','p3_dog'],inplace=True)"
   ]
  },
  {
   "cell_type": "markdown",
   "metadata": {},
   "source": [
    "#### Test"
   ]
  },
  {
   "cell_type": "code",
   "execution_count": 61,
   "metadata": {
    "scrolled": true
   },
   "outputs": [
    {
     "data": {
      "text/plain": [
       "Index(['tweet_id', 'jpg_url', 'img_num', 'predict_conf', 'predict', 'is_dog'], dtype='object')"
      ]
     },
     "execution_count": 61,
     "metadata": {},
     "output_type": "execute_result"
    }
   ],
   "source": [
    "imgs_predicts_clean.columns"
   ]
  },
  {
   "cell_type": "markdown",
   "metadata": {},
   "source": [
    "### Quality"
   ]
  },
  {
   "cell_type": "markdown",
   "metadata": {},
   "source": [
    "### Define\n",
    "#### Issue\n",
    "- retweets rows needed to be dropped\n",
    "\n",
    "**retweets identified by having 'RT @' in its' text column**"
   ]
  },
  {
   "cell_type": "markdown",
   "metadata": {},
   "source": [
    "#### Code"
   ]
  },
  {
   "cell_type": "code",
   "execution_count": 62,
   "metadata": {},
   "outputs": [],
   "source": [
    "tweets_clean = tweets_clean[~tweets_clean['tweet_text'].str.contains('RT @')]"
   ]
  },
  {
   "cell_type": "markdown",
   "metadata": {},
   "source": [
    "#### Test"
   ]
  },
  {
   "cell_type": "code",
   "execution_count": 63,
   "metadata": {},
   "outputs": [
    {
     "data": {
      "text/plain": [
       "0"
      ]
     },
     "execution_count": 63,
     "metadata": {},
     "output_type": "execute_result"
    }
   ],
   "source": [
    "len(tweets_clean[tweets_clean['tweet_text'].str.contains('RT @')])"
   ]
  },
  {
   "cell_type": "markdown",
   "metadata": {},
   "source": [
    "### Define\n",
    "\n",
    "#### Issue\n",
    "- name column has entries with 'None' string as value which should be replaced with np.nan"
   ]
  },
  {
   "cell_type": "markdown",
   "metadata": {},
   "source": [
    "#### Code"
   ]
  },
  {
   "cell_type": "code",
   "execution_count": 64,
   "metadata": {},
   "outputs": [],
   "source": [
    "tweets_clean['name'] = tweets_clean['name'].replace('None',np.nan)"
   ]
  },
  {
   "cell_type": "markdown",
   "metadata": {},
   "source": [
    "#### Test"
   ]
  },
  {
   "cell_type": "code",
   "execution_count": 65,
   "metadata": {},
   "outputs": [
    {
     "data": {
      "text/plain": [
       "0"
      ]
     },
     "execution_count": 65,
     "metadata": {},
     "output_type": "execute_result"
    }
   ],
   "source": [
    "len(tweets_clean[tweets_clean['name']=='None'])"
   ]
  },
  {
   "cell_type": "code",
   "execution_count": 66,
   "metadata": {},
   "outputs": [
    {
     "data": {
      "text/plain": [
       "NaN        680\n",
       "a           55\n",
       "Lucy        11\n",
       "Charlie     11\n",
       "Oliver      10\n",
       "          ... \n",
       "Chloe        1\n",
       "Odin         1\n",
       "such         1\n",
       "Bronte       1\n",
       "Wesley       1\n",
       "Name: name, Length: 956, dtype: int64"
      ]
     },
     "execution_count": 66,
     "metadata": {},
     "output_type": "execute_result"
    }
   ],
   "source": [
    "tweets_clean['name'].value_counts(dropna=False)"
   ]
  },
  {
   "cell_type": "markdown",
   "metadata": {},
   "source": [
    "### Define\n",
    "\n",
    "#### Issue\n",
    "- name column has entries with bad names from list ['a','an','Al','JD','O','my','by','the'] and should be extracted from text or counted as missing name\n",
    "    - tweet at index 775: O'Malley\n",
    "    - tweet at index 820: Al Cabone\n",
    "    - tweet at index 852: Zoey\n",
    "    - tweet at index 1853: Wylie\n",
    "    - tweet at index 1955: Kip\n",
    "    - tweet at index 2034: Jacob (Yacōb)\n",
    "    - tweet at index 2041: JD (stands for \"just dog\")\n",
    "    - tweet at index 2066: Rufus\n",
    "    - tweet at index 2116: Spork\n",
    "    - tweet at index 2125: Cherokee\n",
    "    - tweet at index 2128: Hemry\n",
    "    - tweet at index 2146: Alphred\n",
    "    - tweet at index 2161: Alfredo\n",
    "    - tweet at index 2191: Leroi\n",
    "    - tweet at index 2204: Berta\n",
    "    - tweet at index 2218: Chuk\n",
    "    - tweet at index 2235: Alfonso\n",
    "    - tweet at index 2249: Cheryl\n",
    "    - tweet at index 2255: Jessiga\n",
    "    - tweet at index 2264: Klint\n",
    "    - tweet at index 2273: Kohl\n",
    "    - tweet at index 2287: Daryl\n",
    "    - tweet at index 2304: Pepe\n",
    "    - tweet at index 2311: Octaviath\n",
    "    - tweet at index 2314: Johm"
   ]
  },
  {
   "cell_type": "markdown",
   "metadata": {},
   "source": [
    "#### Code"
   ]
  },
  {
   "cell_type": "code",
   "execution_count": 67,
   "metadata": {
    "scrolled": false
   },
   "outputs": [],
   "source": [
    "tweets_clean['name'] = tweets_clean['name'].replace(['a','an','Al','JD','O','my','by','the'],np.nan)\n",
    "tweets_clean.loc[775,'name'] = 'O\\'Malley'\n",
    "tweets_clean.loc[820,'name'] = 'Al Cabone'\n",
    "tweets_clean.loc[852,'name'] = 'Zoey'\n",
    "tweets_clean.loc[1853,'name'] = 'Wylie'\n",
    "tweets_clean.loc[1955,'name'] = 'Kip'\n",
    "tweets_clean.loc[2034,'name'] = 'Jacob (Yacōb)'\n",
    "tweets_clean.loc[2041,'name'] = 'JD'\n",
    "tweets_clean.loc[2066,'name'] = 'Rufus'\n",
    "tweets_clean.loc[2116,'name'] = 'Spork'\n",
    "tweets_clean.loc[2125,'name'] = 'Cherokee'\n",
    "tweets_clean.loc[2128,'name'] = 'Hemry'\n",
    "tweets_clean.loc[2146,'name'] = 'Alphred'\n",
    "tweets_clean.loc[2161,'name'] = 'Alfredo'\n",
    "tweets_clean.loc[2191,'name'] = 'Leroi'\n",
    "tweets_clean.loc[2204,'name'] = 'Berta'\n",
    "tweets_clean.loc[2218,'name'] = 'Chuk'\n",
    "tweets_clean.loc[2235,'name'] = 'Alfonso'\n",
    "tweets_clean.loc[2249,'name'] = 'Cheryl'\n",
    "tweets_clean.loc[2255,'name'] = 'Jessiga'\n",
    "tweets_clean.loc[2264,'name'] = 'Klint'\n",
    "tweets_clean.loc[2273,'name'] = 'Kohl'\n",
    "tweets_clean.loc[2287,'name'] = 'Daryl'\n",
    "tweets_clean.loc[2304,'name'] = 'Pepe'\n",
    "tweets_clean.loc[2311,'name'] = 'Octaviath'\n",
    "tweets_clean.loc[2314,'name'] = 'Johm'"
   ]
  },
  {
   "cell_type": "markdown",
   "metadata": {},
   "source": [
    "#### Test"
   ]
  },
  {
   "cell_type": "code",
   "execution_count": 68,
   "metadata": {
    "scrolled": true
   },
   "outputs": [
    {
     "data": {
      "text/plain": [
       "NaN          729\n",
       "Charlie       11\n",
       "Lucy          11\n",
       "Cooper        10\n",
       "Oliver        10\n",
       "            ... \n",
       "Bonaparte      1\n",
       "Quinn          1\n",
       "Willem         1\n",
       "Chloe          1\n",
       "Dylan          1\n",
       "Name: name, Length: 969, dtype: int64"
      ]
     },
     "execution_count": 68,
     "metadata": {},
     "output_type": "execute_result"
    }
   ],
   "source": [
    "tweets_clean['name'].value_counts(dropna=False)"
   ]
  },
  {
   "cell_type": "markdown",
   "metadata": {},
   "source": [
    "### Define\n",
    "\n",
    "#### tidiness Issue #5\n",
    "\n",
    "#### `tweets` df , `imgs_predicts` df and `api_info` df could be merged in one df"
   ]
  },
  {
   "cell_type": "markdown",
   "metadata": {},
   "source": [
    "#### Code"
   ]
  },
  {
   "cell_type": "code",
   "execution_count": 69,
   "metadata": {},
   "outputs": [],
   "source": [
    "tweets_clean = tweets_clean.merge(imgs_predicts_clean).merge(api_info_clean)"
   ]
  },
  {
   "cell_type": "markdown",
   "metadata": {},
   "source": [
    "#### Test"
   ]
  },
  {
   "cell_type": "code",
   "execution_count": 70,
   "metadata": {
    "scrolled": true
   },
   "outputs": [
    {
     "name": "stdout",
     "output_type": "stream",
     "text": [
      "<class 'pandas.core.frame.DataFrame'>\n",
      "Int64Index: 1686 entries, 0 to 1685\n",
      "Data columns (total 14 columns):\n",
      " #   Column          Non-Null Count  Dtype              \n",
      "---  ------          --------------  -----              \n",
      " 0   tweet_id        1686 non-null   object             \n",
      " 1   timestamp       1686 non-null   datetime64[ns, UTC]\n",
      " 2   name            1228 non-null   object             \n",
      " 3   tweet_text      1686 non-null   object             \n",
      " 4   tweet_url       1686 non-null   object             \n",
      " 5   dog_stage       260 non-null    category           \n",
      " 6   rating          1685 non-null   float64            \n",
      " 7   jpg_url         1686 non-null   object             \n",
      " 8   img_num         1686 non-null   int64              \n",
      " 9   predict_conf    1686 non-null   float64            \n",
      " 10  predict         1686 non-null   object             \n",
      " 11  is_dog          1686 non-null   bool               \n",
      " 12  retweet_count   1686 non-null   int64              \n",
      " 13  favorite_count  1686 non-null   int64              \n",
      "dtypes: bool(1), category(1), datetime64[ns, UTC](1), float64(2), int64(3), object(6)\n",
      "memory usage: 174.9+ KB\n"
     ]
    }
   ],
   "source": [
    "tweets_clean.info()"
   ]
  },
  {
   "cell_type": "markdown",
   "metadata": {},
   "source": [
    "### Save Cleaned Data"
   ]
  },
  {
   "cell_type": "code",
   "execution_count": 71,
   "metadata": {},
   "outputs": [],
   "source": [
    "tweets_clean.to_csv('twitter_archive_master.csv', index=False)"
   ]
  },
  {
   "cell_type": "markdown",
   "metadata": {},
   "source": [
    "### Insights and visualizations from cleaned data"
   ]
  },
  {
   "cell_type": "code",
   "execution_count": 72,
   "metadata": {},
   "outputs": [],
   "source": [
    "%matplotlib inline"
   ]
  },
  {
   "cell_type": "code",
   "execution_count": 73,
   "metadata": {
    "scrolled": false
   },
   "outputs": [
    {
     "data": {
      "text/html": [
       "<div>\n",
       "<style scoped>\n",
       "    .dataframe tbody tr th:only-of-type {\n",
       "        vertical-align: middle;\n",
       "    }\n",
       "\n",
       "    .dataframe tbody tr th {\n",
       "        vertical-align: top;\n",
       "    }\n",
       "\n",
       "    .dataframe thead th {\n",
       "        text-align: right;\n",
       "    }\n",
       "</style>\n",
       "<table border=\"1\" class=\"dataframe\">\n",
       "  <thead>\n",
       "    <tr style=\"text-align: right;\">\n",
       "      <th></th>\n",
       "      <th>rating</th>\n",
       "      <th>img_num</th>\n",
       "      <th>predict_conf</th>\n",
       "      <th>retweet_count</th>\n",
       "      <th>favorite_count</th>\n",
       "    </tr>\n",
       "  </thead>\n",
       "  <tbody>\n",
       "    <tr>\n",
       "      <th>count</th>\n",
       "      <td>1685.000000</td>\n",
       "      <td>1686.000000</td>\n",
       "      <td>1686.000000</td>\n",
       "      <td>1686.000000</td>\n",
       "      <td>1686.000000</td>\n",
       "    </tr>\n",
       "    <tr>\n",
       "      <th>mean</th>\n",
       "      <td>1.088044</td>\n",
       "      <td>1.215896</td>\n",
       "      <td>0.605150</td>\n",
       "      <td>2817.118031</td>\n",
       "      <td>9233.109727</td>\n",
       "    </tr>\n",
       "    <tr>\n",
       "      <th>std</th>\n",
       "      <td>0.243921</td>\n",
       "      <td>0.576191</td>\n",
       "      <td>0.266416</td>\n",
       "      <td>4807.199770</td>\n",
       "      <td>12583.246963</td>\n",
       "    </tr>\n",
       "    <tr>\n",
       "      <th>min</th>\n",
       "      <td>0.000000</td>\n",
       "      <td>1.000000</td>\n",
       "      <td>0.044333</td>\n",
       "      <td>16.000000</td>\n",
       "      <td>81.000000</td>\n",
       "    </tr>\n",
       "    <tr>\n",
       "      <th>25%</th>\n",
       "      <td>1.000000</td>\n",
       "      <td>1.000000</td>\n",
       "      <td>0.378746</td>\n",
       "      <td>649.250000</td>\n",
       "      <td>2163.250000</td>\n",
       "    </tr>\n",
       "    <tr>\n",
       "      <th>50%</th>\n",
       "      <td>1.100000</td>\n",
       "      <td>1.000000</td>\n",
       "      <td>0.606701</td>\n",
       "      <td>1437.500000</td>\n",
       "      <td>4440.000000</td>\n",
       "    </tr>\n",
       "    <tr>\n",
       "      <th>75%</th>\n",
       "      <td>1.200000</td>\n",
       "      <td>1.000000</td>\n",
       "      <td>0.851578</td>\n",
       "      <td>3247.750000</td>\n",
       "      <td>11656.750000</td>\n",
       "    </tr>\n",
       "    <tr>\n",
       "      <th>max</th>\n",
       "      <td>7.500000</td>\n",
       "      <td>4.000000</td>\n",
       "      <td>0.999984</td>\n",
       "      <td>79515.000000</td>\n",
       "      <td>132810.000000</td>\n",
       "    </tr>\n",
       "  </tbody>\n",
       "</table>\n",
       "</div>"
      ],
      "text/plain": [
       "            rating      img_num  predict_conf  retweet_count  favorite_count\n",
       "count  1685.000000  1686.000000   1686.000000    1686.000000     1686.000000\n",
       "mean      1.088044     1.215896      0.605150    2817.118031     9233.109727\n",
       "std       0.243921     0.576191      0.266416    4807.199770    12583.246963\n",
       "min       0.000000     1.000000      0.044333      16.000000       81.000000\n",
       "25%       1.000000     1.000000      0.378746     649.250000     2163.250000\n",
       "50%       1.100000     1.000000      0.606701    1437.500000     4440.000000\n",
       "75%       1.200000     1.000000      0.851578    3247.750000    11656.750000\n",
       "max       7.500000     4.000000      0.999984   79515.000000   132810.000000"
      ]
     },
     "execution_count": 73,
     "metadata": {},
     "output_type": "execute_result"
    }
   ],
   "source": [
    "tweets_clean.describe()"
   ]
  },
  {
   "cell_type": "markdown",
   "metadata": {},
   "source": [
    "### Insight :\n",
    "- Tweet with max retweet count is not the one with max favorite count \n",
    "- but there should be positive correlation between retweet_count and favorite_count"
   ]
  },
  {
   "cell_type": "code",
   "execution_count": 74,
   "metadata": {},
   "outputs": [
    {
     "name": "stdout",
     "output_type": "stream",
     "text": [
      "tweet with max retweet count : 744234799360020481\n",
      "tweet with max favorite count : 822872901745569793\n"
     ]
    }
   ],
   "source": [
    "print('tweet with max retweet count : {}'.format(tweets_clean.loc[tweets_clean['retweet_count'].idxmax() , 'tweet_id']))\n",
    "print('tweet with max favorite count : {}'.format(tweets_clean.loc[tweets_clean['favorite_count'].idxmax() , 'tweet_id']))"
   ]
  },
  {
   "cell_type": "markdown",
   "metadata": {},
   "source": [
    "#### Retweet Count and Favorite Count should have positive correlation"
   ]
  },
  {
   "cell_type": "code",
   "execution_count": 75,
   "metadata": {},
   "outputs": [
    {
     "data": {
      "image/png": "[encoded data removed]",
      "text/plain": [
       "<Figure size 432x288 with 1 Axes>"
      ]
     },
     "metadata": {
      "needs_background": "light"
     },
     "output_type": "display_data"
    }
   ],
   "source": [
    "plt.scatter(tweets_clean['favorite_count'],tweets_clean['retweet_count'])\n",
    "plt.xlabel('favorite_count')\n",
    "plt.ylabel('retweet_count')\n",
    "plt.title('Retweet Counts VS Favorite Count')\n",
    "plt.savefig('./plots/retweet_and_favorite_count.png')"
   ]
  },
  {
   "cell_type": "markdown",
   "metadata": {},
   "source": [
    "#### Insight :\n",
    "- Most tweets about pupper dogs"
   ]
  },
  {
   "cell_type": "code",
   "execution_count": 76,
   "metadata": {
    "scrolled": true
   },
   "outputs": [
    {
     "data": {
      "text/plain": [
       "pupper           168\n",
       "doggo             54\n",
       "puppo             21\n",
       "doggo,pupper       8\n",
       "floofer            7\n",
       "doggo,puppo        1\n",
       "doggo,floofer      1\n",
       "Name: dog_stage, dtype: int64"
      ]
     },
     "execution_count": 76,
     "metadata": {},
     "output_type": "execute_result"
    }
   ],
   "source": [
    "tweets_clean['dog_stage'].value_counts()"
   ]
  },
  {
   "cell_type": "code",
   "execution_count": 77,
   "metadata": {},
   "outputs": [
    {
     "data": {
      "image/png": "[encoded data removed]",
      "text/plain": [
       "<Figure size 432x288 with 1 Axes>"
      ]
     },
     "metadata": {
      "needs_background": "light"
     },
     "output_type": "display_data"
    }
   ],
   "source": [
    "labels = tweets_clean['dog_stage'].value_counts().sort_values(ascending=False).index\n",
    "\n",
    "plt.barh(range(7), tweets_clean['dog_stage'].value_counts().sort_values(ascending=False), tick_label=labels)\n",
    "plt.xlabel('Value Count')\n",
    "plt.ylabel('Dog Stages')\n",
    "plt.title('Most Tweets about pupper Dogs')\n",
    "plt.savefig('./plots/most_liked_dog_stage.png')"
   ]
  },
  {
   "cell_type": "markdown",
   "metadata": {},
   "source": [
    "#### Insight:\n",
    "- top 10 most common names for dogs"
   ]
  },
  {
   "cell_type": "code",
   "execution_count": 78,
   "metadata": {
    "scrolled": true
   },
   "outputs": [
    {
     "data": {
      "text/plain": [
       "Lucy       10\n",
       "Charlie    10\n",
       "Cooper     10\n",
       "Oliver      9\n",
       "Tucker      9\n",
       "Penny       8\n",
       "Daisy       7\n",
       "Winston     7\n",
       "Sadie       7\n",
       "Koda        6\n",
       "Name: name, dtype: int64"
      ]
     },
     "execution_count": 78,
     "metadata": {},
     "output_type": "execute_result"
    }
   ],
   "source": [
    "tweets_clean['name'].value_counts().sort_values(ascending = False).head(10)"
   ]
  },
  {
   "cell_type": "markdown",
   "metadata": {},
   "source": [
    "#### Insight : \n",
    "- Predict with heighest number of tweets belong to golden_retriever"
   ]
  },
  {
   "cell_type": "code",
   "execution_count": 79,
   "metadata": {
    "scrolled": true
   },
   "outputs": [
    {
     "data": {
      "text/plain": [
       "golden_retriever      139\n",
       "Labrador_retriever     95\n",
       "Pembroke               88\n",
       "Chihuahua              79\n",
       "pug                    54\n",
       "                     ... \n",
       "hyena                   1\n",
       "carton                  1\n",
       "guinea_pig              1\n",
       "timber_wolf             1\n",
       "space_heater            1\n",
       "Name: predict, Length: 214, dtype: int64"
      ]
     },
     "execution_count": 79,
     "metadata": {},
     "output_type": "execute_result"
    }
   ],
   "source": [
    "tweets_clean['predict'].value_counts().sort_values(ascending=False)"
   ]
  },
  {
   "cell_type": "code",
   "execution_count": 80,
   "metadata": {
    "scrolled": false
   },
   "outputs": [
    {
     "data": {
      "image/png": "[encoded data removed]",
      "text/plain": [
       "<Figure size 432x288 with 1 Axes>"
      ]
     },
     "metadata": {
      "needs_background": "light"
     },
     "output_type": "display_data"
    }
   ],
   "source": [
    "data = tweets_clean['predict'].value_counts().sort_values(ascending=False)\n",
    "\n",
    "plt.barh(range(10),data.head(10), tick_label=data.index[:10])\n",
    "plt.xlabel('Value Count')\n",
    "plt.ylabel('Dog Predicts')\n",
    "plt.savefig('./plots/common_dog_predict_tweets.png')"
   ]
  },
  {
   "cell_type": "code",
   "execution_count": 81,
   "metadata": {},
   "outputs": [
    {
     "data": {
      "text/plain": [
       "Index(['golden_retriever', 'Labrador_retriever', 'Pembroke', 'Chihuahua',\n",
       "       'pug', 'chow', 'Samoyed', 'toy_poodle', 'Pomeranian', 'malamute'],\n",
       "      dtype='object')"
      ]
     },
     "execution_count": 81,
     "metadata": {},
     "output_type": "execute_result"
    }
   ],
   "source": [
    "data.index[:10]"
   ]
  }
 ],
 "metadata": {
  "kernelspec": {
   "display_name": "Python 3",
   "language": "python",
   "name": "python3"
  },
  "language_info": {
   "codemirror_mode": {
    "name": "ipython",
    "version": 3
   },
   "file_extension": ".py",
   "mimetype": "text/x-python",
   "name": "python",
   "nbconvert_exporter": "python",
   "pygments_lexer": "ipython3",
   "version": "3.7.7"
  }
 },
 "nbformat": 4,
 "nbformat_minor": 4
}
